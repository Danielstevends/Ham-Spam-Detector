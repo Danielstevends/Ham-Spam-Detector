{
 "cells": [
  {
   "cell_type": "code",
   "execution_count": 1,
   "metadata": {
    "deletable": false,
    "editable": false
   },
   "outputs": [],
   "source": [
    "# Initialize Otter\n",
    "import otter\n",
    "grader = otter.Notebook(\"projB1.ipynb\")"
   ]
  },
  {
   "cell_type": "markdown",
   "metadata": {},
   "source": [
    "# Project B1: Spam/Ham Classification\n",
    "\n",
    "## Due Date: Thursday, November 16th at 11:59 PM\n",
    "You must submit this assignment to Gradescope by the on-time deadline, Thursday, November 16th at 11:59 PM. \n",
    "\n",
    "Please read the syllabus for the grace period policy. No late submissions beyond the grace period will be accepted. While course staff is happy to help you if you encounter difficulties with submission, we may not be able to respond to last-minute requests for assistance (TAs need to sleep, after all!). \n",
    "**We strongly encourage you to plan to submit your work to Gradescope several hours before the stated deadline.** \n",
    "This way, you will have ample time to reach out to staff for submission support.\n",
    "\n",
    "### Collaboration Policy\n",
    "\n",
    "Data science is a collaborative activity. While you may talk with others about this project, we ask that you **write your solutions individually**. If you do discuss the assignments with others please **include their names** in the collaborators cell below."
   ]
  },
  {
   "cell_type": "markdown",
   "metadata": {},
   "source": [
    "**Collaborators**: *list collaborators here*"
   ]
  },
  {
   "cell_type": "markdown",
   "metadata": {
    "nbgrader": {
     "grade": false,
     "grade_id": "proj2",
     "locked": true,
     "schema_version": 2,
     "solution": false
    }
   },
   "source": [
    "## Introduction\n",
    "You will use what you've learned in class to create a binary classifier that can distinguish spam (junk or commercial or bulk) emails from ham (regular non-spam) emails. In addition to providing some skeleton code to fill in, we will evaluate your work based on your model's accuracy and your written responses in this notebook.\n",
    "\n",
    "After this project, you should feel comfortable with the following:\n",
    "\n",
    "- Feature engineering with text data,\n",
    "- Using the `sklearn` library to process data and fit models, and\n",
    "- Validate the performance of your model and minimize overfitting.\n",
    "\n",
    "This first part of the project focuses on initial analysis, Feature Engineering, and Logistic Regression. In the second part of this project (to be released next week), you will build your own spam/ham classifier.\n",
    "\n",
    "## Content Warning\n",
    "This is a **real-world** dataset – the emails you are trying to classify are actual spam and legitimate emails. As a result, some of the spam emails may be in poor taste or be considered inappropriate. We think the benefit of working with realistic data outweighs these inappropriate emails and wanted to give a warning at the beginning of the project so that you are made aware.\n",
    "\n",
    "If you feel uncomfortable with this topic, **please contact your TA, the instructors, or reach out via the [extenuating circumstances form](https://docs.google.com/forms/d/e/1FAIpQLSffIhNMwsxP9Pd5l_9dzx_V4VffsNIOOjOexLT9VgUtmzw4AA/viewform).**"
   ]
  },
  {
   "cell_type": "code",
   "execution_count": 2,
   "metadata": {},
   "outputs": [
    {
     "name": "stdout",
     "output_type": "stream",
     "text": [
      "Note: you may need to restart the kernel to use updated packages.\n"
     ]
    }
   ],
   "source": [
    "# Run this cell to suppress all FutureWarnings.\n",
    "import warnings\n",
    "warnings.filterwarnings(\"ignore\", category=FutureWarning)\n",
    "\n",
    "# More readable exceptions.\n",
    "%pip install --quiet iwut\n",
    "%load_ext iwut\n",
    "%wut on"
   ]
  },
  {
   "cell_type": "markdown",
   "metadata": {},
   "source": [
    "## Grading\n",
    "Grading is broken down into autograded answers and free responses. \n",
    "\n",
    "For autograded answers, the results of your code are compared to provided and/or hidden tests.\n",
    "\n",
    "For free response, readers will evaluate how well you answered the question and/or fulfilled the requirements of the question.\n",
    "\n",
    "Question | Manual | Points\n",
    "----|----|----\n",
    "1 | Yes | 2\n",
    "2 | No | 3\n",
    "3 | Yes | 3\n",
    "4 | No | 2\n",
    "5 | No | 2\n",
    "6a | No | 1\n",
    "6b | No | 1\n",
    "6c | Yes | 2\n",
    "6d | No | 2\n",
    "6e | No | 1\n",
    "6f | Yes | 1\n",
    "6g | Yes | 1\n",
    "6h | Yes | 2\n",
    "Total | 6 | 23"
   ]
  },
  {
   "cell_type": "code",
   "execution_count": 3,
   "metadata": {
    "ExecuteTime": {
     "end_time": "2019-04-03T20:17:41.341673Z",
     "start_time": "2019-04-03T20:17:41.330307Z"
    },
    "nbgrader": {
     "grade": false,
     "grade_id": "imports",
     "locked": true,
     "schema_version": 2,
     "solution": false
    },
    "tags": []
   },
   "outputs": [],
   "source": [
    "import numpy as np\n",
    "import pandas as pd\n",
    "\n",
    "import matplotlib.pyplot as plt\n",
    "%matplotlib inline\n",
    "\n",
    "import seaborn as sns\n",
    "sns.set(style = \"whitegrid\", \n",
    "        color_codes = True,\n",
    "        font_scale = 1.5)"
   ]
  },
  {
   "cell_type": "markdown",
   "metadata": {
    "nbgrader": {
     "grade": false,
     "grade_id": "loading",
     "locked": true,
     "schema_version": 2,
     "solution": false
    }
   },
   "source": [
    "<br/><br/>\n",
    "<hr style=\"border: 5px solid #003262;\" />\n",
    "<hr style=\"border: 1px solid #fdb515;\" />\n",
    "\n",
    "# The Data\n",
    "\n",
    "In email classification, our goal is to classify emails as spam or not spam (referred to as \"ham\") using features generated from the text in the email. The dataset is from [SpamAssassin](https://spamassassin.apache.org/old/publiccorpus/). It consists of email messages and their labels (0 for ham, 1 for spam). Your labeled training dataset contains 8,348 labeled examples, and the unlabeled test set contains 1,000 unlabeled examples.\n",
    "\n",
    "**Note:** The dataset is from 2004, so the contents of emails might be very different from those in 2023.\n",
    "\n",
    "Run the following cells to load the data into a `DataFrame`.\n",
    "\n",
    "The `train` `DataFrame` contains labeled data you will use to train your model. It has four columns:\n",
    "\n",
    "1. `id`: An identifier for the training example.\n",
    "1. `subject`: The subject of the email.\n",
    "1. `email`: The text of the email.\n",
    "1. `spam`: 1 if the email is spam, 0 if the email is ham (not spam).\n",
    "\n",
    "The `test` `DataFrame` contains 1,000 unlabeled emails. In Project B2, you will predict labels for these emails and submit your predictions to the autograder for evaluation."
   ]
  },
  {
   "cell_type": "code",
   "execution_count": 4,
   "metadata": {},
   "outputs": [],
   "source": [
    "import zipfile\n",
    "with zipfile.ZipFile('spam_ham_data.zip') as item:\n",
    "    item.extractall()"
   ]
  },
  {
   "cell_type": "code",
   "execution_count": 5,
   "metadata": {},
   "outputs": [
    {
     "data": {
      "text/html": [
       "<div>\n",
       "<style scoped>\n",
       "    .dataframe tbody tr th:only-of-type {\n",
       "        vertical-align: middle;\n",
       "    }\n",
       "\n",
       "    .dataframe tbody tr th {\n",
       "        vertical-align: top;\n",
       "    }\n",
       "\n",
       "    .dataframe thead th {\n",
       "        text-align: right;\n",
       "    }\n",
       "</style>\n",
       "<table border=\"1\" class=\"dataframe\">\n",
       "  <thead>\n",
       "    <tr style=\"text-align: right;\">\n",
       "      <th></th>\n",
       "      <th>id</th>\n",
       "      <th>subject</th>\n",
       "      <th>email</th>\n",
       "      <th>spam</th>\n",
       "    </tr>\n",
       "  </thead>\n",
       "  <tbody>\n",
       "    <tr>\n",
       "      <th>0</th>\n",
       "      <td>0</td>\n",
       "      <td>Subject: A&amp;L Daily to be auctioned in bankrupt...</td>\n",
       "      <td>url: http://boingboing.net/#85534171\\n date: n...</td>\n",
       "      <td>0</td>\n",
       "    </tr>\n",
       "    <tr>\n",
       "      <th>1</th>\n",
       "      <td>1</td>\n",
       "      <td>Subject: Wired: \"Stronger ties between ISPs an...</td>\n",
       "      <td>url: http://scriptingnews.userland.com/backiss...</td>\n",
       "      <td>0</td>\n",
       "    </tr>\n",
       "    <tr>\n",
       "      <th>2</th>\n",
       "      <td>2</td>\n",
       "      <td>Subject: It's just too small                  ...</td>\n",
       "      <td>&lt;html&gt;\\n &lt;head&gt;\\n &lt;/head&gt;\\n &lt;body&gt;\\n &lt;font siz...</td>\n",
       "      <td>1</td>\n",
       "    </tr>\n",
       "    <tr>\n",
       "      <th>3</th>\n",
       "      <td>3</td>\n",
       "      <td>Subject: liberal defnitions\\n</td>\n",
       "      <td>depends on how much over spending vs. how much...</td>\n",
       "      <td>0</td>\n",
       "    </tr>\n",
       "    <tr>\n",
       "      <th>4</th>\n",
       "      <td>4</td>\n",
       "      <td>Subject: RE: [ILUG] Newbie seeks advice - Suse...</td>\n",
       "      <td>hehe sorry but if you hit caps lock twice the ...</td>\n",
       "      <td>0</td>\n",
       "    </tr>\n",
       "  </tbody>\n",
       "</table>\n",
       "</div>"
      ],
      "text/plain": [
       "   id                                            subject  \\\n",
       "0   0  Subject: A&L Daily to be auctioned in bankrupt...   \n",
       "1   1  Subject: Wired: \"Stronger ties between ISPs an...   \n",
       "2   2  Subject: It's just too small                  ...   \n",
       "3   3                      Subject: liberal defnitions\\n   \n",
       "4   4  Subject: RE: [ILUG] Newbie seeks advice - Suse...   \n",
       "\n",
       "                                               email  spam  \n",
       "0  url: http://boingboing.net/#85534171\\n date: n...     0  \n",
       "1  url: http://scriptingnews.userland.com/backiss...     0  \n",
       "2  <html>\\n <head>\\n </head>\\n <body>\\n <font siz...     1  \n",
       "3  depends on how much over spending vs. how much...     0  \n",
       "4  hehe sorry but if you hit caps lock twice the ...     0  "
      ]
     },
     "execution_count": 5,
     "metadata": {},
     "output_type": "execute_result"
    }
   ],
   "source": [
    "# Loading training and test datasets\n",
    "original_training_data = pd.read_csv('train.csv')\n",
    "test = pd.read_csv('test.csv')\n",
    "\n",
    "# Convert the emails to lowercase as the first step of text processing.\n",
    "original_training_data['email'] = original_training_data['email'].str.lower()\n",
    "test['email'] = test['email'].str.lower()\n",
    "\n",
    "original_training_data.head()"
   ]
  },
  {
   "cell_type": "markdown",
   "metadata": {
    "nbgrader": {
     "grade": false,
     "grade_id": "cell-34476156ed73b800",
     "locked": true,
     "schema_version": 2,
     "solution": false
    }
   },
   "source": [
    "<br/>\n",
    "\n",
    "First, let's check if our data contains any missing values. We have filled in the cell below to print the number of `NaN` values in each column. If there are `NaN` values, we replace them with appropriate filler values (i.e., `NaN` values in the `subject` or `email` columns will be replaced with empty strings). Finally, we print the number of `NaN` values in each column after this modification to verify that there are no `NaN` values left.\n",
    "\n",
    "**Note:** While there are no `NaN` values in the `spam` column, we should be careful when replacing `NaN` labels. Doing so without consideration may introduce significant bias into our model."
   ]
  },
  {
   "cell_type": "code",
   "execution_count": 6,
   "metadata": {
    "ExecuteTime": {
     "end_time": "2019-04-03T20:17:42.203231Z",
     "start_time": "2019-04-03T20:17:42.185104Z"
    },
    "nbgrader": {
     "grade": false,
     "grade_id": "cell-b1fb39d9b651ca1b",
     "locked": false,
     "schema_version": 2,
     "solution": true
    }
   },
   "outputs": [
    {
     "name": "stdout",
     "output_type": "stream",
     "text": [
      "Before imputation:\n",
      "id         0\n",
      "subject    6\n",
      "email      0\n",
      "spam       0\n",
      "dtype: int64\n",
      "------------\n",
      "After imputation:\n",
      "id         0\n",
      "subject    0\n",
      "email      0\n",
      "spam       0\n",
      "dtype: int64\n"
     ]
    }
   ],
   "source": [
    "print('Before imputation:')\n",
    "print(original_training_data.isnull().sum())\n",
    "original_training_data = original_training_data.fillna('')\n",
    "print('------------')\n",
    "print('After imputation:')\n",
    "print(original_training_data.isnull().sum())"
   ]
  },
  {
   "cell_type": "markdown",
   "metadata": {
    "nbgrader": {
     "grade": false,
     "grade_id": "q1",
     "locked": true,
     "schema_version": 2,
     "solution": false
    }
   },
   "source": [
    "<br/>\n",
    "<hr style=\"border: 1px solid #fdb515;\" />\n",
    "\n",
    "# Part 1: Initial Analysis\n",
    "\n",
    "In the cell below, we have printed the text of the `email` field for the first ham and the first spam email in the original training set."
   ]
  },
  {
   "cell_type": "code",
   "execution_count": 7,
   "metadata": {
    "ExecuteTime": {
     "end_time": "2019-04-03T20:17:42.247245Z",
     "start_time": "2019-04-03T20:17:42.228451Z"
    },
    "nbgrader": {
     "grade": false,
     "grade_id": "q1-answer",
     "locked": false,
     "schema_version": 2,
     "solution": true
    }
   },
   "outputs": [
    {
     "name": "stdout",
     "output_type": "stream",
     "text": [
      "Ham Email:\n",
      "url: http://boingboing.net/#85534171\n",
      " date: not supplied\n",
      " \n",
      " arts and letters daily, a wonderful and dense blog, has folded up its tent due \n",
      " to the bankruptcy of its parent company. a&l daily will be auctioned off by the \n",
      " receivers. link[1] discuss[2] (_thanks, misha!_)\n",
      " \n",
      " [1] http://www.aldaily.com/\n",
      " [2] http://www.quicktopic.com/boing/h/zlfterjnd6jf\n",
      " \n",
      " \n",
      "\n",
      "-------------------------------------------------\n",
      "Spam Email:\n",
      "<html>\n",
      " <head>\n",
      " </head>\n",
      " <body>\n",
      " <font size=3d\"4\"><b> a man endowed with a 7-8\" hammer is simply<br>\n",
      "  better equipped than a man with a 5-6\"hammer. <br>\n",
      " <br>would you rather have<br>more than enough to get the job done or fall =\n",
      " short. it's totally up<br>to you. our methods are guaranteed to increase y=\n",
      " our size by 1-3\"<br> <a href=3d\"http://209.163.187.47/cgi-bin/index.php?10=\n",
      " 004\">come in here and see how</a>\n",
      " </body>\n",
      " </html>\n",
      " \n",
      " \n",
      " \n",
      "\n"
     ]
    }
   ],
   "source": [
    "first_ham = original_training_data.loc[original_training_data['spam'] == 0, 'email'].iloc[0]\n",
    "first_spam = original_training_data.loc[original_training_data['spam'] == 1, 'email'].iloc[0]\n",
    "print(\"Ham Email:\")\n",
    "print(first_ham)\n",
    "print(\"-------------------------------------------------\")\n",
    "print(\"Spam Email:\")\n",
    "print(first_spam)"
   ]
  },
  {
   "cell_type": "markdown",
   "metadata": {
    "deletable": false,
    "editable": false
   },
   "source": [
    "<!-- BEGIN QUESTION -->\n",
    "\n",
    "<br>\n",
    "\n",
    "---\n",
    "\n",
    "## Question 1\n",
    "\n",
    "Discuss one attribute or characteristic you notice that is different between the two emails that might relate to the identification of a spam email."
   ]
  },
  {
   "cell_type": "raw",
   "metadata": {},
   "source": [
    "One big difference between the two emails is the html formating. Even though both emails are promotional email, the Spam email has html properties such as <html>, <head>, <body>.  Hereby, I could conclude that an apearance of html atributes may relate to the identification of a spam email."
   ]
  },
  {
   "cell_type": "markdown",
   "metadata": {
    "deletable": false,
    "editable": false,
    "nbgrader": {
     "grade": false,
     "grade_id": "cell-78513403ef52a957",
     "locked": true,
     "schema_version": 2,
     "solution": false
    }
   },
   "source": [
    "<!-- END QUESTION -->\n",
    "\n",
    "## Training-Validation Split\n",
    "The training data we downloaded is all the data we have available for both training models and **validating** the models that we train. We, therefore, need to split the training data into separate training and validation datasets. You will need this **validation data** to assess the performance of your classifier once you are finished training. Note that we set the seed (`random_state`) to 42. This will produce a pseudo-random sequence of random numbers that is the same for every student. **Do not modify this random seed in the following questions, as our tests depend on it.**"
   ]
  },
  {
   "cell_type": "code",
   "execution_count": 8,
   "metadata": {
    "ExecuteTime": {
     "end_time": "2019-04-03T20:17:42.317970Z",
     "start_time": "2019-04-03T20:17:42.294532Z"
    },
    "nbgrader": {
     "grade": false,
     "grade_id": "cell-873194ed3e686dfb",
     "locked": true,
     "schema_version": 2,
     "solution": false
    }
   },
   "outputs": [],
   "source": [
    "# This creates a 90/10 train-validation split on our labeled data.\n",
    "from sklearn.model_selection import train_test_split\n",
    "\n",
    "train, val = train_test_split(original_training_data, test_size = 0.1, random_state = 42)"
   ]
  },
  {
   "cell_type": "markdown",
   "metadata": {
    "nbgrader": {
     "grade": false,
     "grade_id": "feat-eng",
     "locked": true,
     "schema_version": 2,
     "solution": false
    }
   },
   "source": [
    "<br/>\n",
    "<hr style=\"border: 1px solid #fdb515;\" />\n",
    "\n",
    "# Part 2: Feature Engineering\n",
    "\n",
    "We want to take the text of an email and predict whether the email is ham or spam. This is a **binary classification** problem, so we can use logistic regression to train a classifier. Recall that to train a logistic regression model, we need a numeric feature matrix $\\mathbb{X}$ and a vector of corresponding binary labels $Y$. Unfortunately, our data are text, not numbers. To address this, we can create numeric features derived from the email text and use those features for logistic regression.\n",
    "\n",
    "Each row of $\\mathbb{X}$ is an email. Each column of $\\mathbb{X}$ contains one feature for all the emails. We'll guide you through creating a simple feature, and you'll create more interesting ones as you try to increase the accuracy of your model."
   ]
  },
  {
   "cell_type": "markdown",
   "metadata": {
    "deletable": false,
    "editable": false
   },
   "source": [
    "<br>\n",
    "\n",
    "---\n",
    "\n",
    "## Question 2\n",
    "\n",
    "Create a function `words_in_texts` that takes in a list of interesting words (`words`) and a `Series` of emails (`texts`). Our goal is to check if each word in `words` is contained in the emails in `texts`.\n",
    "\n",
    "The `words_in_texts` function should output a **2-dimensional `NumPy` array** that contains one row for each email in `texts` and one column for each word in `words`. If the $j$-th word in `words` is present at least once in the $i$-th email in `texts`, the output array should have a value of 1 at the position $(i, j)$. Otherwise, if the $j$-th word is not present in the $i$-th email, the value at $(i, j)$ should be 0.\n",
    "\n",
    "In Project B2, we will be applying `words_in_texts` to some large datasets, so implementing some form of vectorization (for example, using `NumPy` arrays, `Series.str` functions, etc.) is highly recommended. **You are allowed to use a single list comprehension or for loop**, but you should look into how you could combine that with the vectorized functions discussed above. \n",
    "\n",
    "For example:\n",
    "```\n",
    ">>> words_in_texts(['hello', 'bye', 'world'], \n",
    "                   pd.Series(['hello', 'hello worldhello']))\n",
    "\n",
    "array([[1, 0, 0],\n",
    "       [1, 0, 1]])\n",
    "```\n",
    "\n",
    "Importantly, we **do not** calculate the *number of occurrences* of each word; only if the word is present at least once. Take a moment to work through the example on your own if need be - understanding what the function does is a critical first step in implementing it.\n",
    "\n",
    "*The provided tests make sure that your function works correctly so that you can use it for future questions.*"
   ]
  },
  {
   "cell_type": "code",
   "execution_count": 9,
   "metadata": {
    "ExecuteTime": {
     "end_time": "2019-04-03T20:17:42.337281Z",
     "start_time": "2019-04-03T20:17:42.320567Z"
    },
    "nbgrader": {
     "grade": false,
     "grade_id": "q2-answer",
     "locked": false,
     "schema_version": 2,
     "solution": true
    },
    "tags": [
     "student"
    ]
   },
   "outputs": [],
   "source": [
    "def words_in_texts(words, texts):\n",
    "    \"\"\"\n",
    "    Args:\n",
    "        words (list): Words to find.\n",
    "        texts (Series): Strings to search in.\n",
    "    \n",
    "    Returns:\n",
    "        A 2D NumPy array of 0s and 1s with shape (n, d) where \n",
    "        n is the number of texts and d is the number of words.\n",
    "    \"\"\"\n",
    "    indicator_array = np.zeros((len(texts), len(words)), dtype=int)\n",
    "    \n",
    "    # Iterate through each word and update the indicator array\n",
    "    for i, word in enumerate(words):\n",
    "        indicator_array[:, i] = texts.str.contains(word).astype(int)\n",
    "    \n",
    "    return indicator_array"
   ]
  },
  {
   "cell_type": "code",
   "execution_count": 10,
   "metadata": {
    "deletable": false,
    "editable": false
   },
   "outputs": [
    {
     "data": {
      "text/html": [
       "<p><strong><pre style='display: inline;'>q2</pre></strong> passed! 💯</p>"
      ],
      "text/plain": [
       "q2 results: All test cases passed!"
      ]
     },
     "execution_count": 10,
     "metadata": {},
     "output_type": "execute_result"
    }
   ],
   "source": [
    "grader.check(\"q2\")"
   ]
  },
  {
   "cell_type": "markdown",
   "metadata": {
    "nbgrader": {
     "grade": false,
     "grade_id": "eda",
     "locked": true,
     "schema_version": 2,
     "solution": false
    }
   },
   "source": [
    "<br/>\n",
    "<hr style=\"border: 1px solid #fdb515;\" />\n",
    "\n",
    "# Part 3: EDA\n",
    "\n",
    "We need to identify some features that allow us to distinguish spam emails from ham emails. One idea is to compare the distribution of a single feature in spam emails to the distribution of the same feature in ham emails. Suppose the feature is a binary indicator, such as whether a particular word occurs in the text. In that case, this compares the proportion of spam emails with the word to the proportion of ham emails with the word."
   ]
  },
  {
   "cell_type": "markdown",
   "metadata": {
    "nbgrader": {
     "grade": false,
     "grade_id": "q3a",
     "locked": true,
     "schema_version": 2,
     "solution": false
    }
   },
   "source": [
    "The following plot (created using `sns.barplot`) compares the proportion of emails in each class containing a particular set of words. The bars colored by email class were generated by setting the `hue` parameter of `sns.barplot` to a column containing the class (spam or ham) of each data point. An example of how this class column was created is shown below:\n",
    "\n",
    "![training conditional proportions](images/training_conditional_proportions.png)\n",
    "\n",
    "You can use `DataFrame`'s `.melt` ([documentation](https://pandas.pydata.org/pandas-docs/version/1.4/reference/api/pandas.melt.html)) method to \"unpivot\" a `DataFrame`. See the following code cell for an example."
   ]
  },
  {
   "cell_type": "code",
   "execution_count": 11,
   "metadata": {
    "ExecuteTime": {
     "end_time": "2019-04-03T20:17:42.428419Z",
     "start_time": "2019-04-03T20:17:42.386697Z"
    }
   },
   "outputs": [
    {
     "data": {
      "text/markdown": [
       "> Our Original DataFrame has a `type` column and some columns corresponding to words. You can think of each row as a sentence, and the value of 1 or 0 indicates the number of occurrences of the word in this sentence."
      ],
      "text/plain": [
       "<IPython.core.display.Markdown object>"
      ]
     },
     "metadata": {},
     "output_type": "display_data"
    },
    {
     "data": {
      "text/html": [
       "<div>\n",
       "<style scoped>\n",
       "    .dataframe tbody tr th:only-of-type {\n",
       "        vertical-align: middle;\n",
       "    }\n",
       "\n",
       "    .dataframe tbody tr th {\n",
       "        vertical-align: top;\n",
       "    }\n",
       "\n",
       "    .dataframe thead th {\n",
       "        text-align: right;\n",
       "    }\n",
       "</style>\n",
       "<table border=\"1\" class=\"dataframe\">\n",
       "  <thead>\n",
       "    <tr style=\"text-align: right;\">\n",
       "      <th></th>\n",
       "      <th>word_1</th>\n",
       "      <th>word_2</th>\n",
       "      <th>type</th>\n",
       "    </tr>\n",
       "  </thead>\n",
       "  <tbody>\n",
       "    <tr>\n",
       "      <th>0</th>\n",
       "      <td>1</td>\n",
       "      <td>0</td>\n",
       "      <td>spam</td>\n",
       "    </tr>\n",
       "    <tr>\n",
       "      <th>1</th>\n",
       "      <td>0</td>\n",
       "      <td>1</td>\n",
       "      <td>ham</td>\n",
       "    </tr>\n",
       "    <tr>\n",
       "      <th>2</th>\n",
       "      <td>1</td>\n",
       "      <td>0</td>\n",
       "      <td>ham</td>\n",
       "    </tr>\n",
       "    <tr>\n",
       "      <th>3</th>\n",
       "      <td>0</td>\n",
       "      <td>1</td>\n",
       "      <td>ham</td>\n",
       "    </tr>\n",
       "  </tbody>\n",
       "</table>\n",
       "</div>"
      ],
      "text/plain": [
       "   word_1  word_2  type\n",
       "0       1       0  spam\n",
       "1       0       1   ham\n",
       "2       1       0   ham\n",
       "3       0       1   ham"
      ]
     },
     "metadata": {},
     "output_type": "display_data"
    },
    {
     "data": {
      "text/markdown": [
       "> `melt` will turn columns into entries in a variable column. Notice how `word_1` and `word_2` become entries in `variable`; their values are stored in the value column."
      ],
      "text/plain": [
       "<IPython.core.display.Markdown object>"
      ]
     },
     "metadata": {},
     "output_type": "display_data"
    },
    {
     "data": {
      "text/html": [
       "<div>\n",
       "<style scoped>\n",
       "    .dataframe tbody tr th:only-of-type {\n",
       "        vertical-align: middle;\n",
       "    }\n",
       "\n",
       "    .dataframe tbody tr th {\n",
       "        vertical-align: top;\n",
       "    }\n",
       "\n",
       "    .dataframe thead th {\n",
       "        text-align: right;\n",
       "    }\n",
       "</style>\n",
       "<table border=\"1\" class=\"dataframe\">\n",
       "  <thead>\n",
       "    <tr style=\"text-align: right;\">\n",
       "      <th></th>\n",
       "      <th>type</th>\n",
       "      <th>variable</th>\n",
       "      <th>value</th>\n",
       "    </tr>\n",
       "  </thead>\n",
       "  <tbody>\n",
       "    <tr>\n",
       "      <th>0</th>\n",
       "      <td>spam</td>\n",
       "      <td>word_1</td>\n",
       "      <td>1</td>\n",
       "    </tr>\n",
       "    <tr>\n",
       "      <th>1</th>\n",
       "      <td>ham</td>\n",
       "      <td>word_1</td>\n",
       "      <td>0</td>\n",
       "    </tr>\n",
       "    <tr>\n",
       "      <th>2</th>\n",
       "      <td>ham</td>\n",
       "      <td>word_1</td>\n",
       "      <td>1</td>\n",
       "    </tr>\n",
       "    <tr>\n",
       "      <th>3</th>\n",
       "      <td>ham</td>\n",
       "      <td>word_1</td>\n",
       "      <td>0</td>\n",
       "    </tr>\n",
       "    <tr>\n",
       "      <th>4</th>\n",
       "      <td>spam</td>\n",
       "      <td>word_2</td>\n",
       "      <td>0</td>\n",
       "    </tr>\n",
       "    <tr>\n",
       "      <th>5</th>\n",
       "      <td>ham</td>\n",
       "      <td>word_2</td>\n",
       "      <td>1</td>\n",
       "    </tr>\n",
       "    <tr>\n",
       "      <th>6</th>\n",
       "      <td>ham</td>\n",
       "      <td>word_2</td>\n",
       "      <td>0</td>\n",
       "    </tr>\n",
       "    <tr>\n",
       "      <th>7</th>\n",
       "      <td>ham</td>\n",
       "      <td>word_2</td>\n",
       "      <td>1</td>\n",
       "    </tr>\n",
       "  </tbody>\n",
       "</table>\n",
       "</div>"
      ],
      "text/plain": [
       "   type variable  value\n",
       "0  spam   word_1      1\n",
       "1   ham   word_1      0\n",
       "2   ham   word_1      1\n",
       "3   ham   word_1      0\n",
       "4  spam   word_2      0\n",
       "5   ham   word_2      1\n",
       "6   ham   word_2      0\n",
       "7   ham   word_2      1"
      ]
     },
     "metadata": {},
     "output_type": "display_data"
    }
   ],
   "source": [
    "from IPython.display import display, Markdown\n",
    "df = pd.DataFrame({\n",
    "    'word_1': [1, 0, 1, 0],\n",
    "    'word_2': [0, 1, 0, 1],\n",
    "    'type': ['spam', 'ham', 'ham', 'ham']\n",
    "})\n",
    "display(Markdown(\"> Our Original DataFrame has a `type` column and some columns corresponding to words. You can think of each row as a sentence, and the value of 1 or 0 indicates the number of occurrences of the word in this sentence.\"))\n",
    "display(df);\n",
    "display(Markdown(\"> `melt` will turn columns into entries in a variable column. Notice how `word_1` and `word_2` become entries in `variable`; their values are stored in the value column.\"))\n",
    "display(df.melt(\"type\"))"
   ]
  },
  {
   "cell_type": "markdown",
   "metadata": {},
   "source": [
    "<br>\n",
    "\n",
    "---\n",
    "\n",
    "## Question 3\n",
    "\n",
    "Create the bar chart above by comparing the proportion of spam and ham emails containing specific words. **Choose a set of 6 words other than those shown in the example.** These words should have different proportions for the two classes (i.e., noticeably different bar heights across spam and ham). Make sure only to consider emails from `train`. Your `words_in_texts` function from the previous part will be useful here. \n",
    "\n",
    "**Hint:** This is a pretty challenging question. The suggested approach is to first look at the example bar plot and make sure you can interpret what is being plotted - what does a bar represent? What does the height mean? \n",
    "\n",
    "Next, see how to make this plot with `sns.barplot`. Take a look at the ([documentation](https://seaborn.pydata.org/generated/seaborn.barplot.html)) and determine what the inputs should be. A possible data input is given below:\n",
    "<table border=\"1\" class=\"dataframe\">  <thead>    <tr style=\"text-align: right;\">      <th></th>      <th>type</th>      <th>variable</th>      <th>value</th>    </tr>  </thead>  <tbody>    \n",
    "<tr>      <th>0</th>      <td>Ham</td>      <td>word_1</td>      <td>0.021269</td>    </tr>    \n",
    "<tr>      <th>1</th>      <td>Ham</td>      <td>word_2</td>      <td>0.101519</td>    </tr>    \n",
    "<tr>      <th>2</th>      <td>Spam</td>      <td>word_3</td>      <td>0.059160</td>    </tr>    \n",
    "<tr>      <th>3</th>      <td>Spam</td>      <td>word_2</td>      <td>0.017694</td>    </tr>    \n",
    "<tr>      <th>4</th>      <td>Ham</td>      <td>word_4</td>      <td>0.013226</td>    </tr>     \n",
    "<tr>      <th>...</th>      <td>...</td>      <td>...</td>      <td>...</td>    </tr>    \n",
    "</tbody></table>\n",
    "\n",
    "Finally, you will need to chain some `pandas` functions together. Try to add one function at a time and see how that affects the `DataFrame`. It may help to use a new cell or print out the `DataFrame` for debugging purposes as you work towards achieving the desired format above."
   ]
  },
  {
   "cell_type": "markdown",
   "metadata": {
    "deletable": false,
    "editable": false
   },
   "source": [
    "<!-- BEGIN QUESTION -->\n",
    "\n",
    "Create your bar chart with the following cell:"
   ]
  },
  {
   "cell_type": "code",
   "execution_count": 57,
   "metadata": {},
   "outputs": [],
   "source": [
    "train = train.reset_index(drop=True) \n",
    "words_test = ['title', 'credit', 'body', 'font', 'click', 'center', 'sincerely', 'dear', 'buy', 'product']\n",
    "\n",
    "word_isin = words_in_texts(words_test, train['email'])\n",
    "\n",
    "df = pd.DataFrame(word_isin, columns = words_test)\n",
    "\n",
    "combine_df = pd.merge(train, df, left_index=True, right_index=True)"
   ]
  },
  {
   "cell_type": "code",
   "execution_count": 58,
   "metadata": {},
   "outputs": [],
   "source": [
    "# Total words on spam or ham -> Proportion table\n",
    "spam_email_words = ((combine_df[combine_df['spam']==1])[words_test].sum()/(combine_df[combine_df['spam']==1])[words_test].count()).to_frame(name = 'spam').reset_index(names = 'Words')\n",
    "ham_email_words = ((combine_df[combine_df['spam']==0])[words_test].sum()/(combine_df[combine_df['spam']==0])[words_test].count()).to_frame(name = 'ham').reset_index(names = 'Words')\n",
    "\n",
    "proportion = ham_email_words.merge(spam_email_words, on = 'Words' )\n",
    "\n",
    "df_melted = pd.melt(proportion, id_vars='Words', var_name='category', value_name='proportion')"
   ]
  },
  {
   "cell_type": "code",
   "execution_count": 59,
   "metadata": {
    "ExecuteTime": {
     "end_time": "2019-04-03T20:17:43.145246Z",
     "start_time": "2019-04-03T20:17:42.430406Z"
    },
    "nbgrader": {
     "grade": true,
     "grade_id": "q3a-answer",
     "locked": false,
     "points": 2,
     "schema_version": 2,
     "solution": true
    },
    "tags": []
   },
   "outputs": [
    {
     "data": {
      "image/png": "[encoded data removed]",
      "text/plain": [
       "<Figure size 800x600 with 1 Axes>"
      ]
     },
     "metadata": {},
     "output_type": "display_data"
    }
   ],
   "source": [
    "train = train.reset_index(drop=True) # We must do this in order to preserve the ordering of emails to labels for words_in_texts.\n",
    "plt.figure(figsize=(8,6))\n",
    "sns.barplot(data=df_melted, x='Words', y='proportion', hue='category')\n",
    "plt.title('Proportion of Words in Spam/Ham Emails')\n",
    "plt.ylabel('Proportion of Emails')\n",
    "plt.ylim(0, 1)\n",
    "\n",
    "plt.tight_layout()\n",
    "plt.show()"
   ]
  },
  {
   "cell_type": "markdown",
   "metadata": {
    "deletable": false,
    "editable": false,
    "nbgrader": {
     "grade": false,
     "grade_id": "q3b",
     "locked": true,
     "schema_version": 2,
     "solution": false
    }
   },
   "source": [
    "<!-- END QUESTION -->\n",
    "\n",
    "When the feature is binary, it makes sense to compare its proportions across classes (as in the previous question). Otherwise, if the feature can take on numeric values, we can compare the distributions of these values for different classes. "
   ]
  },
  {
   "cell_type": "markdown",
   "metadata": {
    "nbgrader": {
     "grade": false,
     "grade_id": "classification",
     "locked": true,
     "schema_version": 2,
     "solution": false
    }
   },
   "source": [
    "<br/>\n",
    "<hr style=\"border: 1px solid #fdb515;\" />\n",
    "\n",
    "# Part 4: Basic Classification\n",
    "\n",
    "Notice that the output of `words_in_texts(words, train['email'])` is a numeric matrix containing features for each email. This means we can use it directly to train a classifier!"
   ]
  },
  {
   "cell_type": "markdown",
   "metadata": {
    "deletable": false,
    "editable": false
   },
   "source": [
    "<br>\n",
    "\n",
    "---\n",
    "\n",
    "## Question 4\n",
    "\n",
    "We've given you 5 words that might be useful as features to distinguish spam/ham emails. Use these words and the `train` `DataFrame` to create two `NumPy` arrays: `X_train` and `Y_train`. `X_train` should be a 2D array of 0s and 1s created using your `words_in_texts` function on all the emails in the training set. `Y_train` should be a vector of the correct labels for each email in the training set.\n",
    "\n",
    "*The provided tests check that the dimensions of your design matrix ($\\mathbb{X}$) are correct and that your features and labels are binary (i.e., consist only of 0s and 1s). It does not check that your function is correct; that was verified in a previous question.*"
   ]
  },
  {
   "cell_type": "code",
   "execution_count": 15,
   "metadata": {},
   "outputs": [
    {
     "data": {
      "text/html": [
       "<div>\n",
       "<style scoped>\n",
       "    .dataframe tbody tr th:only-of-type {\n",
       "        vertical-align: middle;\n",
       "    }\n",
       "\n",
       "    .dataframe tbody tr th {\n",
       "        vertical-align: top;\n",
       "    }\n",
       "\n",
       "    .dataframe thead th {\n",
       "        text-align: right;\n",
       "    }\n",
       "</style>\n",
       "<table border=\"1\" class=\"dataframe\">\n",
       "  <thead>\n",
       "    <tr style=\"text-align: right;\">\n",
       "      <th></th>\n",
       "      <th>id</th>\n",
       "      <th>subject</th>\n",
       "      <th>email</th>\n",
       "      <th>spam</th>\n",
       "    </tr>\n",
       "  </thead>\n",
       "  <tbody>\n",
       "    <tr>\n",
       "      <th>0</th>\n",
       "      <td>7657</td>\n",
       "      <td>Subject: Patch to enable/disable log\\n</td>\n",
       "      <td>while i was playing with the past issues, it a...</td>\n",
       "      <td>0</td>\n",
       "    </tr>\n",
       "    <tr>\n",
       "      <th>1</th>\n",
       "      <td>6911</td>\n",
       "      <td>Subject: When an engineer flaps his wings\\n</td>\n",
       "      <td>url: http://diveintomark.org/archives/2002/10/...</td>\n",
       "      <td>0</td>\n",
       "    </tr>\n",
       "    <tr>\n",
       "      <th>2</th>\n",
       "      <td>6074</td>\n",
       "      <td>Subject: Re: [Razor-users] razor plugins for m...</td>\n",
       "      <td>no, please post a link!\\n \\n fox\\n ----- origi...</td>\n",
       "      <td>0</td>\n",
       "    </tr>\n",
       "    <tr>\n",
       "      <th>3</th>\n",
       "      <td>4376</td>\n",
       "      <td>Subject: NYTimes.com Article: Stop Those Press...</td>\n",
       "      <td>this article from nytimes.com \\n has been sent...</td>\n",
       "      <td>0</td>\n",
       "    </tr>\n",
       "    <tr>\n",
       "      <th>4</th>\n",
       "      <td>5766</td>\n",
       "      <td>Subject: What's facing FBI's new CIO? (Tech Up...</td>\n",
       "      <td>&lt;html&gt;\\n &lt;head&gt;\\n &lt;title&gt;tech update today&lt;/ti...</td>\n",
       "      <td>0</td>\n",
       "    </tr>\n",
       "    <tr>\n",
       "      <th>...</th>\n",
       "      <td>...</td>\n",
       "      <td>...</td>\n",
       "      <td>...</td>\n",
       "      <td>...</td>\n",
       "    </tr>\n",
       "    <tr>\n",
       "      <th>7508</th>\n",
       "      <td>5734</td>\n",
       "      <td>Subject: [Spambayes] understanding high false ...</td>\n",
       "      <td>&gt;&gt;&gt;&gt;&gt; \"tp\" == tim peters &lt;tim.one@comcast.net&gt;...</td>\n",
       "      <td>0</td>\n",
       "    </tr>\n",
       "    <tr>\n",
       "      <th>7509</th>\n",
       "      <td>5191</td>\n",
       "      <td>Subject: Reach millions on the internet!!\\n</td>\n",
       "      <td>\\n dear consumers, increase your business sale...</td>\n",
       "      <td>1</td>\n",
       "    </tr>\n",
       "    <tr>\n",
       "      <th>7510</th>\n",
       "      <td>5390</td>\n",
       "      <td>Subject: Facts about sex.\\n</td>\n",
       "      <td>\\n forwarded-by: flower\\n \\n did you know that...</td>\n",
       "      <td>0</td>\n",
       "    </tr>\n",
       "    <tr>\n",
       "      <th>7511</th>\n",
       "      <td>860</td>\n",
       "      <td>Subject: Re: Zoot apt/openssh &amp; new DVD playin...</td>\n",
       "      <td>on tue, oct 08, 2002 at 04:36:13pm +0200, matt...</td>\n",
       "      <td>0</td>\n",
       "    </tr>\n",
       "    <tr>\n",
       "      <th>7512</th>\n",
       "      <td>7270</td>\n",
       "      <td>Subject: Re: Internet radio - example from a c...</td>\n",
       "      <td>chris haun wrote:\\n &gt; \\n &gt; we would need someo...</td>\n",
       "      <td>0</td>\n",
       "    </tr>\n",
       "  </tbody>\n",
       "</table>\n",
       "<p>7513 rows × 4 columns</p>\n",
       "</div>"
      ],
      "text/plain": [
       "        id                                            subject  \\\n",
       "0     7657             Subject: Patch to enable/disable log\\n   \n",
       "1     6911        Subject: When an engineer flaps his wings\\n   \n",
       "2     6074  Subject: Re: [Razor-users] razor plugins for m...   \n",
       "3     4376  Subject: NYTimes.com Article: Stop Those Press...   \n",
       "4     5766  Subject: What's facing FBI's new CIO? (Tech Up...   \n",
       "...    ...                                                ...   \n",
       "7508  5734  Subject: [Spambayes] understanding high false ...   \n",
       "7509  5191        Subject: Reach millions on the internet!!\\n   \n",
       "7510  5390                        Subject: Facts about sex.\\n   \n",
       "7511   860  Subject: Re: Zoot apt/openssh & new DVD playin...   \n",
       "7512  7270  Subject: Re: Internet radio - example from a c...   \n",
       "\n",
       "                                                  email  spam  \n",
       "0     while i was playing with the past issues, it a...     0  \n",
       "1     url: http://diveintomark.org/archives/2002/10/...     0  \n",
       "2     no, please post a link!\\n \\n fox\\n ----- origi...     0  \n",
       "3     this article from nytimes.com \\n has been sent...     0  \n",
       "4     <html>\\n <head>\\n <title>tech update today</ti...     0  \n",
       "...                                                 ...   ...  \n",
       "7508  >>>>> \"tp\" == tim peters <tim.one@comcast.net>...     0  \n",
       "7509  \\n dear consumers, increase your business sale...     1  \n",
       "7510  \\n forwarded-by: flower\\n \\n did you know that...     0  \n",
       "7511  on tue, oct 08, 2002 at 04:36:13pm +0200, matt...     0  \n",
       "7512  chris haun wrote:\\n > \\n > we would need someo...     0  \n",
       "\n",
       "[7513 rows x 4 columns]"
      ]
     },
     "execution_count": 15,
     "metadata": {},
     "output_type": "execute_result"
    }
   ],
   "source": [
    "train"
   ]
  },
  {
   "cell_type": "code",
   "execution_count": 75,
   "metadata": {
    "ExecuteTime": {
     "end_time": "2019-04-03T20:17:43.726012Z",
     "start_time": "2019-04-03T20:17:43.498088Z"
    },
    "nbgrader": {
     "grade": false,
     "grade_id": "q4-answer",
     "locked": false,
     "schema_version": 2,
     "solution": true
    },
    "tags": [
     "student"
    ]
   },
   "outputs": [
    {
     "data": {
      "text/plain": [
       "(array([[0, 0, 0, 0, 0, 0, 0, 0],\n",
       "        [0, 1, 0, 0, 0, 0, 0, 0],\n",
       "        [0, 0, 0, 0, 0, 0, 0, 0],\n",
       "        [0, 0, 0, 0, 0, 0, 0, 0],\n",
       "        [0, 1, 1, 1, 1, 0, 0, 0]]),\n",
       " array([0, 0, 0, 0, 0]))"
      ]
     },
     "execution_count": 75,
     "metadata": {},
     "output_type": "execute_result"
    }
   ],
   "source": [
    "some_words = ['credit', 'body', 'font', 'click', 'center', 'sincerely', 'dear', 'guarantee']\n",
    "\n",
    "X_train = words_in_texts(some_words, train['email'])\n",
    "Y_train = train['spam'].values\n",
    "\n",
    "X_train[:5], Y_train[:5]"
   ]
  },
  {
   "cell_type": "code",
   "execution_count": 76,
   "metadata": {
    "deletable": false,
    "editable": false
   },
   "outputs": [
    {
     "data": {
      "text/html": [
       "<p><strong style='color: red;'><pre style='display: inline;'>q4</pre> results:</strong></p><p><strong><pre style='display: inline;'>q4 - 1</pre> result:</strong></p><pre>    ✅ Test case passed</pre><p><strong><pre style='display: inline;'>q4 - 2</pre> result:</strong></p><pre>    ❌ Test case failed\n",
       "    Trying:\n",
       "        X_train.shape == (7513, 5)\n",
       "    Expecting:\n",
       "        True\n",
       "    **********************************************************************\n",
       "    Line 1, in q4 1\n",
       "    Failed example:\n",
       "        X_train.shape == (7513, 5)\n",
       "    Expected:\n",
       "        True\n",
       "    Got:\n",
       "        False\n",
       "</pre><p><strong><pre style='display: inline;'>q4 - 3</pre> result:</strong></p><pre>    ✅ Test case passed</pre><p><strong><pre style='display: inline;'>q4 - 4</pre> result:</strong></p><pre>    ✅ Test case passed</pre><p><strong><pre style='display: inline;'>q4 - 5</pre> result:</strong></p><pre>    ❌ Test case failed\n",
       "    Trying:\n",
       "        np.all(X_train[:5] == np.array([[0, 0, 0, 0, 0], [0, 0, 0, 0, 0], [0, 0, 0, 0, 0], [0, 0, 0, 0, 0], [0, 0, 0, 1, 0]]))\n",
       "    Expecting:\n",
       "        True\n",
       "    <doctest q4 4[0]>:1: DeprecationWarning: elementwise comparison failed; this will raise an error in the future.\n",
       "      np.all(X_train[:5] == np.array([[0, 0, 0, 0, 0], [0, 0, 0, 0, 0], [0, 0, 0, 0, 0], [0, 0, 0, 0, 0], [0, 0, 0, 1, 0]]))\n",
       "    **********************************************************************\n",
       "    Line 2, in q4 4\n",
       "    Failed example:\n",
       "        np.all(X_train[:5] == np.array([[0, 0, 0, 0, 0], [0, 0, 0, 0, 0], [0, 0, 0, 0, 0], [0, 0, 0, 0, 0], [0, 0, 0, 1, 0]]))\n",
       "    Expected:\n",
       "        True\n",
       "    Got:\n",
       "        False\n",
       "</pre><p><strong><pre style='display: inline;'>q4 - 6</pre> result:</strong></p><pre>    ✅ Test case passed</pre>"
      ],
      "text/plain": [
       "q4 results:\n",
       "    q4 - 1 result:\n",
       "        ✅ Test case passed\n",
       "\n",
       "    q4 - 2 result:\n",
       "        ❌ Test case failed\n",
       "        Trying:\n",
       "            X_train.shape == (7513, 5)\n",
       "        Expecting:\n",
       "            True\n",
       "        **********************************************************************\n",
       "        Line 1, in q4 1\n",
       "        Failed example:\n",
       "            X_train.shape == (7513, 5)\n",
       "        Expected:\n",
       "            True\n",
       "        Got:\n",
       "            False\n",
       "\n",
       "    q4 - 3 result:\n",
       "        ✅ Test case passed\n",
       "\n",
       "    q4 - 4 result:\n",
       "        ✅ Test case passed\n",
       "\n",
       "    q4 - 5 result:\n",
       "        ❌ Test case failed\n",
       "        Trying:\n",
       "            np.all(X_train[:5] == np.array([[0, 0, 0, 0, 0], [0, 0, 0, 0, 0], [0, 0, 0, 0, 0], [0, 0, 0, 0, 0], [0, 0, 0, 1, 0]]))\n",
       "        Expecting:\n",
       "            True\n",
       "        <doctest q4 4[0]>:1: DeprecationWarning: elementwise comparison failed; this will raise an error in the future.\n",
       "          np.all(X_train[:5] == np.array([[0, 0, 0, 0, 0], [0, 0, 0, 0, 0], [0, 0, 0, 0, 0], [0, 0, 0, 0, 0], [0, 0, 0, 1, 0]]))\n",
       "        **********************************************************************\n",
       "        Line 2, in q4 4\n",
       "        Failed example:\n",
       "            np.all(X_train[:5] == np.array([[0, 0, 0, 0, 0], [0, 0, 0, 0, 0], [0, 0, 0, 0, 0], [0, 0, 0, 0, 0], [0, 0, 0, 1, 0]]))\n",
       "        Expected:\n",
       "            True\n",
       "        Got:\n",
       "            False\n",
       "\n",
       "    q4 - 6 result:\n",
       "        ✅ Test case passed"
      ]
     },
     "execution_count": 76,
     "metadata": {},
     "output_type": "execute_result"
    }
   ],
   "source": [
    "grader.check(\"q4\")"
   ]
  },
  {
   "cell_type": "markdown",
   "metadata": {
    "deletable": false,
    "editable": false
   },
   "source": [
    "<br>\n",
    "\n",
    "---\n",
    "## Question 5\n",
    "\n",
    "Now that we have matrices, we can build a model with `sklearn`! Using the [`LogisticRegression`](http://scikit-learn.org/stable/modules/generated/sklearn.linear_model.LogisticRegression.html) classifier, train a logistic regression model using `X_train` and `Y_train`. Then, output the model's training accuracy below. You should get an accuracy of around $0.76$.\n",
    "\n",
    "*The provided test checks that you initialized your logistic regression model correctly.*"
   ]
  },
  {
   "cell_type": "code",
   "execution_count": 77,
   "metadata": {
    "ExecuteTime": {
     "end_time": "2019-04-03T20:17:44.593918Z",
     "start_time": "2019-04-03T20:17:43.783872Z"
    },
    "nbgrader": {
     "grade": false,
     "grade_id": "q5-answer",
     "locked": false,
     "schema_version": 2,
     "solution": true
    },
    "tags": [
     "student"
    ]
   },
   "outputs": [
    {
     "name": "stdout",
     "output_type": "stream",
     "text": [
      "Training Accuracy:  0.8501264474910156\n"
     ]
    }
   ],
   "source": [
    "from sklearn.linear_model import LogisticRegression\n",
    "import sklearn.linear_model as lm\n",
    "\n",
    "my_model = lm.LogisticRegression()\n",
    "my_model.fit(X_train, Y_train)\n",
    "\n",
    "def accuracy(X, Y):\n",
    "    return np.mean(my_model.predict(X) == Y)\n",
    "\n",
    "training_accuracy = accuracy(X_train, Y_train)\n",
    "print(\"Training Accuracy: \", training_accuracy)"
   ]
  },
  {
   "cell_type": "code",
   "execution_count": 19,
   "metadata": {
    "deletable": false,
    "editable": false
   },
   "outputs": [
    {
     "data": {
      "text/html": [
       "<p><strong><pre style='display: inline;'>q5</pre></strong> passed! 🙌</p>"
      ],
      "text/plain": [
       "q5 results: All test cases passed!"
      ]
     },
     "execution_count": 19,
     "metadata": {},
     "output_type": "execute_result"
    }
   ],
   "source": [
    "grader.check(\"q5\")"
   ]
  },
  {
   "cell_type": "markdown",
   "metadata": {},
   "source": [
    "<br/>\n",
    "<hr style=\"border: 1px solid #fdb515;\" />\n",
    "\n",
    "# Part 5: Evaluating Classifiers"
   ]
  },
  {
   "cell_type": "markdown",
   "metadata": {},
   "source": [
    "That doesn't seem too shabby! But the classifier you made above isn't as good as the accuracy would make you believe. First, we are evaluating the accuracy of the model on the training set, which may provide a misleading accuracy measure. Accuracy on the training set doesn't always translate to accuracy in the real world (on the test set). In future parts of this analysis, we will make use of the data we held out for model validation and comparison.\n",
    "\n",
    "Presumably, our classifier will be used for **filtering**, i.e., preventing messages labeled `spam` from reaching someone's inbox. There are two kinds of errors we can make:\n",
    "- **False positive (FP)**: A ham email gets flagged as spam and filtered out of the inbox.\n",
    "- **False negative (FN)**: A spam email gets mislabeled as ham and ends up in the inbox.\n",
    "\n",
    "To be clear, we label spam emails as 1 and ham emails as 0. These definitions depend both on the true labels and the predicted labels. False positives and false negatives may be of differing importance, leading us to consider more ways of evaluating a classifier in addition to overall accuracy:\n",
    "\n",
    "**Precision**: Measures the proportion of emails flagged as spam that are actually spam. Mathematically, $\\frac{\\text{TP}}{\\text{TP} + \\text{FP}}$.\n",
    "\n",
    "**Recall**: Measures the proportion  of spam emails that were correctly flagged as spam. Mathematically, $\\frac{\\text{TP}}{\\text{TP} + \\text{FN}}$.\n",
    "\n",
    "**False positive rate**: Measures the proportion  of ham emails that were incorrectly flagged as spam. Mathematically, $\\frac{\\text{FP}}{\\text{FP} + \\text{TN}}$.\n",
    "\n",
    "One quick mnemonic to remember the formulas is that **P**recision involves T**P** and F**P**, Recall does not. In the final, the reference sheet will also contain the formulas shown above, but you should be able to interpret what they mean and their importance depending on the context.\n",
    "\n",
    "The below graphic (modified slightly from [Wikipedia](https://en.wikipedia.org/wiki/Precision_and_recall)) may help you understand precision and recall visually:<br />\n",
    "<center>\n",
    "<img alt=\"precision_recall\" src=\"images/precision_recall.png\" width=\"600px\" />\n",
    "</center>\n",
    "\n",
    "Note that a True Positive (TP) is a spam email that is classified as spam, and a True Negative (TN) is a ham email that is classified as ham."
   ]
  },
  {
   "cell_type": "markdown",
   "metadata": {
    "deletable": false,
    "editable": false
   },
   "source": [
    "<br>\n",
    "\n",
    "---\n",
    "\n",
    "## Question 6a\n",
    "\n",
    "Suppose we have a hypothetical classifier called the “zero predictor.” For any inputted email, the zero predictor *always* predicts 0 (it never makes a prediction of 1 for any email). How many false positives and false negatives would this classifier have if it were evaluated on the training set and its results were compared to `Y_train`? Assign `zero_predictor_fp` to the number of false positives and `zero_predictor_fn` to the number of false negatives for the hypothetical zero predictor on the training data.\n",
    "\n",
    "*The public tests only check that you have assigned appropriate types of values to each response variable, but do not check that your answers are correct. That is, we only check that the number of false positives and false negatives should be greater than or equal to 0.*"
   ]
  },
  {
   "cell_type": "code",
   "execution_count": 20,
   "metadata": {
    "ExecuteTime": {
     "end_time": "2019-04-03T20:20:13.853633Z",
     "start_time": "2019-04-03T20:20:13.825724Z"
    },
    "nbgrader": {
     "grade": false,
     "grade_id": "q6a-answer",
     "locked": false,
     "schema_version": 2,
     "solution": true
    },
    "tags": []
   },
   "outputs": [
    {
     "data": {
      "text/plain": [
       "(0, 1918)"
      ]
     },
     "execution_count": 20,
     "metadata": {},
     "output_type": "execute_result"
    }
   ],
   "source": [
    "zero_predictor_fp = 0\n",
    "zero_predictor_fn = np.sum(Y_train == 1)\n",
    "zero_predictor_fp, zero_predictor_fn"
   ]
  },
  {
   "cell_type": "code",
   "execution_count": 21,
   "metadata": {
    "deletable": false,
    "editable": false
   },
   "outputs": [
    {
     "data": {
      "text/html": [
       "<p><strong><pre style='display: inline;'>q6a</pre></strong> passed! 🍀</p>"
      ],
      "text/plain": [
       "q6a results: All test cases passed!"
      ]
     },
     "execution_count": 21,
     "metadata": {},
     "output_type": "execute_result"
    }
   ],
   "source": [
    "grader.check(\"q6a\")"
   ]
  },
  {
   "cell_type": "markdown",
   "metadata": {
    "deletable": false,
    "editable": false
   },
   "source": [
    "<br>\n",
    "\n",
    "---\n",
    "\n",
    "## Question 6b\n",
    "\n",
    "What is the accuracy and recall of the zero predictor on the training data? Do not use any `sklearn` functions to compute these performance metrics.\n",
    "\n",
    "*The public tests only check that you have assigned appropriate types of values to each response variable, but do not check that your answers are correct. That is, we only check that proportions or percentages (like precision, recall, accuracy) lie in the interval [0, 1]*"
   ]
  },
  {
   "cell_type": "code",
   "execution_count": 22,
   "metadata": {
    "ExecuteTime": {
     "end_time": "2019-04-03T20:23:21.553134Z",
     "start_time": "2019-04-03T20:23:21.548219Z"
    },
    "tags": []
   },
   "outputs": [
    {
     "data": {
      "text/plain": [
       "(0.7447091707706642, 0.0)"
      ]
     },
     "execution_count": 22,
     "metadata": {},
     "output_type": "execute_result"
    }
   ],
   "source": [
    "zero_predictor_acc = (np.sum(Y_train == 0)) / len(Y_train)\n",
    "zero_predictor_recall = 0/ (0 + zero_predictor_fn)\n",
    "zero_predictor_acc, zero_predictor_recall"
   ]
  },
  {
   "cell_type": "code",
   "execution_count": 23,
   "metadata": {
    "deletable": false,
    "editable": false
   },
   "outputs": [
    {
     "data": {
      "text/html": [
       "<p><strong><pre style='display: inline;'>q6b</pre></strong> passed! 🍀</p>"
      ],
      "text/plain": [
       "q6b results: All test cases passed!"
      ]
     },
     "execution_count": 23,
     "metadata": {},
     "output_type": "execute_result"
    }
   ],
   "source": [
    "grader.check(\"q6b\")"
   ]
  },
  {
   "cell_type": "markdown",
   "metadata": {
    "deletable": false,
    "editable": false
   },
   "source": [
    "<!-- BEGIN QUESTION -->\n",
    "\n",
    "<br>\n",
    "\n",
    "---\n",
    "\n",
    "## Question 6c\n",
    "\n",
    "Explain your results in Question 6a and Question 6b. How did you know what to assign to `zero_predictor_fp`, `zero_predictor_fn`, `zero_predictor_acc`, and `zero_predictor_recall`?"
   ]
  },
  {
   "cell_type": "markdown",
   "metadata": {},
   "source": [
    "- Zero_predictor_fp is assigned zero because the zero predictor never results in 1 (positive), as a result there will be no false positive.\n",
    "\n",
    "- Zero_predictor_fn is assigned by taking the amount of positive (spam) email in the training data because the zero predictor will assign them all as 0 (negative). Based on the result in 6a, we found that there are 1918 spam email and identified as ham by the zero predictor.\n",
    "\n",
    "- Zero_predictor_acc is assigned by taking the amount of ham email (spam column value == 0) and divide it by the amount of data (length of Y_train). Based on the calculation in q6b, we get that the accuracy is 0.745.\n",
    "\n",
    "- Zero_predictor_recall is assigned to zero because the zero predictor fp is zero divided by zero_predictor_fn."
   ]
  },
  {
   "cell_type": "markdown",
   "metadata": {
    "deletable": false,
    "editable": false
   },
   "source": [
    "<!-- END QUESTION -->\n",
    "\n",
    "<br/>\n",
    "\n",
    "---\n",
    "\n",
    "## Question 6d\n",
    "\n",
    "Compute the precision, recall, and false positive rate of the `LogisticRegression` classifier `my_model` from Question 5. Do **not** use any `sklearn` functions to compute performance metrics; the only `sklearn` method you may use here is `.predict` to generate model predictions using `my_model` and `X_train`.\n",
    "\n",
    "*The public tests only check that you have assigned appropriate types of values to each response variable, but do not check that your answers are correct. That is, we only check that proportions or percentages (like precision, recall, false positive rate) lie in the interval [0, 1]*"
   ]
  },
  {
   "cell_type": "code",
   "execution_count": 24,
   "metadata": {
    "ExecuteTime": {
     "end_time": "2019-04-03T20:37:54.875265Z",
     "start_time": "2019-04-03T20:37:54.720667Z"
    },
    "tags": []
   },
   "outputs": [
    {
     "name": "stdout",
     "output_type": "stream",
     "text": [
      "TP=219, TN=5473, FP=122, FN=1699\n",
      "logistic_predictor_precision=0.64, logistic_predictor_recall=0.11, logistic_predictor_fpr=0.02\n"
     ]
    }
   ],
   "source": [
    "Y_train_hat = my_model.predict(X_train)\n",
    "\n",
    "TP = np.sum((Y_train_hat==1) & (Y_train == 1))\n",
    "TN = np.sum((Y_train_hat==0) & (Y_train == 0))\n",
    "FP = np.sum((Y_train_hat==1) & (Y_train == 0))\n",
    "FN = np.sum((Y_train_hat==0) & (Y_train == 1))\n",
    "logistic_predictor_precision = TP / (TP + FP) if TP + FP != 0 else 0\n",
    "logistic_predictor_recall = TP / (TP + FN) if TP + FN != 0 else 0\n",
    "logistic_predictor_fpr = FP / (FP + TN) if FP + TN != 0 else 0\n",
    "\n",
    "print(f\"{TP=}, {TN=}, {FP=}, {FN=}\")\n",
    "print(f\"{logistic_predictor_precision=:.2f}, {logistic_predictor_recall=:.2f}, {logistic_predictor_fpr=:.2f}\")"
   ]
  },
  {
   "cell_type": "code",
   "execution_count": 25,
   "metadata": {
    "deletable": false,
    "editable": false
   },
   "outputs": [
    {
     "data": {
      "text/html": [
       "<p><strong><pre style='display: inline;'>q6d</pre></strong> passed! ✨</p>"
      ],
      "text/plain": [
       "q6d results: All test cases passed!"
      ]
     },
     "execution_count": 25,
     "metadata": {},
     "output_type": "execute_result"
    }
   ],
   "source": [
    "grader.check(\"q6d\")"
   ]
  },
  {
   "cell_type": "markdown",
   "metadata": {
    "deletable": false,
    "editable": false
   },
   "source": [
    "<br>\n",
    "\n",
    "---\n",
    "\n",
    "## Question 6e\n",
    "\n",
    "Is the number of false positives produced by the logistic regression classifier `my_model` strictly greater than the number of false negatives produced? Assign to `q6e` an expression that evaluates to give your answer (`True` or `False`). "
   ]
  },
  {
   "cell_type": "code",
   "execution_count": 26,
   "metadata": {
    "tags": []
   },
   "outputs": [
    {
     "data": {
      "text/plain": [
       "False"
      ]
     },
     "execution_count": 26,
     "metadata": {},
     "output_type": "execute_result"
    }
   ],
   "source": [
    "q6e = FP > FN\n",
    "q6e"
   ]
  },
  {
   "cell_type": "code",
   "execution_count": 27,
   "metadata": {
    "deletable": false,
    "editable": false
   },
   "outputs": [
    {
     "data": {
      "text/html": [
       "<p><strong><pre style='display: inline;'>q6e</pre></strong> passed! 🌈</p>"
      ],
      "text/plain": [
       "q6e results: All test cases passed!"
      ]
     },
     "execution_count": 27,
     "metadata": {},
     "output_type": "execute_result"
    }
   ],
   "source": [
    "grader.check(\"q6e\")"
   ]
  },
  {
   "cell_type": "markdown",
   "metadata": {
    "deletable": false,
    "editable": false
   },
   "source": [
    "<!-- BEGIN QUESTION -->\n",
    "\n",
    "<br>\n",
    "\n",
    "---\n",
    "\n",
    "## Question 6f\n",
    "\n",
    "How does the accuracy of the logistic regression classifier `my_model` compare to the accuracy of the zero predictor?"
   ]
  },
  {
   "cell_type": "markdown",
   "metadata": {},
   "source": [
    "Based on the above calculation, we can find that \n",
    "- my_model training Accuracy:  0.7576201251164648\n",
    "- zero predictor accuracy: 0.7447091707706642.\n",
    "\n",
    "There is a slight better training accuracy by my_model compared to the zero predictor accuracy."
   ]
  },
  {
   "cell_type": "markdown",
   "metadata": {
    "deletable": false,
    "editable": false
   },
   "source": [
    "<!-- END QUESTION -->\n",
    "\n",
    "<!-- BEGIN QUESTION -->\n",
    "\n",
    "<br>\n",
    "\n",
    "---\n",
    "\n",
    "## Question 6g\n",
    "\n",
    "Given the word features provided in Question 4, discuss why the logistic regression classifier `my_model` may be performing poorly. \n",
    "\n",
    "**Hint:** Think about how prevalent these words are in the email set."
   ]
  },
  {
   "cell_type": "code",
   "execution_count": 28,
   "metadata": {},
   "outputs": [
    {
     "data": {
      "image/png": "[encoded data removed]",
      "text/plain": [
       "<Figure size 800x600 with 1 Axes>"
      ]
     },
     "metadata": {},
     "output_type": "display_data"
    }
   ],
   "source": [
    "train = train.reset_index(drop=True) # We must do this in order to preserve the ordering of emails to labels for words_in_texts.\n",
    "words_test = ['drug', 'bank', 'prescription', 'memo', 'private']\n",
    "word_isin = words_in_texts(words_test, train['email'])\n",
    "df = pd.DataFrame(word_isin, columns = words_test)\n",
    "combine_df = pd.merge(train, df, left_index=True, right_index=True)\n",
    "\n",
    "spam_email_words = ((combine_df[combine_df['spam']==1])[words_test].sum()/(combine_df[combine_df['spam']==1])[words_test].count()).to_frame(name = 'spam').reset_index(names = 'Words')\n",
    "ham_email_words = ((combine_df[combine_df['spam']==0])[words_test].sum()/(combine_df[combine_df['spam']==0])[words_test].count()).to_frame(name = 'ham').reset_index(names = 'Words')\n",
    "\n",
    "proportion = ham_email_words.merge(spam_email_words, on = 'Words' )\n",
    "\n",
    "df_melted = pd.melt(proportion, id_vars='Words', var_name='category', value_name='proportion')\n",
    "\n",
    "train = train.reset_index(drop=True) # We must do this in order to preserve the ordering of emails to labels for words_in_texts.\n",
    "plt.figure(figsize=(8,6))\n",
    "sns.barplot(data=df_melted, x='Words', y='proportion', hue='category')\n",
    "plt.title('Proportion of Words in Spam/Ham Emails')\n",
    "plt.ylabel('Proportion of Emails')\n",
    "plt.ylim(0, 1)\n",
    "\n",
    "plt.tight_layout()\n",
    "plt.show()"
   ]
  },
  {
   "cell_type": "markdown",
   "metadata": {},
   "source": [
    "The performance of the logistic regression classifier, my_model, may be suboptimal due to the word features selected in Question 4. The chosen words for detecting spam, such as 'drug,' 'bank,' 'prescription,' 'memo,' and 'private,' may not be prevalent enough in the spam emails to serve as effective indicators. Upon analyzing the proportions of these words in the spam emails, it becomes evident that they appear in less than 10% of the spam emails, indicating a low prevalence.\n",
    "\n",
    "Furthermore, it's noteworthy that the word 'memo' actually appears more frequently in ham emails than in spam emails, making it an unreliable indicator of spam. The limited prevalence of these selected words, coupled with the ambiguity of 'memo,' suggests that these features may not be robust enough to accurately distinguish between spam and ham emails.\n",
    "\n",
    "In conclusion, the choice of word features and their respective proportions in the training set may contribute to the suboptimal performance of my_model in identifying spam emails."
   ]
  },
  {
   "cell_type": "markdown",
   "metadata": {
    "deletable": false,
    "editable": false
   },
   "source": [
    "<!-- END QUESTION -->\n",
    "\n",
    "<!-- BEGIN QUESTION -->\n",
    "\n",
    "<br>\n",
    "\n",
    "---\n",
    "\n",
    "## Question 6h\n",
    "\n",
    "Would you prefer to use the logistic regression classifier `my_model` or the zero predictor classifier for a spam filter? Why? Describe your reasoning and relate it to at least one of the evaluation metrics you have computed so far."
   ]
  },
  {
   "attachments": {},
   "cell_type": "raw",
   "metadata": {},
   "source": [
    "Based on the analysis above:\n",
    "- my_model accuracy:  0.7576201251164648\n",
    "- zero predictor accuracy: 0.7447091707706642.\n",
    "\n",
    "This shows that both the model have a relatively same accuracy.\n",
    "\n",
    "However, to determine whether my_model is a good classifier, we need to dive deep on the precision and recal:\n",
    "- my_model precision: 0.64\n",
    "- my_model recal: 0.11\n",
    "- zero predictor precision: 0\n",
    "- zero predictor recal: 0\n",
    "\n",
    "This shows that my_model have a chance to detect the spam email (0.64), or when an email is considered spam, there is a chance of 64% is correct. The recal is quite small (0.11) which means that the model may not be able to indicate a spam email well enough. In my opinion, based on precision and recal of my_model, I'd rather use my_model for a spam filter because it has some capability to identify spam emails, making it a more suitable choice for a spam filter compared to the zero predictor, which essentially categorizes all emails as non-spam."
   ]
  },
  {
   "cell_type": "markdown",
   "metadata": {
    "deletable": false,
    "editable": false,
    "tags": []
   },
   "source": [
    "<!-- END QUESTION -->\n",
    "\n",
    "<br/><br/>\n",
    "<hr style=\"border: 5px solid #003262;\" />\n",
    "<hr style=\"border: 1px solid #fdb515;\" />\n",
    "\n",
    "## Venecia returns to congratulate you for finishing Project B1!\n",
    "\n",
    "<img src=\"images/venecia.jpg\" width=\"300\" />\n",
    "\n",
    "What's next? In Project B2, you will focus on building a spam/ham email classifier with logistic regression. You will be well-prepared to build such a model: you have considered what is in this data set, what it can be used for, and engineered some features that should be useful for prediction.\n",
    "\n",
    "Below, you will see two cells. Running the first cell will automatically generate a PDF of all questions that need to be manually graded, and running the second cell will automatically generate a zip with your autograded answers. **You are responsible for both the coding portion (the zip from Project B1) and the written portion (the PDF from Project B1) to their respective Gradescope portals.** The coding proportion should be submitted to **Project B1 Coding** as a single zip file, and the written portion should be submitted to **Project B1 Written** as a single PDF file. When submitting the written portion, **please ensure you select pages appropriately**. \n",
    "\n",
    "If there are issues with automatically generating the PDF, you can try downloading the notebook as a PDF by clicking on `File -> Save and Export Notebook As... -> PDF`. If that doesn't work either, you can manually take screenshots of your answers to the manually graded questions and submit those. Either way, **you are responsible for ensuring your submission follows our requirements, we will NOT be granting regrade requests for submissions that don't follow instructions.**"
   ]
  },
  {
   "cell_type": "markdown",
   "metadata": {
    "deletable": false,
    "editable": false
   },
   "source": [
    "## Submission\n",
    "\n",
    "Make sure you have run all cells in your notebook in order before running the cell below, so that all images/graphs appear in the output. The cell below will generate a zip file for you to submit. **Please save before exporting!**\n",
    "\n",
    "After you have run the cell below and generated the zip file, you can open the PDF <a href='projB1.pdf' download>here</a>."
   ]
  },
  {
   "cell_type": "code",
   "execution_count": 29,
   "metadata": {
    "deletable": false,
    "editable": false
   },
   "outputs": [
    {
     "data": {
      "text/html": [
       "\n",
       "<style>\n",
       ".output_subarea { /* HACK to make tooltips at edge show */\n",
       "    overflow-x: visible\n",
       "}\n",
       ".ellipsis {\n",
       "    background-color:#eee;\n",
       "    color:#666;\n",
       "    border-radius:2px;\n",
       "    cursor:pointer;\n",
       "    padding: 0 5px;\n",
       "}\n",
       ".ellipsis:hover {\n",
       "    background-color:#e3e3e3;\n",
       "    color:#000;\n",
       "}\n",
       ".output_area pre.code-block, .jp-OutputArea pre.code-block {\n",
       "    padding:0.5em 0 0.5em 1em;\n",
       "    margin:0 0 0.25em 0;\n",
       "    border-radius:0.35em;\n",
       "    overflow:visible;\n",
       "    color:#999;\n",
       "    background-color:#f6f6f6;\n",
       "}\n",
       ".variable {\n",
       "    position:relative;\n",
       "    cursor:pointer;\n",
       "    border-bottom:1px solid #666;\n",
       "}\n",
       ".variable:before {\n",
       "  content: attr(data-tooltip); /* here's the magic */\n",
       "  position:absolute;\n",
       "  \n",
       "  /* horizontally center */\n",
       "  left:50%;\n",
       "  transform: translateX(-50%);\n",
       "  \n",
       "  /* move to top */\n",
       "  bottom: 100%;\n",
       "  margin-bottom: 5px; /* and add a small bottom margin */\n",
       "  \n",
       "  /* basic styles */\n",
       "  padding: 7px 10px;\n",
       "  border-radius:2px;\n",
       "  background:#000;\n",
       "  color: #fff;\n",
       "  text-align:center;\n",
       "  \n",
       "  width: max-content; \n",
       "  max-width: 200px;\n",
       "\n",
       "  display:none; /* hide by default */\n",
       "}\n",
       ".variable:hover:before {\n",
       "  display:block;\n",
       "}\n",
       ".variable:after {\n",
       "  content: \"\";\n",
       "  position:absolute;\n",
       "  \n",
       "  /* position tooltip correctly */\n",
       "  transform: translateX(-50%);\n",
       "  left:50%;\n",
       " \n",
       "  /* move to bottom */\n",
       "  bottom:100%;\n",
       "  margin-bottom:-10px;\n",
       " \n",
       "  /* the arrow */\n",
       "  border:10px solid #000;\n",
       "  border-color: black transparent transparent transparent;\n",
       "  \n",
       "  display:none;\n",
       "}\n",
       ".variable:hover {\n",
       "    color:#208FFB;\n",
       "    border-bottom:1px solid #208FFB;\n",
       "}\n",
       ".variable:hover:before, .variable:hover:after {\n",
       "  display:block;\n",
       "}\n",
       ".line {\n",
       "    padding:0;\n",
       "}\n",
       ".output_area .line.highlight, .jp-OutputArea-output .line.highlight {\n",
       "    color:#000;\n",
       "}\n",
       ".output_area pre.meta, .jp-OutputArea-output pre.meta {\n",
       "    padding:5px;\n",
       "    border-radius:2px;\n",
       "    margin:5px 0;\n",
       "}\n",
       ".output_area pre.meta:first-child, .jp-OutputArea-output pre.meta:first-child {\n",
       "    padding-top:0;\n",
       "    margin-top:0;\n",
       "}\n",
       ".lineno {\n",
       "    border-right:1px solid #999;\n",
       "    padding-right:5px;\n",
       "    color:#999;\n",
       "}\n",
       ".highlight .lineno {\n",
       "    color:#000;\n",
       "    border-right:1px solid #000;\n",
       "}\n",
       ".error-container {\n",
       "    padding:0.5em 1em;\n",
       "    border-left:3px solid #eee;\n",
       "}\n",
       ".error-container summary {\n",
       "    list-style: none;\n",
       "    margin-top:0.5em;\n",
       "}\n",
       ".output_area .error-summary, .jp-OutputArea-output .error-summary {\n",
       "    margin-top:1em;\n",
       "}\n",
       "</style>\n",
       "<div class='error-container'>\n",
       "<details><summary><span class=\"ellipsis\">&middot;&middot;&middot;</span></summary>\n",
       "<pre class='meta'><b><span style='color:#60C6C8'>run_code</span></b> in <span style='color:#00A250'>/srv/conda/envs/notebook/lib/python3.11/site-packages/IPython/core/interactiveshell.py</span></pre>\n",
       "<pre class='code-block'>\n",
       "<span class='line'>  <span class='lineno'>3524</span>              if <span class=\"variable\" data-tooltip=\"&lt;ExecutionResult object at 7f30f8e29fd0, execution_count=29 error_before_exec=None error_in_exec=There was an error generating your LaTeX; showing full error message:\n",
       "    Failed to run &quot;[&#x27;xelatex&#x27;, &#x27;notebook.tex&#x27;, &#x27;-quiet&#x27;]&quot; command:\n",
       "    This is XeTeX, Version 3.141592653-2.6-0.999993 (TeX Live 2022/dev/Debian) (preloaded format=xelatex)\n",
       "     restricted \\write18 enabled.\n",
       "    entering extended mode\n",
       "    (./notebook.tex\n",
       "    LaTeX2e &lt;2021-11-15&gt; patch level 1\n",
       "    L3 programming layer &lt;2022-01-21&gt;\n",
       "    (/usr/share/texlive/texmf-dist/tex/latex/base/article.cls\n",
       "    Document Class: article 2021/10/04 v1.4n Standard LaTeX document class\n",
       "    (/usr/share/texlive/texmf-dist/tex/latex/base/size10.clo))\n",
       "    (/usr/share/texlive/texmf-dist/tex/latex/graphics/graphicx.sty\n",
       "    (/usr/share/texlive/texmf-dist/tex/latex/graphics/keyval.sty)\n",
       "    (/usr/share/texlive/texmf-dist/tex/latex/graphics/graphics.sty\n",
       "    (/usr/share/texlive/texmf-dist/tex/latex/graphics/trig.sty)\n",
       "    (/usr/share/texlive/texmf-dist/tex/latex/graphics-cfg/graphics.cfg)\n",
       "    (/usr/share/texlive/texmf-dist/tex/latex/graphics-def/xetex.def)))\n",
       "    (/usr/share/texlive/texmf-dist/tex/latex/caption/caption.sty\n",
       "    (/usr/share/texlive/texmf-dist/tex/latex/caption/caption3.sty))\n",
       "    (/usr/share/texlive/texmf-dist/tex/latex/float/float.sty)\n",
       "    (/usr/share/texlive/texmf-dist/tex/latex/xcolor/xcolor.sty\n",
       "    (/usr/share/texlive/texmf-dist/tex/latex/graphics-cfg/color.cfg))\n",
       "    (/usr/share/texlive/texmf-dist/tex/latex/tools/enumerate.sty)\n",
       "    (/usr/share/texlive/texmf-dist/tex/latex/geometry/geometry.sty\n",
       "    (/usr/share/texlive/texmf-dist/tex/generic/iftex/ifvtex.sty\n",
       "    (/usr/share/texlive/texmf-dist/tex/generic/iftex/iftex.sty)))\n",
       "    (/usr/share/texlive/texmf-dist/tex/latex/amsmath/amsmath.sty\n",
       "    For additional information on amsmath, use the `?&#x27; option.\n",
       "    (/usr/share/texlive/texmf-dist/tex/latex/amsmath/amstext.sty\n",
       "    (/usr/share/texlive/texmf-dist/tex/latex/amsmath/amsgen.sty))\n",
       "    (/usr/share/texlive/texmf-dist/tex/latex/amsmath/amsbsy.sty)\n",
       "    (/usr/share/texlive/texmf-dist/tex/latex/amsmath/amsopn.sty))\n",
       "    (/usr/share/texlive/texmf-dist/tex/latex/amsfonts/amssymb.sty\n",
       "    (/usr/share/texlive/texmf-dist/tex/latex/amsfonts/amsfonts.sty))\n",
       "    (/usr/share/texlive/texmf-dist/tex/latex/base/textcomp.sty)\n",
       "    (/usr/share/texlive/texmf-dist/tex/latex/upquote/upquote.sty)\n",
       "    (/usr/share/texlive/texmf-dist/tex/latex/eurosym/eurosym.sty)\n",
       "    (/usr/share/texlive/texmf-dist/tex/latex/fontspec/fontspec.sty\n",
       "    (/usr/share/texlive/texmf-dist/tex/latex/l3packages/xparse/xparse.sty\n",
       "    (/usr/share/texlive/texmf-dist/tex/latex/l3kernel/expl3.sty\n",
       "    (/usr/share/texlive/texmf-dist/tex/latex/l3backend/l3backend-xetex.def\n",
       "    (|extractbb --version))))\n",
       "    (/usr/share/texlive/texmf-dist/tex/latex/fontspec/fontspec-xetex.sty\n",
       "    (/usr/share/texlive/texmf-dist/tex/latex/base/fontenc.sty)\n",
       "    (/usr/share/texlive/texmf-dist/tex/latex/fontspec/fontspec.cfg)))\n",
       "    (/usr/share/texlive/texmf-dist/tex/latex/unicode-math/unicode-math.sty\n",
       "    (/usr/share/texlive/texmf-dist/tex/latex/unicode-math/unicode-math-xetex.sty\n",
       "    (/usr/share/texlive/texmf-dist/tex/latex/l3packages/l3keys2e/l3keys2e.sty)\n",
       "    (/usr/share/texlive/texmf-dist/tex/latex/base/fix-cm.sty\n",
       "    (/usr/share/texlive/texmf-dist/tex/latex/base/ts1enc.def))\n",
       "    (/usr/share/texlive/texmf-dist/tex/latex/unicode-math/unicode-math-table.tex)))\n",
       "    (/usr/share/texlive/texmf-dist/tex/latex/fancyvrb/fancyvrb.sty)\n",
       "    (/usr/share/texlive/texmf-dist/tex/latex/grffile/grffile.sty)\n",
       "    (/usr/share/texlive/texmf-dist/tex/latex/adjustbox/adjustbox.sty\n",
       "    (/usr/share/texlive/texmf-dist/tex/latex/xkeyval/xkeyval.sty\n",
       "    (/usr/share/texlive/texmf-dist/tex/generic/xkeyval/xkeyval.tex\n",
       "    (/usr/share/texlive/texmf-dist/tex/generic/xkeyval/xkvutils.tex)))\n",
       "    (/usr/share/texlive/texmf-dist/tex/latex/adjustbox/adjcalc.sty)\n",
       "    (/usr/share/texlive/texmf-dist/tex/latex/adjustbox/trimclip.sty\n",
       "    (/usr/share/texlive/texmf-dist/tex/latex/collectbox/collectbox.sty)\n",
       "    (/usr/share/texlive/texmf-dist/tex/latex/adjustbox/tc-xetex.def))\n",
       "    (/usr/share/texlive/texmf-dist/tex/latex/ifoddpage/ifoddpage.sty)\n",
       "    (/usr/share/texlive/texmf-dist/tex/latex/varwidth/varwidth.sty))\n",
       "    (/usr/share/texlive/texmf-dist/tex/latex/hyperref/hyperref.sty\n",
       "    (/usr/share/texlive/texmf-dist/tex/generic/ltxcmds/ltxcmds.sty)\n",
       "    (/usr/share/texlive/texmf-dist/tex/generic/pdftexcmds/pdftexcmds.sty\n",
       "    (/usr/share/texlive/texmf-dist/tex/generic/infwarerr/infwarerr.sty))\n",
       "    (/usr/share/texlive/texmf-dist/tex/generic/kvsetkeys/kvsetkeys.sty)\n",
       "    (/usr/share/texlive/texmf-dist/tex/generic/kvdefinekeys/kvdefinekeys.sty)\n",
       "    (/usr/share/texlive/texmf-dist/tex/generic/pdfescape/pdfescape.sty)\n",
       "    (/usr/share/texlive/texmf-dist/tex/latex/hycolor/hycolor.sty)\n",
       "    (/usr/share/texlive/texmf-dist/tex/latex/letltxmacro/letltxmacro.sty)\n",
       "    (/usr/share/texlive/texmf-dist/tex/latex/auxhook/auxhook.sty)\n",
       "    (/usr/share/texlive/texmf-dist/tex/latex/kvoptions/kvoptions.sty)\n",
       "    (/usr/share/texlive/texmf-dist/tex/latex/hyperref/pd1enc.def)\n",
       "    (/usr/share/texlive/texmf-dist/tex/latex/hyperref/hyperref-langpatches.def)\n",
       "    (/usr/share/texlive/texmf-dist/tex/generic/intcalc/intcalc.sty)\n",
       "    (/usr/share/texlive/texmf-dist/tex/generic/etexcmds/etexcmds.sty)\n",
       "    (/usr/share/texlive/texmf-dist/tex/latex/hyperref/puenc.def)\n",
       "    (/usr/share/texlive/texmf-dist/tex/latex/url/url.sty)\n",
       "    (/usr/share/texlive/texmf-dist/tex/generic/bitset/bitset.sty\n",
       "    (/usr/share/texlive/texmf-dist/tex/generic/bigintcalc/bigintcalc.sty))\n",
       "    (/usr/share/texlive/texmf-dist/tex/latex/base/atbegshi-ltx.sty))\n",
       "    (/usr/share/texlive/texmf-dist/tex/latex/hyperref/hxetex.def\n",
       "    (/usr/share/texlive/texmf-dist/tex/generic/stringenc/stringenc.sty)\n",
       "    (/usr/share/texlive/texmf-dist/tex/latex/rerunfilecheck/rerunfilecheck.sty\n",
       "    (/usr/share/texlive/texmf-dist/tex/latex/base/atveryend-ltx.sty)\n",
       "    (/usr/share/texlive/texmf-dist/tex/generic/uniquecounter/uniquecounter.sty)))\n",
       "    (/usr/share/texlive/texmf-dist/tex/latex/titling/titling.sty)\n",
       "    (/usr/share/texlive/texmf-dist/tex/latex/tools/longtable.sty)\n",
       "    (/usr/share/texlive/texmf-dist/tex/latex/booktabs/booktabs.sty)\n",
       "    (/usr/share/texlive/texmf-dist/tex/latex/tools/array.sty)\n",
       "    (/usr/share/texlive/texmf-dist/tex/latex/tools/calc.sty)\n",
       "    (/usr/share/texlive/texmf-dist/tex/latex/enumitem/enumitem.sty)\n",
       "    (/usr/share/texlive/texmf-dist/tex/generic/ulem/ulem.sty)\n",
       "    (/usr/share/texlive/texmf-dist/tex/generic/soul/soul.sty)\n",
       "    (/usr/share/texlive/texmf-dist/tex/latex/jknapltx/mathrsfs.sty)\n",
       "    No file notebook.aux.\n",
       "    (/usr/share/texlive/texmf-dist/tex/latex/caption/ltcaption.sty)\n",
       "    *geometry* driver: auto-detecting\n",
       "    *geometry* detected driver: xetex\n",
       "\n",
       "    Package geometry Warning: The marginal notes overrun the paper.\n",
       "         Add 3.73001pt and more to the right margin.\n",
       "\n",
       "    *geometry* verbose mode - [ preamble ] result:\n",
       "    * driver: xetex\n",
       "    * paper: &lt;default&gt;\n",
       "    * layout: &lt;same size as paper&gt;\n",
       "    * layoutoffset:(h,v)=(0.0pt,0.0pt)\n",
       "    * modes: \n",
       "    * h-part:(L,W,R)=(72.26999pt, 469.75502pt, 72.26999pt)\n",
       "    * v-part:(T,H,B)=(72.26999pt, 650.43001pt, 72.26999pt)\n",
       "    * \\paperwidth=614.295pt\n",
       "    * \\paperheight=794.96999pt\n",
       "    * \\textwidth=469.75502pt\n",
       "    * \\textheight=650.43001pt\n",
       "    * \\oddsidemargin=0.0pt\n",
       "    * \\evensidemargin=0.0pt\n",
       "    * \\topmargin=-37.0pt\n",
       "    * \\headheight=12.0pt\n",
       "    * \\headsep=25.0pt\n",
       "    * \\topskip=10.0pt\n",
       "    * \\footskip=30.0pt\n",
       "    * \\marginparwidth=65.0pt\n",
       "    * \\marginparsep=11.0pt\n",
       "    * \\columnsep=10.0pt\n",
       "    * \\skip\\footins=9.0pt plus 4.0pt minus 2.0pt\n",
       "    * \\hoffset=0.0pt\n",
       "    * \\voffset=0.0pt\n",
       "    * \\mag=1000\n",
       "    * \\@twocolumnfalse\n",
       "    * \\@twosidefalse\n",
       "    * \\@mparswitchfalse\n",
       "    * \\@reversemarginfalse\n",
       "    * (1in=72.27pt=25.4mm, 1cm=28.453pt)\n",
       "\n",
       "    (/usr/share/texlive/texmf-dist/tex/latex/hyperref/nameref.sty\n",
       "    (/usr/share/texlive/texmf-dist/tex/latex/refcount/refcount.sty)\n",
       "    (/usr/share/texlive/texmf-dist/tex/generic/gettitlestring/gettitlestring.sty))\n",
       "\n",
       "    Package hyperref Warning: Rerun to get /PageLabels entry.\n",
       "\n",
       "    [1] [2] [3]\n",
       "    Underfull \\hbox (badness 10000) in paragraph at lines 377--378\n",
       "\n",
       "    [4]\n",
       "    Underfull \\hbox (badness 1303) in paragraph at lines 387--391\n",
       "    \\TU/lmr/m/n/10 Explain your results in Question 6a and Question 6b. How did you\n",
       "     know what to assign to\n",
       "\n",
       "    Underfull \\hbox (badness 1546) in paragraph at lines 409--411\n",
       "    []\\TU/lmr/m/n/10 Zero_predictor_recall is assigned to zero because the zero pre\n",
       "    dictor fp is zero divided by\n",
       "    [5] [6] [7] [8] [9]\n",
       "    Underfull \\hbox (badness 10000) in paragraph at lines 474--475\n",
       "\n",
       "    [10]\n",
       "    ! Missing $ inserted.\n",
       "    &lt;inserted text&gt; \n",
       "                    $\n",
       "    l.507 - my_\n",
       "               model accuracy:  0.7576201251164648\n",
       "    ? \n",
       "    ! Emergency stop.\n",
       "    &lt;inserted text&gt; \n",
       "                    $\n",
       "    l.507 - my_\n",
       "               model accuracy:  0.7576201251164648\n",
       "    Output written on notebook.pdf (10 pages).\n",
       "    Transcript written on notebook.log.\n",
       " info=&lt;ExecutionInfo object at 7f30f8eb2790, raw_cell=&quot;# Save your notebook first, then run this cell to ..&quot; store_history=True silent=False shell_futures=True cell_id=74b63626-ed5d-48e3-bc6d-766079a3acf2&gt; result=None&gt;\">result</span> is not None:</span>\n",
       "<span class='line'>  <span class='lineno'>3525</span>                  <span class=\"variable\" data-tooltip=\"&lt;ExecutionResult object at 7f30f8e29fd0, execution_count=29 error_before_exec=None error_in_exec=There was an error generating your LaTeX; showing full error message:\n",
       "    Failed to run &quot;[&#x27;xelatex&#x27;, &#x27;notebook.tex&#x27;, &#x27;-quiet&#x27;]&quot; command:\n",
       "    This is XeTeX, Version 3.141592653-2.6-0.999993 (TeX Live 2022/dev/Debian) (preloaded format=xelatex)\n",
       "     restricted \\write18 enabled.\n",
       "    entering extended mode\n",
       "    (./notebook.tex\n",
       "    LaTeX2e &lt;2021-11-15&gt; patch level 1\n",
       "    L3 programming layer &lt;2022-01-21&gt;\n",
       "    (/usr/share/texlive/texmf-dist/tex/latex/base/article.cls\n",
       "    Document Class: article 2021/10/04 v1.4n Standard LaTeX document class\n",
       "    (/usr/share/texlive/texmf-dist/tex/latex/base/size10.clo))\n",
       "    (/usr/share/texlive/texmf-dist/tex/latex/graphics/graphicx.sty\n",
       "    (/usr/share/texlive/texmf-dist/tex/latex/graphics/keyval.sty)\n",
       "    (/usr/share/texlive/texmf-dist/tex/latex/graphics/graphics.sty\n",
       "    (/usr/share/texlive/texmf-dist/tex/latex/graphics/trig.sty)\n",
       "    (/usr/share/texlive/texmf-dist/tex/latex/graphics-cfg/graphics.cfg)\n",
       "    (/usr/share/texlive/texmf-dist/tex/latex/graphics-def/xetex.def)))\n",
       "    (/usr/share/texlive/texmf-dist/tex/latex/caption/caption.sty\n",
       "    (/usr/share/texlive/texmf-dist/tex/latex/caption/caption3.sty))\n",
       "    (/usr/share/texlive/texmf-dist/tex/latex/float/float.sty)\n",
       "    (/usr/share/texlive/texmf-dist/tex/latex/xcolor/xcolor.sty\n",
       "    (/usr/share/texlive/texmf-dist/tex/latex/graphics-cfg/color.cfg))\n",
       "    (/usr/share/texlive/texmf-dist/tex/latex/tools/enumerate.sty)\n",
       "    (/usr/share/texlive/texmf-dist/tex/latex/geometry/geometry.sty\n",
       "    (/usr/share/texlive/texmf-dist/tex/generic/iftex/ifvtex.sty\n",
       "    (/usr/share/texlive/texmf-dist/tex/generic/iftex/iftex.sty)))\n",
       "    (/usr/share/texlive/texmf-dist/tex/latex/amsmath/amsmath.sty\n",
       "    For additional information on amsmath, use the `?&#x27; option.\n",
       "    (/usr/share/texlive/texmf-dist/tex/latex/amsmath/amstext.sty\n",
       "    (/usr/share/texlive/texmf-dist/tex/latex/amsmath/amsgen.sty))\n",
       "    (/usr/share/texlive/texmf-dist/tex/latex/amsmath/amsbsy.sty)\n",
       "    (/usr/share/texlive/texmf-dist/tex/latex/amsmath/amsopn.sty))\n",
       "    (/usr/share/texlive/texmf-dist/tex/latex/amsfonts/amssymb.sty\n",
       "    (/usr/share/texlive/texmf-dist/tex/latex/amsfonts/amsfonts.sty))\n",
       "    (/usr/share/texlive/texmf-dist/tex/latex/base/textcomp.sty)\n",
       "    (/usr/share/texlive/texmf-dist/tex/latex/upquote/upquote.sty)\n",
       "    (/usr/share/texlive/texmf-dist/tex/latex/eurosym/eurosym.sty)\n",
       "    (/usr/share/texlive/texmf-dist/tex/latex/fontspec/fontspec.sty\n",
       "    (/usr/share/texlive/texmf-dist/tex/latex/l3packages/xparse/xparse.sty\n",
       "    (/usr/share/texlive/texmf-dist/tex/latex/l3kernel/expl3.sty\n",
       "    (/usr/share/texlive/texmf-dist/tex/latex/l3backend/l3backend-xetex.def\n",
       "    (|extractbb --version))))\n",
       "    (/usr/share/texlive/texmf-dist/tex/latex/fontspec/fontspec-xetex.sty\n",
       "    (/usr/share/texlive/texmf-dist/tex/latex/base/fontenc.sty)\n",
       "    (/usr/share/texlive/texmf-dist/tex/latex/fontspec/fontspec.cfg)))\n",
       "    (/usr/share/texlive/texmf-dist/tex/latex/unicode-math/unicode-math.sty\n",
       "    (/usr/share/texlive/texmf-dist/tex/latex/unicode-math/unicode-math-xetex.sty\n",
       "    (/usr/share/texlive/texmf-dist/tex/latex/l3packages/l3keys2e/l3keys2e.sty)\n",
       "    (/usr/share/texlive/texmf-dist/tex/latex/base/fix-cm.sty\n",
       "    (/usr/share/texlive/texmf-dist/tex/latex/base/ts1enc.def))\n",
       "    (/usr/share/texlive/texmf-dist/tex/latex/unicode-math/unicode-math-table.tex)))\n",
       "    (/usr/share/texlive/texmf-dist/tex/latex/fancyvrb/fancyvrb.sty)\n",
       "    (/usr/share/texlive/texmf-dist/tex/latex/grffile/grffile.sty)\n",
       "    (/usr/share/texlive/texmf-dist/tex/latex/adjustbox/adjustbox.sty\n",
       "    (/usr/share/texlive/texmf-dist/tex/latex/xkeyval/xkeyval.sty\n",
       "    (/usr/share/texlive/texmf-dist/tex/generic/xkeyval/xkeyval.tex\n",
       "    (/usr/share/texlive/texmf-dist/tex/generic/xkeyval/xkvutils.tex)))\n",
       "    (/usr/share/texlive/texmf-dist/tex/latex/adjustbox/adjcalc.sty)\n",
       "    (/usr/share/texlive/texmf-dist/tex/latex/adjustbox/trimclip.sty\n",
       "    (/usr/share/texlive/texmf-dist/tex/latex/collectbox/collectbox.sty)\n",
       "    (/usr/share/texlive/texmf-dist/tex/latex/adjustbox/tc-xetex.def))\n",
       "    (/usr/share/texlive/texmf-dist/tex/latex/ifoddpage/ifoddpage.sty)\n",
       "    (/usr/share/texlive/texmf-dist/tex/latex/varwidth/varwidth.sty))\n",
       "    (/usr/share/texlive/texmf-dist/tex/latex/hyperref/hyperref.sty\n",
       "    (/usr/share/texlive/texmf-dist/tex/generic/ltxcmds/ltxcmds.sty)\n",
       "    (/usr/share/texlive/texmf-dist/tex/generic/pdftexcmds/pdftexcmds.sty\n",
       "    (/usr/share/texlive/texmf-dist/tex/generic/infwarerr/infwarerr.sty))\n",
       "    (/usr/share/texlive/texmf-dist/tex/generic/kvsetkeys/kvsetkeys.sty)\n",
       "    (/usr/share/texlive/texmf-dist/tex/generic/kvdefinekeys/kvdefinekeys.sty)\n",
       "    (/usr/share/texlive/texmf-dist/tex/generic/pdfescape/pdfescape.sty)\n",
       "    (/usr/share/texlive/texmf-dist/tex/latex/hycolor/hycolor.sty)\n",
       "    (/usr/share/texlive/texmf-dist/tex/latex/letltxmacro/letltxmacro.sty)\n",
       "    (/usr/share/texlive/texmf-dist/tex/latex/auxhook/auxhook.sty)\n",
       "    (/usr/share/texlive/texmf-dist/tex/latex/kvoptions/kvoptions.sty)\n",
       "    (/usr/share/texlive/texmf-dist/tex/latex/hyperref/pd1enc.def)\n",
       "    (/usr/share/texlive/texmf-dist/tex/latex/hyperref/hyperref-langpatches.def)\n",
       "    (/usr/share/texlive/texmf-dist/tex/generic/intcalc/intcalc.sty)\n",
       "    (/usr/share/texlive/texmf-dist/tex/generic/etexcmds/etexcmds.sty)\n",
       "    (/usr/share/texlive/texmf-dist/tex/latex/hyperref/puenc.def)\n",
       "    (/usr/share/texlive/texmf-dist/tex/latex/url/url.sty)\n",
       "    (/usr/share/texlive/texmf-dist/tex/generic/bitset/bitset.sty\n",
       "    (/usr/share/texlive/texmf-dist/tex/generic/bigintcalc/bigintcalc.sty))\n",
       "    (/usr/share/texlive/texmf-dist/tex/latex/base/atbegshi-ltx.sty))\n",
       "    (/usr/share/texlive/texmf-dist/tex/latex/hyperref/hxetex.def\n",
       "    (/usr/share/texlive/texmf-dist/tex/generic/stringenc/stringenc.sty)\n",
       "    (/usr/share/texlive/texmf-dist/tex/latex/rerunfilecheck/rerunfilecheck.sty\n",
       "    (/usr/share/texlive/texmf-dist/tex/latex/base/atveryend-ltx.sty)\n",
       "    (/usr/share/texlive/texmf-dist/tex/generic/uniquecounter/uniquecounter.sty)))\n",
       "    (/usr/share/texlive/texmf-dist/tex/latex/titling/titling.sty)\n",
       "    (/usr/share/texlive/texmf-dist/tex/latex/tools/longtable.sty)\n",
       "    (/usr/share/texlive/texmf-dist/tex/latex/booktabs/booktabs.sty)\n",
       "    (/usr/share/texlive/texmf-dist/tex/latex/tools/array.sty)\n",
       "    (/usr/share/texlive/texmf-dist/tex/latex/tools/calc.sty)\n",
       "    (/usr/share/texlive/texmf-dist/tex/latex/enumitem/enumitem.sty)\n",
       "    (/usr/share/texlive/texmf-dist/tex/generic/ulem/ulem.sty)\n",
       "    (/usr/share/texlive/texmf-dist/tex/generic/soul/soul.sty)\n",
       "    (/usr/share/texlive/texmf-dist/tex/latex/jknapltx/mathrsfs.sty)\n",
       "    No file notebook.aux.\n",
       "    (/usr/share/texlive/texmf-dist/tex/latex/caption/ltcaption.sty)\n",
       "    *geometry* driver: auto-detecting\n",
       "    *geometry* detected driver: xetex\n",
       "\n",
       "    Package geometry Warning: The marginal notes overrun the paper.\n",
       "         Add 3.73001pt and more to the right margin.\n",
       "\n",
       "    *geometry* verbose mode - [ preamble ] result:\n",
       "    * driver: xetex\n",
       "    * paper: &lt;default&gt;\n",
       "    * layout: &lt;same size as paper&gt;\n",
       "    * layoutoffset:(h,v)=(0.0pt,0.0pt)\n",
       "    * modes: \n",
       "    * h-part:(L,W,R)=(72.26999pt, 469.75502pt, 72.26999pt)\n",
       "    * v-part:(T,H,B)=(72.26999pt, 650.43001pt, 72.26999pt)\n",
       "    * \\paperwidth=614.295pt\n",
       "    * \\paperheight=794.96999pt\n",
       "    * \\textwidth=469.75502pt\n",
       "    * \\textheight=650.43001pt\n",
       "    * \\oddsidemargin=0.0pt\n",
       "    * \\evensidemargin=0.0pt\n",
       "    * \\topmargin=-37.0pt\n",
       "    * \\headheight=12.0pt\n",
       "    * \\headsep=25.0pt\n",
       "    * \\topskip=10.0pt\n",
       "    * \\footskip=30.0pt\n",
       "    * \\marginparwidth=65.0pt\n",
       "    * \\marginparsep=11.0pt\n",
       "    * \\columnsep=10.0pt\n",
       "    * \\skip\\footins=9.0pt plus 4.0pt minus 2.0pt\n",
       "    * \\hoffset=0.0pt\n",
       "    * \\voffset=0.0pt\n",
       "    * \\mag=1000\n",
       "    * \\@twocolumnfalse\n",
       "    * \\@twosidefalse\n",
       "    * \\@mparswitchfalse\n",
       "    * \\@reversemarginfalse\n",
       "    * (1in=72.27pt=25.4mm, 1cm=28.453pt)\n",
       "\n",
       "    (/usr/share/texlive/texmf-dist/tex/latex/hyperref/nameref.sty\n",
       "    (/usr/share/texlive/texmf-dist/tex/latex/refcount/refcount.sty)\n",
       "    (/usr/share/texlive/texmf-dist/tex/generic/gettitlestring/gettitlestring.sty))\n",
       "\n",
       "    Package hyperref Warning: Rerun to get /PageLabels entry.\n",
       "\n",
       "    [1] [2] [3]\n",
       "    Underfull \\hbox (badness 10000) in paragraph at lines 377--378\n",
       "\n",
       "    [4]\n",
       "    Underfull \\hbox (badness 1303) in paragraph at lines 387--391\n",
       "    \\TU/lmr/m/n/10 Explain your results in Question 6a and Question 6b. How did you\n",
       "     know what to assign to\n",
       "\n",
       "    Underfull \\hbox (badness 1546) in paragraph at lines 409--411\n",
       "    []\\TU/lmr/m/n/10 Zero_predictor_recall is assigned to zero because the zero pre\n",
       "    dictor fp is zero divided by\n",
       "    [5] [6] [7] [8] [9]\n",
       "    Underfull \\hbox (badness 10000) in paragraph at lines 474--475\n",
       "\n",
       "    [10]\n",
       "    ! Missing $ inserted.\n",
       "    &lt;inserted text&gt; \n",
       "                    $\n",
       "    l.507 - my_\n",
       "               model accuracy:  0.7576201251164648\n",
       "    ? \n",
       "    ! Emergency stop.\n",
       "    &lt;inserted text&gt; \n",
       "                    $\n",
       "    l.507 - my_\n",
       "               model accuracy:  0.7576201251164648\n",
       "    Output written on notebook.pdf (10 pages).\n",
       "    Transcript written on notebook.log.\n",
       " info=&lt;ExecutionInfo object at 7f30f8eb2790, raw_cell=&quot;# Save your notebook first, then run this cell to ..&quot; store_history=True silent=False shell_futures=True cell_id=74b63626-ed5d-48e3-bc6d-766079a3acf2&gt; result=None&gt;\">result</span>.error_in_exec = <span class=\"variable\" data-tooltip=\"ExportFailedException(&#x27;There was an error generating your LaTeX; showing full error message:\\n    Failed to run &quot;[\\&#x27;xelatex\\&#x27;, \\&#x27;notebook.tex\\&#x27;, \\&#x27;-quiet\\&#x27;]&quot; command:\\n    This is XeTeX, Version 3.141592653-2.6-0.999993 (TeX Live 2022/dev/Debian) (preloaded format=xelatex)\\n     restricted \\\\write18 enabled.\\n    entering extended mode\\n    (./notebook.tex\\n    LaTeX2e &lt;2021-11-15&gt; patch level 1\\n    L3 programming layer &lt;2022-01-21&gt;\\n    (/usr/share/texlive/texmf-dist/tex/latex/base/article.cls\\n    Document Class: article 2021/10/04 v1.4n Standard LaTeX document class\\n    (/usr/share/texlive/texmf-dist/tex/latex/base/size10.clo))\\n    (/usr/share/texlive/texmf-dist/tex/latex/graphics/graphicx.sty\\n    (/usr/share/texlive/texmf-dist/tex/latex/graphics/keyval.sty)\\n    (/usr/share/texlive/texmf-dist/tex/latex/graphics/graphics.sty\\n    (/usr/share/texlive/texmf-dist/tex/latex/graphics/trig.sty)\\n    (/usr/share/texlive/texmf-dist/tex/latex/graphics-cfg/graphics.cfg)\\n    (/usr/share/texlive/texmf-dist/tex/latex/graphics-def/xetex.def)))\\n    (/usr/share/texlive/texmf-dist/tex/latex/caption/caption.sty\\n    (/usr/share/texlive/texmf-dist/tex/latex/caption/caption3.sty))\\n    (/usr/share/texlive/texmf-dist/tex/latex/float/float.sty)\\n    (/usr/share/texlive/texmf-dist/tex/latex/xcolor/xcolor.sty\\n    (/usr/share/texlive/texmf-dist/tex/latex/graphics-cfg/color.cfg))\\n    (/usr/share/texlive/texmf-dist/tex/latex/tools/enumerate.sty)\\n    (/usr/share/texlive/texmf-dist/tex/latex/geometry/geometry.sty\\n    (/usr/share/texlive/texmf-dist/tex/generic/iftex/ifvtex.sty\\n    (/usr/share/texlive/texmf-dist/tex/generic/iftex/iftex.sty)))\\n    (/usr/share/texlive/texmf-dist/tex/latex/amsmath/amsmath.sty\\n    For additional information on amsmath, use the `?\\&#x27; option.\\n    (/usr/share/texlive/texmf-dist/tex/latex/amsmath/amstext.sty\\n    (/usr/share/texlive/texmf-dist/tex/latex/amsmath/amsgen.sty))\\n    (/usr/share/texlive/texmf-dist/tex/latex/amsmath/amsbsy.sty)\\n    (/usr/share/texlive/texmf-dist/tex/latex/amsmath/amsopn.sty))\\n    (/usr/share/texlive/texmf-dist/tex/latex/amsfonts/amssymb.sty\\n    (/usr/share/texlive/texmf-dist/tex/latex/amsfonts/amsfonts.sty))\\n    (/usr/share/texlive/texmf-dist/tex/latex/base/textcomp.sty)\\n    (/usr/share/texlive/texmf-dist/tex/latex/upquote/upquote.sty)\\n    (/usr/share/texlive/texmf-dist/tex/latex/eurosym/eurosym.sty)\\n    (/usr/share/texlive/texmf-dist/tex/latex/fontspec/fontspec.sty\\n    (/usr/share/texlive/texmf-dist/tex/latex/l3packages/xparse/xparse.sty\\n    (/usr/share/texlive/texmf-dist/tex/latex/l3kernel/expl3.sty\\n    (/usr/share/texlive/texmf-dist/tex/latex/l3backend/l3backend-xetex.def\\n    (|extractbb --version))))\\n    (/usr/share/texlive/texmf-dist/tex/latex/fontspec/fontspec-xetex.sty\\n    (/usr/share/texlive/texmf-dist/tex/latex/base/fontenc.sty)\\n    (/usr/share/texlive/texmf-dist/tex/latex/fontspec/fontspec.cfg)))\\n    (/usr/share/texlive/texmf-dist/tex/latex/unicode-math/unicode-math.sty\\n    (/usr/share/texlive/texmf-dist/tex/latex/unicode-math/unicode-math-xetex.sty\\n    (/usr/share/texlive/texmf-dist/tex/latex/l3packages/l3keys2e/l3keys2e.sty)\\n    (/usr/share/texlive/texmf-dist/tex/latex/base/fix-cm.sty\\n    (/usr/share/texlive/texmf-dist/tex/latex/base/ts1enc.def))\\n    (/usr/share/texlive/texmf-dist/tex/latex/unicode-math/unicode-math-table.tex)))\\n    (/usr/share/texlive/texmf-dist/tex/latex/fancyvrb/fancyvrb.sty)\\n    (/usr/share/texlive/texmf-dist/tex/latex/grffile/grffile.sty)\\n    (/usr/share/texlive/texmf-dist/tex/latex/adjustbox/adjustbox.sty\\n    (/usr/share/texlive/texmf-dist/tex/latex/xkeyval/xkeyval.sty\\n    (/usr/share/texlive/texmf-dist/tex/generic/xkeyval/xkeyval.tex\\n    (/usr/share/texlive/texmf-dist/tex/generic/xkeyval/xkvutils.tex)))\\n    (/usr/share/texlive/texmf-dist/tex/latex/adjustbox/adjcalc.sty)\\n    (/usr/share/texlive/texmf-dist/tex/latex/adjustbox/trimclip.sty\\n    (/usr/share/texlive/texmf-dist/tex/latex/collectbox/collectbox.sty)\\n    (/usr/share/texlive/texmf-dist/tex/latex/adjustbox/tc-xetex.def))\\n    (/usr/share/texlive/texmf-dist/tex/latex/ifoddpage/ifoddpage.sty)\\n    (/usr/share/texlive/texmf-dist/tex/latex/varwidth/varwidth.sty))\\n    (/usr/share/texlive/texmf-dist/tex/latex/hyperref/hyperref.sty\\n    (/usr/share/texlive/texmf-dist/tex/generic/ltxcmds/ltxcmds.sty)\\n    (/usr/share/texlive/texmf-dist/tex/generic/pdftexcmds/pdftexcmds.sty\\n    (/usr/share/texlive/texmf-dist/tex/generic/infwarerr/infwarerr.sty))\\n    (/usr/share/texlive/texmf-dist/tex/generic/kvsetkeys/kvsetkeys.sty)\\n    (/usr/share/texlive/texmf-dist/tex/generic/kvdefinekeys/kvdefinekeys.sty)\\n    (/usr/share/texlive/texmf-dist/tex/generic/pdfescape/pdfescape.sty)\\n    (/usr/share/texlive/texmf-dist/tex/latex/hycolor/hycolor.sty)\\n    (/usr/share/texlive/texmf-dist/tex/latex/letltxmacro/letltxmacro.sty)\\n    (/usr/share/texlive/texmf-dist/tex/latex/auxhook/auxhook.sty)\\n    (/usr/share/texlive/texmf-dist/tex/latex/kvoptions/kvoptions.sty)\\n    (/usr/share/texlive/texmf-dist/tex/latex/hyperref/pd1enc.def)\\n    (/usr/share/texlive/texmf-dist/tex/latex/hyperref/hyperref-langpatches.def)\\n    (/usr/share/texlive/texmf-dist/tex/generic/intcalc/intcalc.sty)\\n    (/usr/share/texlive/texmf-dist/tex/generic/etexcmds/etexcmds.sty)\\n    (/usr/share/texlive/texmf-dist/tex/latex/hyperref/puenc.def)\\n    (/usr/share/texlive/texmf-dist/tex/latex/url/url.sty)\\n    (/usr/share/texlive/texmf-dist/tex/generic/bitset/bitset.sty\\n    (/usr/share/texlive/texmf-dist/tex/generic/bigintcalc/bigintcalc.sty))\\n    (/usr/share/texlive/texmf-dist/tex/latex/base/atbegshi-ltx.sty))\\n    (/usr/share/texlive/texmf-dist/tex/latex/hyperref/hxetex.def\\n    (/usr/share/texlive/texmf-dist/tex/generic/stringenc/stringenc.sty)\\n    (/usr/share/texlive/texmf-dist/tex/latex/rerunfilecheck/rerunfilecheck.sty\\n    (/usr/share/texlive/texmf-dist/tex/latex/base/atveryend-ltx.sty)\\n    (/usr/share/texlive/texmf-dist/tex/generic/uniquecounter/uniquecounter.sty)))\\n    (/usr/share/texlive/texmf-dist/tex/latex/titling/titling.sty)\\n    (/usr/share/texlive/texmf-dist/tex/latex/tools/longtable.sty)\\n    (/usr/share/texlive/texmf-dist/tex/latex/booktabs/booktabs.sty)\\n    (/usr/share/texlive/texmf-dist/tex/latex/tools/array.sty)\\n    (/usr/share/texlive/texmf-dist/tex/latex/tools/calc.sty)\\n    (/usr/share/texlive/texmf-dist/tex/latex/enumitem/enumitem.sty)\\n    (/usr/share/texlive/texmf-dist/tex/generic/ulem/ulem.sty)\\n    (/usr/share/texlive/texmf-dist/tex/generic/soul/soul.sty)\\n    (/usr/share/texlive/texmf-dist/tex/latex/jknapltx/mathrsfs.sty)\\n    No file notebook.aux.\\n    (/usr/share/texlive/texmf-dist/tex/latex/caption/ltcaption.sty)\\n    *geometry* driver: auto-detecting\\n    *geometry* detected driver: xetex\\n\\n    Package geometry Warning: The marginal notes overrun the paper.\\n         Add 3.73001pt and more to the right margin.\\n\\n    *geometry* verbose mode - [ preamble ] result:\\n    * driver: xetex\\n    * paper: &lt;default&gt;\\n    * layout: &lt;same size as paper&gt;\\n    * layoutoffset:(h,v)=(0.0pt,0.0pt)\\n    * modes: \\n    * h-part:(L,W,R)=(72.26999pt, 469.75502pt, 72.26999pt)\\n    * v-part:(T,H,B)=(72.26999pt, 650.43001pt, 72.26999pt)\\n    * \\\\paperwidth=614.295pt\\n    * \\\\paperheight=794.96999pt\\n    * \\\\textwidth=469.75502pt\\n    * \\\\textheight=650.43001pt\\n    * \\\\oddsidemargin=0.0pt\\n    * \\\\evensidemargin=0.0pt\\n    * \\\\topmargin=-37.0pt\\n    * \\\\headheight=12.0pt\\n    * \\\\headsep=25.0pt\\n    * \\\\topskip=10.0pt\\n    * \\\\footskip=30.0pt\\n    * \\\\marginparwidth=65.0pt\\n    * \\\\marginparsep=11.0pt\\n    * \\\\columnsep=10.0pt\\n    * \\\\skip\\\\footins=9.0pt plus 4.0pt minus 2.0pt\\n    * \\\\hoffset=0.0pt\\n    * \\\\voffset=0.0pt\\n    * \\\\mag=1000\\n    * \\\\@twocolumnfalse\\n    * \\\\@twosidefalse\\n    * \\\\@mparswitchfalse\\n    * \\\\@reversemarginfalse\\n    * (1in=72.27pt=25.4mm, 1cm=28.453pt)\\n\\n    (/usr/share/texlive/texmf-dist/tex/latex/hyperref/nameref.sty\\n    (/usr/share/texlive/texmf-dist/tex/latex/refcount/refcount.sty)\\n    (/usr/share/texlive/texmf-dist/tex/generic/gettitlestring/gettitlestring.sty))\\n\\n    Package hyperref Warning: Rerun to get /PageLabels entry.\\n\\n    [1] [2] [3]\\n    Underfull \\\\hbox (badness 10000) in paragraph at lines 377--378\\n\\n    [4]\\n    Underfull \\\\hbox (badness 1303) in paragraph at lines 387--391\\n    \\\\TU/lmr/m/n/10 Explain your results in Question 6a and Question 6b. How did you\\n     know what to assign to\\n\\n    Underfull \\\\hbox (badness 1546) in paragraph at lines 409--411\\n    []\\\\TU/lmr/m/n/10 Zero_predictor_recall is assigned to zero because the zero pre\\n    dictor fp is zero divided by\\n    [5] [6] [7] [8] [9]\\n    Underfull \\\\hbox (badness 10000) in paragraph at lines 474--475\\n\\n    [10]\\n    ! Missing $ inserted.\\n    &lt;inserted text&gt; \\n                    $\\n    l.507 - my_\\n               model accuracy:  0.7576201251164648\\n    ? \\n    ! Emergency stop.\\n    &lt;inserted text&gt; \\n                    $\\n    l.507 - my_\\n               model accuracy:  0.7576201251164648\\n    Output written on notebook.pdf (10 pages).\\n    Transcript written on notebook.log.\\n&#x27;)\">value</span></span>\n",
       "<span class='line highlight'>&rightarrow; <span class='lineno'>3526</span>              <span class=\"variable\" data-tooltip=\"&lt;ipykernel.zmqshell.ZMQInteractiveShell object at 0x7f316609f690&gt;\">self</span>.CustomTB(<span class=\"variable\" data-tooltip=\"&lt;class &#x27;otter.export.exporters.base_exporter.ExportFailedException&#x27;&gt;\">etype</span>, <span class=\"variable\" data-tooltip=\"ExportFailedException(&#x27;There was an error generating your LaTeX; showing full error message:\\n    Failed to run &quot;[\\&#x27;xelatex\\&#x27;, \\&#x27;notebook.tex\\&#x27;, \\&#x27;-quiet\\&#x27;]&quot; command:\\n    This is XeTeX, Version 3.141592653-2.6-0.999993 (TeX Live 2022/dev/Debian) (preloaded format=xelatex)\\n     restricted \\\\write18 enabled.\\n    entering extended mode\\n    (./notebook.tex\\n    LaTeX2e &lt;2021-11-15&gt; patch level 1\\n    L3 programming layer &lt;2022-01-21&gt;\\n    (/usr/share/texlive/texmf-dist/tex/latex/base/article.cls\\n    Document Class: article 2021/10/04 v1.4n Standard LaTeX document class\\n    (/usr/share/texlive/texmf-dist/tex/latex/base/size10.clo))\\n    (/usr/share/texlive/texmf-dist/tex/latex/graphics/graphicx.sty\\n    (/usr/share/texlive/texmf-dist/tex/latex/graphics/keyval.sty)\\n    (/usr/share/texlive/texmf-dist/tex/latex/graphics/graphics.sty\\n    (/usr/share/texlive/texmf-dist/tex/latex/graphics/trig.sty)\\n    (/usr/share/texlive/texmf-dist/tex/latex/graphics-cfg/graphics.cfg)\\n    (/usr/share/texlive/texmf-dist/tex/latex/graphics-def/xetex.def)))\\n    (/usr/share/texlive/texmf-dist/tex/latex/caption/caption.sty\\n    (/usr/share/texlive/texmf-dist/tex/latex/caption/caption3.sty))\\n    (/usr/share/texlive/texmf-dist/tex/latex/float/float.sty)\\n    (/usr/share/texlive/texmf-dist/tex/latex/xcolor/xcolor.sty\\n    (/usr/share/texlive/texmf-dist/tex/latex/graphics-cfg/color.cfg))\\n    (/usr/share/texlive/texmf-dist/tex/latex/tools/enumerate.sty)\\n    (/usr/share/texlive/texmf-dist/tex/latex/geometry/geometry.sty\\n    (/usr/share/texlive/texmf-dist/tex/generic/iftex/ifvtex.sty\\n    (/usr/share/texlive/texmf-dist/tex/generic/iftex/iftex.sty)))\\n    (/usr/share/texlive/texmf-dist/tex/latex/amsmath/amsmath.sty\\n    For additional information on amsmath, use the `?\\&#x27; option.\\n    (/usr/share/texlive/texmf-dist/tex/latex/amsmath/amstext.sty\\n    (/usr/share/texlive/texmf-dist/tex/latex/amsmath/amsgen.sty))\\n    (/usr/share/texlive/texmf-dist/tex/latex/amsmath/amsbsy.sty)\\n    (/usr/share/texlive/texmf-dist/tex/latex/amsmath/amsopn.sty))\\n    (/usr/share/texlive/texmf-dist/tex/latex/amsfonts/amssymb.sty\\n    (/usr/share/texlive/texmf-dist/tex/latex/amsfonts/amsfonts.sty))\\n    (/usr/share/texlive/texmf-dist/tex/latex/base/textcomp.sty)\\n    (/usr/share/texlive/texmf-dist/tex/latex/upquote/upquote.sty)\\n    (/usr/share/texlive/texmf-dist/tex/latex/eurosym/eurosym.sty)\\n    (/usr/share/texlive/texmf-dist/tex/latex/fontspec/fontspec.sty\\n    (/usr/share/texlive/texmf-dist/tex/latex/l3packages/xparse/xparse.sty\\n    (/usr/share/texlive/texmf-dist/tex/latex/l3kernel/expl3.sty\\n    (/usr/share/texlive/texmf-dist/tex/latex/l3backend/l3backend-xetex.def\\n    (|extractbb --version))))\\n    (/usr/share/texlive/texmf-dist/tex/latex/fontspec/fontspec-xetex.sty\\n    (/usr/share/texlive/texmf-dist/tex/latex/base/fontenc.sty)\\n    (/usr/share/texlive/texmf-dist/tex/latex/fontspec/fontspec.cfg)))\\n    (/usr/share/texlive/texmf-dist/tex/latex/unicode-math/unicode-math.sty\\n    (/usr/share/texlive/texmf-dist/tex/latex/unicode-math/unicode-math-xetex.sty\\n    (/usr/share/texlive/texmf-dist/tex/latex/l3packages/l3keys2e/l3keys2e.sty)\\n    (/usr/share/texlive/texmf-dist/tex/latex/base/fix-cm.sty\\n    (/usr/share/texlive/texmf-dist/tex/latex/base/ts1enc.def))\\n    (/usr/share/texlive/texmf-dist/tex/latex/unicode-math/unicode-math-table.tex)))\\n    (/usr/share/texlive/texmf-dist/tex/latex/fancyvrb/fancyvrb.sty)\\n    (/usr/share/texlive/texmf-dist/tex/latex/grffile/grffile.sty)\\n    (/usr/share/texlive/texmf-dist/tex/latex/adjustbox/adjustbox.sty\\n    (/usr/share/texlive/texmf-dist/tex/latex/xkeyval/xkeyval.sty\\n    (/usr/share/texlive/texmf-dist/tex/generic/xkeyval/xkeyval.tex\\n    (/usr/share/texlive/texmf-dist/tex/generic/xkeyval/xkvutils.tex)))\\n    (/usr/share/texlive/texmf-dist/tex/latex/adjustbox/adjcalc.sty)\\n    (/usr/share/texlive/texmf-dist/tex/latex/adjustbox/trimclip.sty\\n    (/usr/share/texlive/texmf-dist/tex/latex/collectbox/collectbox.sty)\\n    (/usr/share/texlive/texmf-dist/tex/latex/adjustbox/tc-xetex.def))\\n    (/usr/share/texlive/texmf-dist/tex/latex/ifoddpage/ifoddpage.sty)\\n    (/usr/share/texlive/texmf-dist/tex/latex/varwidth/varwidth.sty))\\n    (/usr/share/texlive/texmf-dist/tex/latex/hyperref/hyperref.sty\\n    (/usr/share/texlive/texmf-dist/tex/generic/ltxcmds/ltxcmds.sty)\\n    (/usr/share/texlive/texmf-dist/tex/generic/pdftexcmds/pdftexcmds.sty\\n    (/usr/share/texlive/texmf-dist/tex/generic/infwarerr/infwarerr.sty))\\n    (/usr/share/texlive/texmf-dist/tex/generic/kvsetkeys/kvsetkeys.sty)\\n    (/usr/share/texlive/texmf-dist/tex/generic/kvdefinekeys/kvdefinekeys.sty)\\n    (/usr/share/texlive/texmf-dist/tex/generic/pdfescape/pdfescape.sty)\\n    (/usr/share/texlive/texmf-dist/tex/latex/hycolor/hycolor.sty)\\n    (/usr/share/texlive/texmf-dist/tex/latex/letltxmacro/letltxmacro.sty)\\n    (/usr/share/texlive/texmf-dist/tex/latex/auxhook/auxhook.sty)\\n    (/usr/share/texlive/texmf-dist/tex/latex/kvoptions/kvoptions.sty)\\n    (/usr/share/texlive/texmf-dist/tex/latex/hyperref/pd1enc.def)\\n    (/usr/share/texlive/texmf-dist/tex/latex/hyperref/hyperref-langpatches.def)\\n    (/usr/share/texlive/texmf-dist/tex/generic/intcalc/intcalc.sty)\\n    (/usr/share/texlive/texmf-dist/tex/generic/etexcmds/etexcmds.sty)\\n    (/usr/share/texlive/texmf-dist/tex/latex/hyperref/puenc.def)\\n    (/usr/share/texlive/texmf-dist/tex/latex/url/url.sty)\\n    (/usr/share/texlive/texmf-dist/tex/generic/bitset/bitset.sty\\n    (/usr/share/texlive/texmf-dist/tex/generic/bigintcalc/bigintcalc.sty))\\n    (/usr/share/texlive/texmf-dist/tex/latex/base/atbegshi-ltx.sty))\\n    (/usr/share/texlive/texmf-dist/tex/latex/hyperref/hxetex.def\\n    (/usr/share/texlive/texmf-dist/tex/generic/stringenc/stringenc.sty)\\n    (/usr/share/texlive/texmf-dist/tex/latex/rerunfilecheck/rerunfilecheck.sty\\n    (/usr/share/texlive/texmf-dist/tex/latex/base/atveryend-ltx.sty)\\n    (/usr/share/texlive/texmf-dist/tex/generic/uniquecounter/uniquecounter.sty)))\\n    (/usr/share/texlive/texmf-dist/tex/latex/titling/titling.sty)\\n    (/usr/share/texlive/texmf-dist/tex/latex/tools/longtable.sty)\\n    (/usr/share/texlive/texmf-dist/tex/latex/booktabs/booktabs.sty)\\n    (/usr/share/texlive/texmf-dist/tex/latex/tools/array.sty)\\n    (/usr/share/texlive/texmf-dist/tex/latex/tools/calc.sty)\\n    (/usr/share/texlive/texmf-dist/tex/latex/enumitem/enumitem.sty)\\n    (/usr/share/texlive/texmf-dist/tex/generic/ulem/ulem.sty)\\n    (/usr/share/texlive/texmf-dist/tex/generic/soul/soul.sty)\\n    (/usr/share/texlive/texmf-dist/tex/latex/jknapltx/mathrsfs.sty)\\n    No file notebook.aux.\\n    (/usr/share/texlive/texmf-dist/tex/latex/caption/ltcaption.sty)\\n    *geometry* driver: auto-detecting\\n    *geometry* detected driver: xetex\\n\\n    Package geometry Warning: The marginal notes overrun the paper.\\n         Add 3.73001pt and more to the right margin.\\n\\n    *geometry* verbose mode - [ preamble ] result:\\n    * driver: xetex\\n    * paper: &lt;default&gt;\\n    * layout: &lt;same size as paper&gt;\\n    * layoutoffset:(h,v)=(0.0pt,0.0pt)\\n    * modes: \\n    * h-part:(L,W,R)=(72.26999pt, 469.75502pt, 72.26999pt)\\n    * v-part:(T,H,B)=(72.26999pt, 650.43001pt, 72.26999pt)\\n    * \\\\paperwidth=614.295pt\\n    * \\\\paperheight=794.96999pt\\n    * \\\\textwidth=469.75502pt\\n    * \\\\textheight=650.43001pt\\n    * \\\\oddsidemargin=0.0pt\\n    * \\\\evensidemargin=0.0pt\\n    * \\\\topmargin=-37.0pt\\n    * \\\\headheight=12.0pt\\n    * \\\\headsep=25.0pt\\n    * \\\\topskip=10.0pt\\n    * \\\\footskip=30.0pt\\n    * \\\\marginparwidth=65.0pt\\n    * \\\\marginparsep=11.0pt\\n    * \\\\columnsep=10.0pt\\n    * \\\\skip\\\\footins=9.0pt plus 4.0pt minus 2.0pt\\n    * \\\\hoffset=0.0pt\\n    * \\\\voffset=0.0pt\\n    * \\\\mag=1000\\n    * \\\\@twocolumnfalse\\n    * \\\\@twosidefalse\\n    * \\\\@mparswitchfalse\\n    * \\\\@reversemarginfalse\\n    * (1in=72.27pt=25.4mm, 1cm=28.453pt)\\n\\n    (/usr/share/texlive/texmf-dist/tex/latex/hyperref/nameref.sty\\n    (/usr/share/texlive/texmf-dist/tex/latex/refcount/refcount.sty)\\n    (/usr/share/texlive/texmf-dist/tex/generic/gettitlestring/gettitlestring.sty))\\n\\n    Package hyperref Warning: Rerun to get /PageLabels entry.\\n\\n    [1] [2] [3]\\n    Underfull \\\\hbox (badness 10000) in paragraph at lines 377--378\\n\\n    [4]\\n    Underfull \\\\hbox (badness 1303) in paragraph at lines 387--391\\n    \\\\TU/lmr/m/n/10 Explain your results in Question 6a and Question 6b. How did you\\n     know what to assign to\\n\\n    Underfull \\\\hbox (badness 1546) in paragraph at lines 409--411\\n    []\\\\TU/lmr/m/n/10 Zero_predictor_recall is assigned to zero because the zero pre\\n    dictor fp is zero divided by\\n    [5] [6] [7] [8] [9]\\n    Underfull \\\\hbox (badness 10000) in paragraph at lines 474--475\\n\\n    [10]\\n    ! Missing $ inserted.\\n    &lt;inserted text&gt; \\n                    $\\n    l.507 - my_\\n               model accuracy:  0.7576201251164648\\n    ? \\n    ! Emergency stop.\\n    &lt;inserted text&gt; \\n                    $\\n    l.507 - my_\\n               model accuracy:  0.7576201251164648\\n    Output written on notebook.pdf (10 pages).\\n    Transcript written on notebook.log.\\n&#x27;)\">value</span>, <span class=\"variable\" data-tooltip=\"&lt;traceback object at 0x7f3026592b80&gt;\">tb</span>)</span>\n",
       "<span class='line'>  <span class='lineno'>3527</span>          except:</span>\n",
       "<span class='line'>  <span class='lineno'>3528</span>              if <span class=\"variable\" data-tooltip=\"&lt;ExecutionResult object at 7f30f8e29fd0, execution_count=29 error_before_exec=None error_in_exec=There was an error generating your LaTeX; showing full error message:\n",
       "    Failed to run &quot;[&#x27;xelatex&#x27;, &#x27;notebook.tex&#x27;, &#x27;-quiet&#x27;]&quot; command:\n",
       "    This is XeTeX, Version 3.141592653-2.6-0.999993 (TeX Live 2022/dev/Debian) (preloaded format=xelatex)\n",
       "     restricted \\write18 enabled.\n",
       "    entering extended mode\n",
       "    (./notebook.tex\n",
       "    LaTeX2e &lt;2021-11-15&gt; patch level 1\n",
       "    L3 programming layer &lt;2022-01-21&gt;\n",
       "    (/usr/share/texlive/texmf-dist/tex/latex/base/article.cls\n",
       "    Document Class: article 2021/10/04 v1.4n Standard LaTeX document class\n",
       "    (/usr/share/texlive/texmf-dist/tex/latex/base/size10.clo))\n",
       "    (/usr/share/texlive/texmf-dist/tex/latex/graphics/graphicx.sty\n",
       "    (/usr/share/texlive/texmf-dist/tex/latex/graphics/keyval.sty)\n",
       "    (/usr/share/texlive/texmf-dist/tex/latex/graphics/graphics.sty\n",
       "    (/usr/share/texlive/texmf-dist/tex/latex/graphics/trig.sty)\n",
       "    (/usr/share/texlive/texmf-dist/tex/latex/graphics-cfg/graphics.cfg)\n",
       "    (/usr/share/texlive/texmf-dist/tex/latex/graphics-def/xetex.def)))\n",
       "    (/usr/share/texlive/texmf-dist/tex/latex/caption/caption.sty\n",
       "    (/usr/share/texlive/texmf-dist/tex/latex/caption/caption3.sty))\n",
       "    (/usr/share/texlive/texmf-dist/tex/latex/float/float.sty)\n",
       "    (/usr/share/texlive/texmf-dist/tex/latex/xcolor/xcolor.sty\n",
       "    (/usr/share/texlive/texmf-dist/tex/latex/graphics-cfg/color.cfg))\n",
       "    (/usr/share/texlive/texmf-dist/tex/latex/tools/enumerate.sty)\n",
       "    (/usr/share/texlive/texmf-dist/tex/latex/geometry/geometry.sty\n",
       "    (/usr/share/texlive/texmf-dist/tex/generic/iftex/ifvtex.sty\n",
       "    (/usr/share/texlive/texmf-dist/tex/generic/iftex/iftex.sty)))\n",
       "    (/usr/share/texlive/texmf-dist/tex/latex/amsmath/amsmath.sty\n",
       "    For additional information on amsmath, use the `?&#x27; option.\n",
       "    (/usr/share/texlive/texmf-dist/tex/latex/amsmath/amstext.sty\n",
       "    (/usr/share/texlive/texmf-dist/tex/latex/amsmath/amsgen.sty))\n",
       "    (/usr/share/texlive/texmf-dist/tex/latex/amsmath/amsbsy.sty)\n",
       "    (/usr/share/texlive/texmf-dist/tex/latex/amsmath/amsopn.sty))\n",
       "    (/usr/share/texlive/texmf-dist/tex/latex/amsfonts/amssymb.sty\n",
       "    (/usr/share/texlive/texmf-dist/tex/latex/amsfonts/amsfonts.sty))\n",
       "    (/usr/share/texlive/texmf-dist/tex/latex/base/textcomp.sty)\n",
       "    (/usr/share/texlive/texmf-dist/tex/latex/upquote/upquote.sty)\n",
       "    (/usr/share/texlive/texmf-dist/tex/latex/eurosym/eurosym.sty)\n",
       "    (/usr/share/texlive/texmf-dist/tex/latex/fontspec/fontspec.sty\n",
       "    (/usr/share/texlive/texmf-dist/tex/latex/l3packages/xparse/xparse.sty\n",
       "    (/usr/share/texlive/texmf-dist/tex/latex/l3kernel/expl3.sty\n",
       "    (/usr/share/texlive/texmf-dist/tex/latex/l3backend/l3backend-xetex.def\n",
       "    (|extractbb --version))))\n",
       "    (/usr/share/texlive/texmf-dist/tex/latex/fontspec/fontspec-xetex.sty\n",
       "    (/usr/share/texlive/texmf-dist/tex/latex/base/fontenc.sty)\n",
       "    (/usr/share/texlive/texmf-dist/tex/latex/fontspec/fontspec.cfg)))\n",
       "    (/usr/share/texlive/texmf-dist/tex/latex/unicode-math/unicode-math.sty\n",
       "    (/usr/share/texlive/texmf-dist/tex/latex/unicode-math/unicode-math-xetex.sty\n",
       "    (/usr/share/texlive/texmf-dist/tex/latex/l3packages/l3keys2e/l3keys2e.sty)\n",
       "    (/usr/share/texlive/texmf-dist/tex/latex/base/fix-cm.sty\n",
       "    (/usr/share/texlive/texmf-dist/tex/latex/base/ts1enc.def))\n",
       "    (/usr/share/texlive/texmf-dist/tex/latex/unicode-math/unicode-math-table.tex)))\n",
       "    (/usr/share/texlive/texmf-dist/tex/latex/fancyvrb/fancyvrb.sty)\n",
       "    (/usr/share/texlive/texmf-dist/tex/latex/grffile/grffile.sty)\n",
       "    (/usr/share/texlive/texmf-dist/tex/latex/adjustbox/adjustbox.sty\n",
       "    (/usr/share/texlive/texmf-dist/tex/latex/xkeyval/xkeyval.sty\n",
       "    (/usr/share/texlive/texmf-dist/tex/generic/xkeyval/xkeyval.tex\n",
       "    (/usr/share/texlive/texmf-dist/tex/generic/xkeyval/xkvutils.tex)))\n",
       "    (/usr/share/texlive/texmf-dist/tex/latex/adjustbox/adjcalc.sty)\n",
       "    (/usr/share/texlive/texmf-dist/tex/latex/adjustbox/trimclip.sty\n",
       "    (/usr/share/texlive/texmf-dist/tex/latex/collectbox/collectbox.sty)\n",
       "    (/usr/share/texlive/texmf-dist/tex/latex/adjustbox/tc-xetex.def))\n",
       "    (/usr/share/texlive/texmf-dist/tex/latex/ifoddpage/ifoddpage.sty)\n",
       "    (/usr/share/texlive/texmf-dist/tex/latex/varwidth/varwidth.sty))\n",
       "    (/usr/share/texlive/texmf-dist/tex/latex/hyperref/hyperref.sty\n",
       "    (/usr/share/texlive/texmf-dist/tex/generic/ltxcmds/ltxcmds.sty)\n",
       "    (/usr/share/texlive/texmf-dist/tex/generic/pdftexcmds/pdftexcmds.sty\n",
       "    (/usr/share/texlive/texmf-dist/tex/generic/infwarerr/infwarerr.sty))\n",
       "    (/usr/share/texlive/texmf-dist/tex/generic/kvsetkeys/kvsetkeys.sty)\n",
       "    (/usr/share/texlive/texmf-dist/tex/generic/kvdefinekeys/kvdefinekeys.sty)\n",
       "    (/usr/share/texlive/texmf-dist/tex/generic/pdfescape/pdfescape.sty)\n",
       "    (/usr/share/texlive/texmf-dist/tex/latex/hycolor/hycolor.sty)\n",
       "    (/usr/share/texlive/texmf-dist/tex/latex/letltxmacro/letltxmacro.sty)\n",
       "    (/usr/share/texlive/texmf-dist/tex/latex/auxhook/auxhook.sty)\n",
       "    (/usr/share/texlive/texmf-dist/tex/latex/kvoptions/kvoptions.sty)\n",
       "    (/usr/share/texlive/texmf-dist/tex/latex/hyperref/pd1enc.def)\n",
       "    (/usr/share/texlive/texmf-dist/tex/latex/hyperref/hyperref-langpatches.def)\n",
       "    (/usr/share/texlive/texmf-dist/tex/generic/intcalc/intcalc.sty)\n",
       "    (/usr/share/texlive/texmf-dist/tex/generic/etexcmds/etexcmds.sty)\n",
       "    (/usr/share/texlive/texmf-dist/tex/latex/hyperref/puenc.def)\n",
       "    (/usr/share/texlive/texmf-dist/tex/latex/url/url.sty)\n",
       "    (/usr/share/texlive/texmf-dist/tex/generic/bitset/bitset.sty\n",
       "    (/usr/share/texlive/texmf-dist/tex/generic/bigintcalc/bigintcalc.sty))\n",
       "    (/usr/share/texlive/texmf-dist/tex/latex/base/atbegshi-ltx.sty))\n",
       "    (/usr/share/texlive/texmf-dist/tex/latex/hyperref/hxetex.def\n",
       "    (/usr/share/texlive/texmf-dist/tex/generic/stringenc/stringenc.sty)\n",
       "    (/usr/share/texlive/texmf-dist/tex/latex/rerunfilecheck/rerunfilecheck.sty\n",
       "    (/usr/share/texlive/texmf-dist/tex/latex/base/atveryend-ltx.sty)\n",
       "    (/usr/share/texlive/texmf-dist/tex/generic/uniquecounter/uniquecounter.sty)))\n",
       "    (/usr/share/texlive/texmf-dist/tex/latex/titling/titling.sty)\n",
       "    (/usr/share/texlive/texmf-dist/tex/latex/tools/longtable.sty)\n",
       "    (/usr/share/texlive/texmf-dist/tex/latex/booktabs/booktabs.sty)\n",
       "    (/usr/share/texlive/texmf-dist/tex/latex/tools/array.sty)\n",
       "    (/usr/share/texlive/texmf-dist/tex/latex/tools/calc.sty)\n",
       "    (/usr/share/texlive/texmf-dist/tex/latex/enumitem/enumitem.sty)\n",
       "    (/usr/share/texlive/texmf-dist/tex/generic/ulem/ulem.sty)\n",
       "    (/usr/share/texlive/texmf-dist/tex/generic/soul/soul.sty)\n",
       "    (/usr/share/texlive/texmf-dist/tex/latex/jknapltx/mathrsfs.sty)\n",
       "    No file notebook.aux.\n",
       "    (/usr/share/texlive/texmf-dist/tex/latex/caption/ltcaption.sty)\n",
       "    *geometry* driver: auto-detecting\n",
       "    *geometry* detected driver: xetex\n",
       "\n",
       "    Package geometry Warning: The marginal notes overrun the paper.\n",
       "         Add 3.73001pt and more to the right margin.\n",
       "\n",
       "    *geometry* verbose mode - [ preamble ] result:\n",
       "    * driver: xetex\n",
       "    * paper: &lt;default&gt;\n",
       "    * layout: &lt;same size as paper&gt;\n",
       "    * layoutoffset:(h,v)=(0.0pt,0.0pt)\n",
       "    * modes: \n",
       "    * h-part:(L,W,R)=(72.26999pt, 469.75502pt, 72.26999pt)\n",
       "    * v-part:(T,H,B)=(72.26999pt, 650.43001pt, 72.26999pt)\n",
       "    * \\paperwidth=614.295pt\n",
       "    * \\paperheight=794.96999pt\n",
       "    * \\textwidth=469.75502pt\n",
       "    * \\textheight=650.43001pt\n",
       "    * \\oddsidemargin=0.0pt\n",
       "    * \\evensidemargin=0.0pt\n",
       "    * \\topmargin=-37.0pt\n",
       "    * \\headheight=12.0pt\n",
       "    * \\headsep=25.0pt\n",
       "    * \\topskip=10.0pt\n",
       "    * \\footskip=30.0pt\n",
       "    * \\marginparwidth=65.0pt\n",
       "    * \\marginparsep=11.0pt\n",
       "    * \\columnsep=10.0pt\n",
       "    * \\skip\\footins=9.0pt plus 4.0pt minus 2.0pt\n",
       "    * \\hoffset=0.0pt\n",
       "    * \\voffset=0.0pt\n",
       "    * \\mag=1000\n",
       "    * \\@twocolumnfalse\n",
       "    * \\@twosidefalse\n",
       "    * \\@mparswitchfalse\n",
       "    * \\@reversemarginfalse\n",
       "    * (1in=72.27pt=25.4mm, 1cm=28.453pt)\n",
       "\n",
       "    (/usr/share/texlive/texmf-dist/tex/latex/hyperref/nameref.sty\n",
       "    (/usr/share/texlive/texmf-dist/tex/latex/refcount/refcount.sty)\n",
       "    (/usr/share/texlive/texmf-dist/tex/generic/gettitlestring/gettitlestring.sty))\n",
       "\n",
       "    Package hyperref Warning: Rerun to get /PageLabels entry.\n",
       "\n",
       "    [1] [2] [3]\n",
       "    Underfull \\hbox (badness 10000) in paragraph at lines 377--378\n",
       "\n",
       "    [4]\n",
       "    Underfull \\hbox (badness 1303) in paragraph at lines 387--391\n",
       "    \\TU/lmr/m/n/10 Explain your results in Question 6a and Question 6b. How did you\n",
       "     know what to assign to\n",
       "\n",
       "    Underfull \\hbox (badness 1546) in paragraph at lines 409--411\n",
       "    []\\TU/lmr/m/n/10 Zero_predictor_recall is assigned to zero because the zero pre\n",
       "    dictor fp is zero divided by\n",
       "    [5] [6] [7] [8] [9]\n",
       "    Underfull \\hbox (badness 10000) in paragraph at lines 474--475\n",
       "\n",
       "    [10]\n",
       "    ! Missing $ inserted.\n",
       "    &lt;inserted text&gt; \n",
       "                    $\n",
       "    l.507 - my_\n",
       "               model accuracy:  0.7576201251164648\n",
       "    ? \n",
       "    ! Emergency stop.\n",
       "    &lt;inserted text&gt; \n",
       "                    $\n",
       "    l.507 - my_\n",
       "               model accuracy:  0.7576201251164648\n",
       "    Output written on notebook.pdf (10 pages).\n",
       "    Transcript written on notebook.log.\n",
       " info=&lt;ExecutionInfo object at 7f30f8eb2790, raw_cell=&quot;# Save your notebook first, then run this cell to ..&quot; store_history=True silent=False shell_futures=True cell_id=74b63626-ed5d-48e3-bc6d-766079a3acf2&gt; result=None&gt;\">result</span> is not None:</span>\n",
       "</pre>\n",
       "</details>\n",
       "<pre class='meta'><span style='color:#00A250'>Cell #3547471874</span></pre>\n",
       "<pre class='code-block'>\n",
       "<span class='line'>  <span class='lineno'>1</span>  # Save your notebook first, then run this cell to export your submission.</span>\n",
       "<span class='line highlight'>&rightarrow; <span class='lineno'>2</span>  <span class=\"variable\" data-tooltip=\"&lt;otter.check.notebook.Notebook object at 0x7f3155743410&gt;\">grader</span>.export(run_<span class=\"variable\" data-tooltip=\"      id                                            subject  \\\n",
       "0      0  Subject: CERT Advisory CA-2002-21 Vulnerabilit...   \n",
       "1      1    Subject: ADV: Affordable Life Insurance ddbfk\\n   \n",
       "2      2     Subject: CAREER OPPORTUNITY.  WORK FROM HOME\\n   \n",
       "3      3         Subject: Marriage makes both sexes happy\\n   \n",
       "4      4  Subject: Re: [SAtalk] SA very slow (hangs?) on...   \n",
       "..   ...                                                ...   \n",
       "995  995         Subject: Re: Alsa/Redhat 8 compatability\\n   \n",
       "996  996              Subject: Re: Goodbye Global Warming\\n   \n",
       "997  997                       Subject: Re: Entrepreneurs\\n   \n",
       "998  998   Subject: Re: [ILUG] slashdot EW Dijkstra humor\\n   \n",
       "999  999  Subject: [ILUG-Social] Everybody Gets Paid - N...   \n",
       "\n",
       "                                                 email  \n",
       "0    \\n \\n -----begin pgp signed message-----\\n \\n ...  \n",
       "1    low-cost term-life insurance!\\n save up to 70%...  \n",
       "2    ------=_nextpart_000_00a0_03e30a1a.b1804b54\\n ...  \n",
       "3    url: http://www.newsisfree.com/click/-3,848315...  \n",
       "4    on thursday 29 august 2002 16:39 cet mike burg...  \n",
       "..                                                 ...  \n",
       "995  once upon a time, brian wrote :\\n \\n &gt; \\n &gt;   ...  \n",
       "996  \\n --]&gt; a green once said that if the spotted ...  \n",
       "997  on fri, 23 aug 2002, robert harley wrote:\\n \\n...  \n",
       "998  jpl suggested:\\n &gt;  recursion is only truely u...  \n",
       "999  everybody gets paid.  no recruiting required.\\...  \n",
       "\n",
       "[1000 rows x 3 columns]\">test</span>s=True)</span>\n",
       "</pre>\n",
       "<details><summary><span class=\"ellipsis\">&middot;&middot;&middot;</span></summary>\n",
       "<pre class='meta'><b><span style='color:#60C6C8'>grading_mode_disabled</span></b> in <span style='color:#00A250'>/srv/conda/envs/notebook/lib/python3.11/site-packages/otter/check/utils.py</span></pre>\n",
       "<pre class='code-block'>\n",
       "<span class='line'>  <span class='lineno'>164</span>      if type(<span class=\"variable\" data-tooltip=\"&lt;otter.check.notebook.Notebook object at 0x7f3155743410&gt;\">self</span>)._grading_mode:</span>\n",
       "<span class='line'>  <span class='lineno'>165</span>          return</span>\n",
       "<span class='line highlight'>&rightarrow; <span class='lineno'>166</span>      return <span class=\"variable\" data-tooltip=\"&lt;BoundFunctionWrapper at 0x7f30f8f74580 for BoundFunctionWrapper at 0x7f30f8ef8ac0&gt;\">wrapped</span>(*<span class=\"variable\" data-tooltip=\"()\">args</span>, **kw<span class=\"variable\" data-tooltip=\"()\">args</span>)</span>\n",
       "<span class='line'>  <span class='lineno'>167</span>  </span>\n",
       "<span class='line'>  <span class='lineno'>168</span>  </span>\n",
       "</pre>\n",
       "<pre class='meta'><b><span style='color:#60C6C8'>incompatible</span></b> in <span style='color:#00A250'>/srv/conda/envs/notebook/lib/python3.11/site-packages/otter/check/utils.py</span></pre>\n",
       "<pre class='code-block'>\n",
       "<span class='line'>  <span class='lineno'>151</span>              else:</span>\n",
       "<span class='line'>  <span class='lineno'>152</span>                  return</span>\n",
       "<span class='line highlight'>&rightarrow; <span class='lineno'>153</span>          return <span class=\"variable\" data-tooltip=\"&lt;BoundFunctionWrapper at 0x7f30f8ef8ac0 for method at 0x7f30f8d7dcc0&gt;\">wrapped</span>(*<span class=\"variable\" data-tooltip=\"()\">args</span>, **kw<span class=\"variable\" data-tooltip=\"()\">args</span>)</span>\n",
       "<span class='line'>  <span class='lineno'>154</span>  </span>\n",
       "<span class='line'>  <span class='lineno'>155</span>      return incompatible</span>\n",
       "</pre>\n",
       "<pre class='meta'><b><span style='color:#60C6C8'>event_logger</span></b> in <span style='color:#00A250'>/srv/conda/envs/notebook/lib/python3.11/site-packages/otter/check/utils.py</span></pre>\n",
       "<pre class='code-block'>\n",
       "<span class='line'>  <span class='lineno'>201</span>          except Exception as e:</span>\n",
       "<span class='line'>  <span class='lineno'>202</span>              <span class=\"variable\" data-tooltip=\"&lt;otter.check.notebook.Notebook object at 0x7f3155743410&gt;\">self</span>._log_event(<span class=\"variable\" data-tooltip=\"&lt;EventType.END_EXPORT: 6&gt;\">event_type</span>, success=False, error=e)</span>\n",
       "<span class='line highlight'>&rightarrow; <span class='lineno'>203</span>              raise e</span>\n",
       "<span class='line'>  <span class='lineno'>204</span>  </span>\n",
       "<span class='line'>  <span class='lineno'>205</span>          else:</span>\n",
       "</pre>\n",
       "<pre class='meta'><b><span style='color:#60C6C8'>event_logger</span></b> in <span style='color:#00A250'>/srv/conda/envs/notebook/lib/python3.11/site-packages/otter/check/utils.py</span></pre>\n",
       "<pre class='code-block'>\n",
       "<span class='line'>  <span class='lineno'>201</span>          except Exception as e:</span>\n",
       "<span class='line'>  <span class='lineno'>202</span>              <span class=\"variable\" data-tooltip=\"&lt;otter.check.notebook.Notebook object at 0x7f3155743410&gt;\">self</span>._log_event(<span class=\"variable\" data-tooltip=\"&lt;EventType.END_EXPORT: 6&gt;\">event_type</span>, success=False, error=e)</span>\n",
       "<span class='line highlight'>&rightarrow; <span class='lineno'>203</span>              raise e</span>\n",
       "<span class='line'>  <span class='lineno'>204</span>  </span>\n",
       "<span class='line'>  <span class='lineno'>205</span>          else:</span>\n",
       "</pre>\n",
       "<pre class='meta'><b><span style='color:#60C6C8'>export</span></b> in <span style='color:#00A250'>/srv/conda/envs/notebook/lib/python3.11/site-packages/otter/check/notebook.py</span></pre>\n",
       "<pre class='code-block'>\n",
       "<span class='line'>  <span class='lineno'>384</span>          <span class=\"variable\" data-tooltip=\"True\">pdf</span>_created = True</span>\n",
       "<span class='line'>  <span class='lineno'>385</span>          i<span class=\"variable\" data-tooltip=\"&lt;_io.TextIOWrapper name=&#x27;projB1.ipynb&#x27; mode=&#x27;r&#x27; encoding=&#x27;utf-8&#x27;&gt;\">f</span> <span class=\"variable\" data-tooltip=\"True\">pdf</span>:</span>\n",
       "<span class='line highlight'>&rightarrow; <span class='lineno'>386</span>              <span class=\"variable\" data-tooltip=\"True\">pdf</span>_path = export_notebook(<span class=\"variable\" data-tooltip=\"&#x27;projB1.ipynb&#x27;\">nb_path</span>, <span class=\"variable\" data-tooltip=\"True\">filtering</span>=<span class=\"variable\" data-tooltip=\"True\">filtering</span>, <span class=\"variable\" data-tooltip=\"True\">pagebreaks</span>=<span class=\"variable\" data-tooltip=\"True\">pagebreaks</span>)</span>\n",
       "<span class='line'>  <span class='lineno'>387</span>              i<span class=\"variable\" data-tooltip=\"&lt;_io.TextIOWrapper name=&#x27;projB1.ipynb&#x27; mode=&#x27;r&#x27; encoding=&#x27;utf-8&#x27;&gt;\">f</span> os.path.is<span class=\"variable\" data-tooltip=\"&lt;_io.TextIOWrapper name=&#x27;projB1.ipynb&#x27; mode=&#x27;r&#x27; encoding=&#x27;utf-8&#x27;&gt;\">f</span>ile(<span class=\"variable\" data-tooltip=\"True\">pdf</span>_path):</span>\n",
       "<span class='line'>  <span class='lineno'>388</span>                  <span class=\"variable\" data-tooltip=\"True\">pdf</span>_created = True</span>\n",
       "</pre>\n",
       "<pre class='meta'><b><span style='color:#60C6C8'>export_notebook</span></b> in <span style='color:#00A250'>/srv/conda/envs/notebook/lib/python3.11/site-packages/otter/export/__init__.py</span></pre>\n",
       "<pre class='code-block'>\n",
       "<span class='line'>  <span class='lineno'>40</span>  </span>\n",
       "<span class='line'>  <span class='lineno'>41</span>      <span class=\"variable\" data-tooltip=\"&lt;class &#x27;otter.export.exporters.via_latex.PDFViaLatexExporter&#x27;&gt;\">Exporter</span> = <span class=\"variable\" data-tooltip=\"&lt;function get_exporter at 0x7f30f8d2a520&gt;\">get_exporter</span>(<span class=\"variable\" data-tooltip=\"None\">exporter_type</span>=<span class=\"variable\" data-tooltip=\"None\">exporter_type</span>)</span>\n",
       "<span class='line highlight'>&rightarrow; <span class='lineno'>42</span>      <span class=\"variable\" data-tooltip=\"&lt;class &#x27;otter.export.exporters.via_latex.PDFViaLatexExporter&#x27;&gt;\">Exporter</span>.convert_notebook(<span class=\"variable\" data-tooltip=\"&#x27;projB1.ipynb&#x27;\">nb_path</span>, <span class=\"variable\" data-tooltip=\"&#x27;projB1.pdf&#x27;\">pdf_name</span>, **<span class=\"variable\" data-tooltip=\"{&#x27;filtering&#x27;: True, &#x27;pagebreaks&#x27;: True}\">kwargs</span>)</span>\n",
       "<span class='line'>  <span class='lineno'>43</span>  </span>\n",
       "<span class='line'>  <span class='lineno'>44</span>      return <span class=\"variable\" data-tooltip=\"&#x27;projB1.pdf&#x27;\">pdf_name</span></span>\n",
       "</pre>\n",
       "</details>\n",
       "<pre class='meta'><b><span style='color:#60C6C8'>convert_notebook</span></b> in <span style='color:#00A250'>/srv/conda/envs/notebook/lib/python3.11/site-packages/otter/export/exporters/via_latex.py</span></pre>\n",
       "<pre class='code-block'>\n",
       "<span class='line'>  <span class='lineno'>79</span>          finally:</span>\n",
       "<span class='line'>  <span class='lineno'>80</span>              if NBCONVERT_6:</span>\n",
       "<span class='line highlight'>&rightarrow; <span class='lineno'>81</span>                  <span class=\"variable\" data-tooltip=\"{&#x27;cells&#x27;: [{&#x27;cell_type&#x27;: &#x27;markdown&#x27;, &#x27;metadata&#x27;: {&#x27;deletable&#x27;: False, &#x27;editable&#x27;: False}, &#x27;source&#x27;: &#x27;&lt;!-- BEGIN QUESTION --&gt;\\n\\n&lt;br&gt;\\n\\n---\\n\\n## Question 1\\n\\nDiscuss one attribute or characteristic you notice that is different between the two emails that might relate to the identification of a spam email.&#x27;}, {&#x27;cell_type&#x27;: &#x27;raw&#x27;, &#x27;metadata&#x27;: {}, &#x27;source&#x27;: &#x27;One big difference between the two emails is the html formating. Even though both emails are promotional email, the Spam email has html properties such as &lt;html&gt;, &lt;head&gt;, &lt;body&gt;.  Hereby, I could conclude that an apearance of html atributes may relate to the identification of a spam email.&#x27;}, {&#x27;cell_type&#x27;: &#x27;markdown&#x27;, &#x27;metadata&#x27;: {&#x27;deletable&#x27;: False, &#x27;editable&#x27;: False, &#x27;nbgrader&#x27;: {&#x27;grade&#x27;: False, &#x27;grade_id&#x27;: &#x27;cell-78513403ef52a957&#x27;, &#x27;locked&#x27;: True, &#x27;schema_version&#x27;: 2, &#x27;solution&#x27;: False}}, &#x27;source&#x27;: &#x27;&lt;!-- #newpage --&gt;&#x27;}, {&#x27;cell_type&#x27;: &#x27;markdown&#x27;, &#x27;metadata&#x27;: {&#x27;deletable&#x27;: False, &#x27;editable&#x27;: False}, &#x27;source&#x27;: &#x27;&lt;!-- BEGIN QUESTION --&gt;\\n\\nCreate your bar chart with the following cell:&#x27;}, {&#x27;cell_type&#x27;: &#x27;code&#x27;, &#x27;execution_count&#x27;: 12, &#x27;metadata&#x27;: {}, &#x27;outputs&#x27;: [], &#x27;source&#x27;: &quot;train = train.reset_index(drop=True) \\nwords_test = [&#x27;title&#x27;, &#x27;credit&#x27;, &#x27;body&#x27;, &#x27;font&#x27;, &#x27;click&#x27;, &#x27;center&#x27;,]\\n\\nword_isin = words_in_texts(words_test, train[&#x27;email&#x27;])\\n\\ndf = pd.DataFrame(word_isin, columns = words_test)\\n\\ncombine_df = pd.merge(train, df, left_index=True, right_index=True)&quot;}, {&#x27;cell_type&#x27;: &#x27;code&#x27;, &#x27;execution_count&#x27;: 13, &#x27;metadata&#x27;: {}, &#x27;outputs&#x27;: [], &#x27;source&#x27;: &quot;# Total words on spam or ham -&gt; Proportion table\\nspam_email_words = ((combine_df[combine_df[&#x27;spam&#x27;]==1])[words_test].sum()/(combine_df[combine_df[&#x27;spam&#x27;]==1])[words_test].count()).to_frame(name = &#x27;spam&#x27;).reset_index(names = &#x27;Words&#x27;)\\nham_email_words = ((combine_df[combine_df[&#x27;spam&#x27;]==0])[words_test].sum()/(combine_df[combine_df[&#x27;spam&#x27;]==0])[words_test].count()).to_frame(name = &#x27;ham&#x27;).reset_index(names = &#x27;Words&#x27;)\\n\\nproportion = ham_email_words.merge(spam_email_words, on = &#x27;Words&#x27; )\\n\\ndf_melted = pd.melt(proportion, id_vars=&#x27;Words&#x27;, var_name=&#x27;category&#x27;, value_name=&#x27;proportion&#x27;)&quot;}, {&#x27;cell_type&#x27;: &#x27;code&#x27;, &#x27;execution_count&#x27;: 14, &#x27;metadata&#x27;: {&#x27;ExecuteTime&#x27;: {&#x27;end_time&#x27;: &#x27;2019-04-03T20:17:43.145246Z&#x27;, &#x27;start_time&#x27;: &#x27;2019-04-03T20:17:42.430406Z&#x27;}, &#x27;nbgrader&#x27;: {&#x27;grade&#x27;: True, &#x27;grade_id&#x27;: &#x27;q3a-answer&#x27;, &#x27;locked&#x27;: False, &#x27;points&#x27;: 2, &#x27;schema_version&#x27;: 2, &#x27;solution&#x27;: True}, &#x27;tags&#x27;: []}, &#x27;outputs&#x27;: [{&#x27;data&#x27;: {&#x27;image/png&#x27;: &#x27;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&#x27;, &#x27;text/plain&#x27;: &#x27;&lt;Figure size 800x600 with 1 Axes&gt;&#x27;}, &#x27;metadata&#x27;: {}, &#x27;output_type&#x27;: &#x27;display_data&#x27;}], &#x27;source&#x27;: &quot;train = train.reset_index(drop=True) # We must do this in order to preserve the ordering of emails to labels for words_in_texts.\\nplt.figure(figsize=(8,6))\\nsns.barplot(data=df_melted, x=&#x27;Words&#x27;, y=&#x27;proportion&#x27;, hue=&#x27;category&#x27;)\\nplt.title(&#x27;Proportion of Words in Spam/Ham Emails&#x27;)\\nplt.ylabel(&#x27;Proportion of Emails&#x27;)\\nplt.ylim(0, 1)\\n\\nplt.tight_layout()\\nplt.show()&quot;}, {&#x27;cell_type&#x27;: &#x27;markdown&#x27;, &#x27;metadata&#x27;: {&#x27;deletable&#x27;: False, &#x27;editable&#x27;: False, &#x27;nbgrader&#x27;: {&#x27;grade&#x27;: False, &#x27;grade_id&#x27;: &#x27;q3b&#x27;, &#x27;locked&#x27;: True, &#x27;schema_version&#x27;: 2, &#x27;solution&#x27;: False}}, &#x27;source&#x27;: &#x27;&lt;!-- #newpage --&gt;&#x27;}, {&#x27;cell_type&#x27;: &#x27;markdown&#x27;, &#x27;metadata&#x27;: {&#x27;deletable&#x27;: False, &#x27;editable&#x27;: False}, &#x27;source&#x27;: &#x27;&lt;!-- BEGIN QUESTION --&gt;\\n\\n&lt;br&gt;\\n\\n---\\n\\n## Question 6c\\n\\nExplain your results in Question 6a and Question 6b. How did you know what to assign to `zero_predictor_fp`, `zero_predictor_fn`, `zero_predictor_acc`, and `zero_predictor_recall`?&#x27;}, {&#x27;cell_type&#x27;: &#x27;markdown&#x27;, &#x27;metadata&#x27;: {}, &#x27;source&#x27;: &#x27;- Zero_predictor_fp is assigned zero because the zero predictor never results in 1 (positive), as a result there will be no false positive.\\n\\n- Zero_predictor_fn is assigned by taking the amount of positive (spam) email in the training data because the zero predictor will assign them all as 0 (negative). Based on the result in 6a, we found that there are 1918 spam email and identified as ham by the zero predictor.\\n\\n- Zero_predictor_acc is assigned by taking the amount of ham email (spam column value == 0) and divide it by the amount of data (length of Y_train). Based on the calculation in q6b, we get that the accuracy is 0.745.\\n\\n- Zero_predictor_recall is assigned to zero because the zero predictor fp is zero divided by zero_predictor_fn.&#x27;}, {&#x27;cell_type&#x27;: &#x27;markdown&#x27;, &#x27;metadata&#x27;: {&#x27;deletable&#x27;: False, &#x27;editable&#x27;: False}, &#x27;source&#x27;: &#x27;&lt;!-- #newpage --&gt;&#x27;}, {&#x27;cell_type&#x27;: &#x27;markdown&#x27;, &#x27;metadata&#x27;: {&#x27;deletable&#x27;: False, &#x27;editable&#x27;: False}, &#x27;source&#x27;: &#x27;&lt;!-- BEGIN QUESTION --&gt;\\n\\n&lt;br&gt;\\n\\n---\\n\\n## Question 6f\\n\\nHow does the accuracy of the logistic regression classifier `my_model` compare to the accuracy of the zero predictor?&#x27;}, {&#x27;cell_type&#x27;: &#x27;markdown&#x27;, &#x27;metadata&#x27;: {}, &#x27;source&#x27;: &#x27;Based on the above calculation, we can find that \\n- my_model training Accuracy:  0.7576201251164648\\n- zero predictor accuracy: 0.7447091707706642.\\n\\nThere is a slight better training accuracy by my_model compared to the zero predictor accuracy.&#x27;}, {&#x27;cell_type&#x27;: &#x27;markdown&#x27;, &#x27;metadata&#x27;: {&#x27;deletable&#x27;: False, &#x27;editable&#x27;: False}, &#x27;source&#x27;: &#x27;&lt;!-- #newpage --&gt;\\n&lt;!-- BEGIN QUESTION --&gt;\\n\\n&lt;br&gt;\\n\\n---\\n\\n## Question 6g\\n\\nGiven the word features provided in Question 4, discuss why the logistic regression classifier `my_model` may be performing poorly. \\n\\n**Hint:** Think about how prevalent these words are in the email set.&#x27;}, {&#x27;cell_type&#x27;: &#x27;code&#x27;, &#x27;execution_count&#x27;: 28, &#x27;metadata&#x27;: {}, &#x27;outputs&#x27;: [{&#x27;data&#x27;: {&#x27;image/png&#x27;: &#x27;iVBORw0KGgoAAAANSUhEUgAAAv4AAAI2CAYAAAAo3oxgAAAAOXRFWHRTb2Z0d2FyZQBNYXRwbG90bGliIHZlcnNpb24zLjcuMSwgaHR0cHM6Ly9tYXRwbG90bGliLm9yZy/bCgiHAAAACXBIWXMAAA9hAAAPYQGoP6dpAACXvElEQVR4nOzdeVxU1f8/8NdlX0XcBVRwGVCU3MI1zSVFrdQyzZ1cqFBb1EorrbTUPpnmipnmlpaW+664i4KiCChu4A6CgILINgOc3x/+5n4ZmUEYBmHk9Xw8fDzk3nPPed87l+E9Z845VxJCCBARERER0UvNpKwDICIiIiKi0sfEn4iIiIioAmDiT0RERERUATDxJyIiIiKqAJj4ExERERFVAEz8iYiIiIgqACb+REREREQVABN/IiIiIqIKgIk/EREREVEFwMSfiAAAU6ZMgbu7O6ZMmVLWobxwoaGh8PPzQ9u2bdG4cWO4u7vD39+/rMMqV9zd3eHu7o6QkJCXsj0iKrotW7bA3d0dXbt2LdY+KntmZR0AUWEWLVqExYsXF9huYWEBR0dHNGnSBG+//TZ69eoFSZLKIMLyLyQkBGfOnIGzszPeeeedsg6n3Llw4QJGjhyJnJwcSJKEypUrw9TUFA4ODs899p133sGlS5fQpUsXLFu2TGe5jh07IjExEQBw6NAhuLi4aC33+++/Y968eTAzM8OZM2dga2ur30lRicXGxuKff/7BqVOncOfOHWRkZMDBwQFVq1aFq6srWrVqhbZt28LDw6OsQy0zubm5aN++PVJSUnDgwAHUq1cPISEhGDFiBABg7dq1aNOmTaF1dO3aFbGxsejfvz/mzJnzIsJ+YYYPH44zZ84Uqay3tzfWrVtXyhERMfEnI1KtWjX5/2lpaUhISEBCQgKOHDmCrVu3YsmSJbCwsCjDCMunM2fOYPHixfD29i408a9evTrc3NxQvXr1Fxhd2VuzZg1ycnLQsmVLBAQEoHLlykU+tk2bNrh06RLOnj2L3NxcmJqaFigTExMjJ/3A09dDV+KvThKaNWtW4ZN+Nzc3AIC1tfULb3vHjh2YPn06MjMz5W12dnbIzMzEtWvXcO3aNRw4cADOzs44fPjwC4+vvDh37hxSUlLQqFEj1KtXr6zDKbfMzc2f25FQlI6G8sTe3h5ubm6oWbNmWYdCxcTEn4xGUFCQ/P+8vDzExMRg9uzZCAoKwvHjxzF//nx89dVXZRihcZs0aRImTZpU1mG8cNeuXQMA9OnTp1hJPwC0bdsWf/75J548eYKoqCg0a9asQBn1UJXq1asjMTERZ86c0foBTKVS4fz58wDw3F7SimDfvn1l0m5ERAS++uor5OXlwd3dHePGjcNrr70GGxsbAMDDhw9x/vx5HDp0CBEREWUSY3lx6NAhAEC3bt3KOJLyrUWLFi9db/4bb7yBN954o6zDID1wjD8ZJRMTEzRq1AgBAQFyT9PGjRuRk5NTxpGRsVH36qoTu+Jo1aoVzMye9p/oGouu7sUfM2ZMoeUiIyORkZEB4OkHCioba9asQV5eHqpWrYr169ejZ8+eGvdGlSpV0L17d8yePRubN28uw0jLHhN/IuPDHn8yapaWlvDx8cHvv/+O9PR03LhxAwqFAvfu3ZP/GB06dAh5eXn4448/EBQUhAcPHqBGjRoaX9GnpaVhzZo1OHToEG7fvo2cnBzUqlUL7dq1w5gxY1CnTh2t7bu7uwN4Opa1fv36CAgIwNGjR5GYmIhKlSqhbdu28Pf3R4MGDXSeQ3Z2Nv7++2/s27cPMTExyMrKQrVq1fDqq6/igw8+QOPGjbUepx4bO3v2bPTs2RMrVqxAYGAg7t27h4yMDBw6dEjjD/KZM2fkeNVmz54t9z5PmTIFW7duLXSsbUhICNavX4+wsDA8evQItra28PDwwNtvv41+/fppHeqinqehHsN6+vRprFq1ChEREUhPT4eLiwv69OmDsWPHwtLSUud1ep6oqCisXr0aZ8+eRVJSEqysrNCgQQP4+PhgyJAhBYaBPXstpk6diqlTp8o/FzYWX83Ozg6enp4IDw/HmTNn5OQ+v7NnzwIAevfujb///hu3bt3C3bt3C9xT6g8I5ubmaNGihcY+Q9yfDRs2xPLly3H06FHEx8cjKysLV69elcumpqZi2bJlOHjwIBISEuDg4ICWLVvCz88PTZs2LfQ6xMfH488//0RQUBBiY2ORk5ODypUro0aNGmjdujXefPNNeHl5FVpHYbHn/wbk2d9tKysrLFu2DIcPH0ZiYiLs7e3Rpk0bjB8/vtDfO12uXLkC4OmYa3t7+0LLWllZFdi2ZcsWTJ06VR4GFBQUhFWrVuHixYvIyMhAnTp10KdPH4wePVrr/a5SqXDmzBkcOXIE58+fx4MHD5CSkgJ7e3s0adIE/fv3R58+fbTOaco/vv7q1au4cuUKli9fjjNnzuDx48dwdnbGgAEDMHLkSPkD67lz57By5UpEREQgNTUV9erVw+DBgzFkyJBC501dvXoVd+/eRY0aNbR+02UIWVlZCAoKwpEjRxAZGYmEhAQ8efIElStXhpeXFwYNGoTOnTtrPfbZ1yE0NBQrVqxAeHg4MjMz4erqiqFDh+K9996Tjzl69CjWrFmDy5cvIzMzEw0bNsTo0aPRu3fvUjm/wjx7n0uShICAAJw8eRLJycmoWbMm+vTpgw8//FD+YHrt2jUsX74cZ8+excOHD1G7dm3069cPY8eOhbm5eYE20tLScPz4cRw+fBjXrl1DQkICMjMzUa1aNbRs2RLDhw9H8+bNtcb37PUtjvDwcKxduxZhYWFITEyEqakpHB0d4ezsjHbt2uHdd99FrVq1infBqMiY+JPRyz/G8MmTJwX2h4WFYfr06cjIyIC1tXWBN8Dr169jzJgxiI+PB/D0w4SZmRlu376N27dvY8uWLZg7dy569uypM4Z79+5h0qRJSExMhJWVFczMzJCUlIRdu3bh4MGDWLx4MTp16lTguISEBIwZM0YebmJubg4rKyvExcVh+/bt2LlzJ77++msMHz5cZ9spKSl45513cOvWLZibm8tjouPj41GtWjVkZGQgIyND6zhTbYmLLrNnz8bq1asBAJIkwd7eHmlpaQgODkZwcDB27NiBJUuWwM7OTmcdK1aswNy5cwE8HSOqUqlw48YNLFq0CGfOnMGqVau0fnh4ntWrV2POnDkQQsh1Z2ZmIiwsDGFhYdiyZQtWrFiBGjVqyMeo54w8fPgQeXl5sLOz07geRY2jTZs2CA8Px7lz5wqM84+JiUFSUhJcXV1Ro0YNvPrqq7h16xbOnDmjM/Fv3ry5RhyGuD/v3LmDiRMnIikpST4+v3v37mHEiBGIjY0F8PQ+zMzMxP79+3H48GEsWLBAZ91XrlzBiBEjkJqaCuDpdbOzs0NSUhISExNx6dIlPH78uNiJf1FER0fj66+/RnJysnzfJycnY8+ePTh+/DjWr1+v9+Rb9fUuifXr12PmzJkQQqBSpUrIzc1FdHQ0FixYgIMHD2L16tUFfifPnz+PUaNGyT9bWFjA3NwcDx8+xMmTJ3Hy5EkcPHgQ8+fPh4mJ7i/tjx07hgkTJiA7Oxv29vZQKpW4ceMG/ve//+HSpUuYN28e/v33X3z33Xfy/a9UKnH9+nXMmDED9+/fx+TJk3XWr+7t79q1a6ktrLBnzx6ND+Pq99bExEQcOnQIhw4dwqhRo547xPPff//F9OnTIYSQ52pcvnwZ3377Le7cuYNJkyZh4cKFWLJkCUxMTGBra4usrCxcvHgRn3/+OVJTUzF48OBSOceiiIqKwjfffIPHjx/Dzs4Oubm5uHv3LpYtW4bQ0FCsXr0aQUFB+Oyzz5CZmSm/t96+fRsLFizA9evXMX/+/AL1rl69WmPxDPUHiLi4OMTFxWH37t34+uuv5Q+ThrB161ZMnTpVfq+2sLCAqamp3ObZs2dRu3ZtLkRRmgRRObZw4UKhUCiEQqHQWebnn3+Wy0RHRwshhLh79668rXnz5uK9994TERER8jE3btwQQgiRlpYmunbtKhQKhXjttdfE0aNHRW5urhBCiMuXL4uBAwcKhUIhmjZtKi5fvlygbXUbrVq1Eq+//ro4efKkyMvLE0IIER4eLt58802hUChEy5Ytxf379zWOzcnJEe+99558/Pbt20V2drYQQog7d+6IDz/8UK7/6NGjBdru0qWLfH4dOnQQBw4cEEqlUgghxP3790VGRobGNRw2bFih1/qrr74SCoVCfPXVVwX2rVu3To5l2rRp4sGDB0IIIdLT08WqVatEkyZNhEKhEJ999lmBY9Xtt27dWnh4eIhff/1VJCcny9d/wYIFct3//vtvoTFqc/jwYfn4jz/+WNy5c0cIIUR2drbYunWraNGihVAoFGLQoEEiJyenwPHq67h58+Zity2EECdOnJDbDw8P19i3fv16+ZoJIcS2bduEQqEQX3zxhUY5pVIpXnnlFaFQKMTChQvl7Ya6P5s3by569uwpTp06JR+v/h3IyckR77zzjlAoFOLVV18Ve/bsESqVSgghxPXr18WQIUNE69at5bqCg4M12hg5cqRQKBSif//+IiwsTL7/s7Ozxc2bN8XKlSvFH3/8Uezrqqu9/L/br776qnj//ffl322VSiWCgoJEhw4dhEKhEEOGDCl2u1OmTJHrX7lypfw7WVSbN28WCoVCvPLKK8LT01N88sknIi4uTgghRFZWlvj7779F06ZNhUKhEOPGjStw/IULF8TEiRPF0aNHRWJionw9Hz16JNasWSNatmwpFAqFWLNmTYFjg4OD5dhbt24tPvvsMxEbGyuEeHov/frrr/L+33//XXh6eoqZM2eKpKQkIYQQKSkp8vl7eHjI94g26nvm2LFjOmN49rXTRv37p+195+DBg2LatGkiODhYPHz4UN6ekJAgFi1aJDw9PYVCoRCBgYEFjn32dZg5c6b8vvPo0SP5/c7Dw0MsX75cNG7cWCxdulQ8fvxYbmP06NHy7496e3EMGzasSO+92uS/z1u3bi1Gjhwprl+/LoQQIjMzU6xdu1Y0btxYKBQKMX/+fNGqVSvx2WefiXv37gkhhHjy5ImYN2+eXEdQUFCBNjZs2CBmzZolLly4IFJTU4UQQuTl5Yk7d+6IH3/8Ubi7u4vGjRuLS5cuFThWfX27dOlS5H0ZGRny+/HkyZPF7du35X3p6ekiMjJS/Pzzz1r/3pHhMPGncu15iX9aWpro2LGjUCgUwtvbW05q8r9pdunSRTx58kTr8b///rtQKBTC09NTXL16VWv96j9Mfn5+Bfar2/D09JQ/dOSXlJQkvL29hUKhEN9//73Gvt27d8vHHz9+vMCxKpVK/mDw5ptvFtivjkvXG7NaSRP/zMxM+RwmTpyo9di1a9fK55L/A1b+9p9NavMbP368UCgUwtfXt9AYtendu7dQKBRi8ODBWhP7Q4cOye3v3bu3wP6SJv7p6elyArJ8+XKNfZ9++qlQKBRix44dQggh4uLihEKhEJ07d9YoFxoaKscYEhIibzfU/antg6da/vvw1KlTBfZnZGSI7t2760zmvLy8hEKhEOfPn9d+gfRUlMTfx8dHZGZmFjg2/2uu67x1iYmJkZMT9YcLf39/sXTpUnHs2DE5QdJFnfSof+fU70n5bdq0SeeHxefZu3evUCgUonv37gX25U+6P/jgA/lDQ35DhgyRy3zzzTcF9ufk5Mj31JIlS7TGEB8fL9zd3UWLFi0KfDDKH8Orr74q2rdvX+g/Dw8PnYn/86xYsUIoFAoxcuTIAvvyvw66zlP9oVqhUIilS5cWKJOWliaaN28uFAqF2LZtW7HjUyf+np6ez70Ou3fv1jg2/33ep08frR9Av/jiiyK/3l9//XWx4//hhx90HqtP4h8eHi5/kFJ3LtCLx8m9ZJQeP36M06dPY8SIEXjw4AGAp2sma/vqe+jQoTqXRty7dy8AoGfPnlAoFAX229nZyeO2jx8/jrS0NK31+Pj4aB1PXLVqVbz//vsAnn5tnZ/65xYtWuC1114rcKyZmRnGjRsH4OnYzfzjsfN77bXX0KRJE637DCEoKAgpKSkAgPHjx2stM2TIEHkZ0N27d2stY2FhoTGEIT/1WFZd56jLlStXEB0dDQDw9/fXOjyna9eu8jATXbGVhI2NjTwG/tmJu+rx/d7e3gCA2rVrw8XFBffv38edO3fkcurjrKysNMbUGur+7Nu3r84xs+r7sGXLlmjXrl2B/dbW1lrnLqipx8HnX7L0RRk1apTW4WqdOnWSh/QV956qX78+/vrrL3ncempqKgIDA/Hbb79h7NixaNOmDYYPH47AwMDn1vXxxx9rfU/KP4b52feF53n99dcBPB2+pX7v02bs2LFah+B07NhR/v+HH35YYL+pqSnat28PQPe1O3ToEIQQeO211wpdQjk1NRVJSUmF/svLy9N5/POor8WFCxeQm5urs5yfn1+BbaampvL9bmlpiZEjRxYoY2dnJ/8+Fvc+yk+lUj33OmRlZek8fuTIkVqvc/7X8nmvtz7xq+dPnDt3rtjHaqN+r1CpVPLfFHrxOMafjMazkzHze/vtt/Hxxx9r3deyZUut25VKpfxmqC3hUevQoQOAp0uIXrp0SeuKK4WtwtK2bVssW7YMKSkpGpM6L168+Ny227ZtC1NTU+Tm5uLixYtar4Gu8zMUdZy1a9eW11Z/lqmpKdq2bYudO3fK5Z/VqFEjnR/A1GPv1ePEixubmZmZnFxr0759e0REROiMraTatGmDsLAwnDt3Djk5OTAzM0N0dDSSkpJQr149jXko3t7euHfvHkJCQlC3bl0A/ze+v0WLFvIfeEPen4XdI+pr8rx7WJcuXbpg06ZN+Oqrr3D+/Hl07doVzZo1eyHr7+uaN2BmZoYqVaogISGh2PcUADRp0gT//fcfIiMjcezYMVy4cAFXrlxBYmIi8vLycObMGXlZ1lmzZmlNuMzMzNC6dWut9ZuYmMDb2xs7duzQek8+efIE//zzD44ePYqYmBikpaVBpVIVKJeQkKAxbyU/XRNu1XNbKleurHNSeNWqVQE87WDRpqir+RTnAV66JCUlYcOGDQgKCsKtW7eQlpZWIMnPzMxEamoqqlSpUuD4ypUry79nz1KfZ8OGDXWu6vW8a1EUJX04l677PP+zbZ73euuK/+7du9iwYQNCQkJw584dpKenF/gwlpCQoE/YBdStWxf169fHjRs3MHDgQLz//vt47bXXoFAo9JrbRfph4k9GI/+bnPrJvY0bN8Zbb71VaGKifuN+VmpqqvwHpLCHkOTvKX348KHWMoUdn/8P88OHD+U/tsnJyc891tLSEo6OjkhKSpLLP0vbHztDKkqcwP9dJ11xFvZAKvWbfnGXY1W/Ho6OjoX2PD4vtpJSf7jLyMjApUuX8Morr8i9+M9+IHn11VexZcsWnDlzBu+99x6USiUuXLgAQHP9fkPen7p+B4Civb6FrbDxxRdf4Pbt2wgJCcGqVavkCdoeHh54/fXXMWjQoFJ7yE9h95R6AnNJlvht1qyZRkJ17949HDhwAMuXL8ejR4+wZcsWeHp6YtiwYQWOfd49qb4mz96TN2/ehK+vr8bkYmtra9jb28vfHiQlJQGAxgPGnqVrkr36d03fa/fkyROEhITAzMxM7nEvLWFhYfDz89NIWm1sbGBtbQ1JkpCbm4tHjx4B0H0tinKepX0flZSu+PIny897vbXFf/DgQUycOBFKpVKjHktLS0iSBJVKhdTUVHmZ4ZIyNTXF/PnzMW7cONy7dw+//vorfv31V1hbW6NFixZ444030L9//zJ5aF9FwsSfjEb+B3gVR2ErX6gVtipFUVasKMmqFkU9Vle5F9VTUtI4y4PSik3dU69UKhESEoJXXnlF7sV/9dVXNcqqf1Z/MIiIiJCTFl29oyW9P0vzd6BSpUpYu3YtQkND5SUoL168iEuXLuHSpUtYuXIlfvrpJ7z55pvPjaG8c3FxwahRo9CpUye8++67yMrKwr///qs18dfX1KlTER8fD2dnZ3z55Zdo27atxoPlcnNz5aF94v+vjPIiHT9+HCqVCu3atUOlSpVKrZ2cnBxMmjQJjx8/RuPGjfH555+jVatWGgnunTt35IdIlcW1MGaPHj3ClClToFQq0bZtW4wbNw5eXl4aQ+dOnz4NX19fg7br4eGBvXv34ujRozh58iTCwsJw/fp1nDp1CqdOncLy5cvx+++/F/oNP5UMx/hTheXg4CAnzffv39dZLv8+Xb3rhS39l38cbv7j1b2whbWdnZ0tj4Us7Z59XYoSJ/B/1+BFxqlu69GjRxq9Vs8q7disrKzwyiuvAPi/hF49vv/ZZL5OnTqoXbs2EhIS5J5y4GlPZv7eZUPen4VRv76F3cNFWdqydevW+OKLL/D3338jNDQUS5cuhUKhQFZWFr7++mu5l/pl0LBhQ7Rq1QrA0x56bZ53T6qHT+T/Nub+/fsICwsDAMybNw8+Pj4FniZd1tfxRT2068KFC4iNjYWpqSl+//13dO7cuUCvdlnMK3lZHDt2DE+ePIGDgwOWLVsGb2/vAvNlSuv6WlhYoEePHpgxYwZ27tyJ06dP44cffkDlypVx//59TJkypVTapaeY+FOFZWFhIfcqBAcH6yx36tQpAE97TT09PbWW0fU01vx1PzumVj0htLC2Q0JC5K9o9X1Ijrq3Vt8eMXWc8fHxOpOc3Nxc+RqU1sN8CostJydH7mHX5vTp0wBKNzZ1gn/+/HlcuXIFycnJqFOnjtZhMvl7/dXXrWXLlhrPmDDk/VkYXROT8yusfW0sLS3RrVs3eY3w7Oxsg00QLC/UY8J1DefJycnRec5CCISGhgKAxsPR8n+I0zVhX/16lwWVSoVjx44BeDo2vzSpr0WVKlV0DhVT/15T8ak/zLu5uekcWvOirq+joyPef/99+bkRUVFR8hAuMjwm/lShqZ/IuH//fvkhWvmlp6djxYoVAJ6ucKDrSZ779u3DjRs3Cmx/+PAhNm7cCADo1auX1rbDwsJw8uTJAsfm5ORg6dKlAACFQqF1VZeiUPeS6Ts5rUOHDnKvY/6HveT3zz//yN9s9OnTR6929OHh4YGGDRsCAAICArSu7HHs2DGEh4eXemzqxD8jIwMrV64EUHB8v5p6+8mTJ+XYtA3zMdT9WRh1G+fOndOa/GdlZcnn86ycnJxCV2XR54FoZe306dNaJ9Lml5CQICfgha2oFRAQoPX6bN26FXFxcQCg8VTY/K+f+gnC+T158gQBAQGFn0ApOnPmDNLS0tCkSRM4OzuXalvqa6Fe9eZZ8fHxJZowW9Gpr++tW7eQnZ1dYP/ly5exc+dOg7ZZ2DdgADSeZG0s7xfGiIk/VWiDBw+Gi4sLVCoVxo4di2PHjsl/qK9evYrRo0fj3r17MDc3x2effaazHktLS4wZMwanTp2Se9YjIiLwwQcf4NGjR7C1tS2wpFzPnj3l4SGfffYZdu7cKSccd+/exYQJE+Sv/Qt7gubzqD8wREdH4/z588U+3srKChMmTAAA7Nq1C9OnT9eYXLhu3TrMnj0bwNMkJn8P5ougvjahoaH45JNPcPfuXQBPeyd37NiBiRMnAng6Dr979+6lFkfz5s3lP1zqZUN1Jf7qHv/AwEB5GT9tE9QNdX8WpkePHvI3BZ988gn2798vf4CKiYnB2LFjdU6Kjo+PR48ePbB06VJERUVpTCC8cuWK/NrY2NjoXOGmvPnll1/QvXt3zJ07F6GhoRrLLKakpODff//F4MGDkZ6eDgA6l6i1trbG+fPnMWnSJLl3NTs7G5s2bcL3338P4OlwmfwrtjRs2BBOTk4AgK+//lpjxZ+wsDCNJySXhRc1zAcAWrVqBRsbGwgh8Nlnn8nfNubm5uLEiROFPs2cnq9Dhw4wMTFBSkoKJk+eLA89UyqV2LNnD0aNGlXopGd97N69G++//z7++ecf+X0a+L/X9NdffwXw9L26NOePVHSc3EsVmp2dHQICAjBmzBjEx8fDz88PlpaWMDc3x5MnTwA8/Sr/l19+gYeHh856pkyZgt9++w0ffPCBvOKEeiUECwsLzJs3T/6DrmZqaopFixZh9OjRuH79OiZPnoypU6fC2tpa7p03MTHB1KlT5fWU9eHt7Q03NzfcvHkTgwcPhoODg/wtwJdffgkfH5/n1jFs2DDcvXsXq1evxsaNG7Fp0yZUqlQJ6enpcrLXpk0bzJw5U+849dWlSxdMnToVc+bMQWBgIAIDA1GpUiVkZmbKH6QUCgUWLFhQqr1IFhYWaNGiBYKDg+XEWVfi7+rqiurVq8tjaO3s7LQO0zHU/VkYMzMzLFiwAMOHD8f9+/fxySefwMLCApaWlkhLS4O5uTkWLFgAf39/rcffvXsXCxYskK+vvb090tPT5Wtvbm6O2bNnFxirXl6Zm5sjPj4ef/zxB/744w9IkgQ7Ozvk5ORorBxjbm6OL7/8UufKNlWqVMHo0aMxc+ZM7NmzBw4ODsjIyJCvi4eHB3766SeNYyRJwvTp0zF+/Hhcv34d7777rjwMIzMzE9bW1ggICDD4hMuiOnz4MIAXk/jb29vjyy+/xPfff4+zZ8/Cx8cHNjY2yM3NRXZ2NhwdHTF79mydyziXJ2FhYfKyu4XRdwELfbi6umL06NH4448/cODAARw4cAD29vbIysqCSqWCi4sLPvvssxJ1Oj1LCIGwsDC5Q8vCwgI2NjZ4/Pix3KFRo0aNAr8XZFhM/KnCUygU2L17N9asWYPAwEDcvn0bSqUSdevWRfv27TF69Gid60Cr1alTB1u3bkVAQACOHj2KBw8eoGrVqmjXrh38/f21PtwLeLqk3+bNm/H3339j7969iImJQWZmJmrXrg1vb2988MEHaNy4cYnOz8zMDGvWrMGiRYtw6tQpPHjwQO41LM4ybVOnTkWXLl2wYcMGnD9/HikpKbC1tYWHhwf69u2Lfv36ldnXs76+vnj11VexevVqnD17FklJSbCysoKnpyd69eqFwYMHa3yNXFratGkjj4d3dnYu8GEvP29vb/mbgdatW+u8doa4P5+nTp062LZtG5YtW4aDBw8iISEBlpaWaN++Pfz8/HR+i1OzZk0EBAQgJCQEFy5cQHx8PJKTk2FmZoZ69eqhTZs2GDFiBFxdXUsU34u0du1anD59GsHBwYiMjMTt27flCfaOjo5wdXVFmzZtMGDAAJ3r4KsNHToUrq6uWLVqFSIjIyFJEurXr48333wTo0eP1vrwsS5duuCvv/7CsmXLcP78eWRmZqJ69ero1asXxo4di/r165fGaT/XpUuXcP/+fTg5OZX4PamoBg8eDCcnJ6xYsQIXL15Ebm4uatasic6dO2Ps2LHPHZJVXqgf4FXeTJ48GQ0bNsT69etx7do15OTkoG7dunjjjTcwZswYREVFGbS9rl274ueff0ZISAiioqKQmJiI1NRU2Nraws3NDV26dMGwYcPY21/KJGEka2AlJibi1KlTiIyMxMWLF3H58mVkZWXB09MTW7ZsKVHdwcHBWLVqFcLDw5GRkQEnJyf4+PjAz89P50M9iID/e6hYUR5UQ0Qvvy1btmDq1KlwdnaWe8hfBgsWLMDSpUsxfPhwfPvtt2UdDhHpyWh6/Hfv3i2PIzakdevW4aeffoIQArVq1ULt2rURHR2NgIAAHDhwABs2bDCar6iJiIhKw4sc309EpcdoEn87Ozu0b98eTZs2RdOmTXHr1i3MmzevRHVevHgRs2bNAgDMmDEDAwcOhCRJSEhIwMcff4xLly5h2rRpWLRokSFOgYiIyOgolUr06NEDPXr0KPBAOiIyLkaT+A8YMAADBgyQfy7p8B4AWLp0KfLy8tCvXz8MGjRI3l6zZk3MmzcPvXr1woEDB3DlyhW9J84REREZMwsLC4wfP76swyAiA6iwy3mmp6fjxIkTAICBAwcW2O/q6iovr7dv374XGhsRERERkaEZTY+/oV2+fBlKpRIWFhYa6yjn16pVK5w6dUp+wA7Rs65evVrWIRBROfLOO+/gnXfeKeswiIi0qrA9/uqHgTg5OcHc3FxrGfUSeeqyRERERETGqsL2+KvXMXdwcNBZRr2vJE9KDAsLgxBC54cLIiIiIiJ9qVQqSJKEFi1aPLdshU38s7OzAaDQhNzCwkKjrD6EEBBCQKlU6l0HEREREVFJVdjEX/0Uz8Ke/KdO1kvyxE9zc3MIIdCwYUO96yAiIiIi0iY6OhqSJBWpbIVN/IsyjKcow4GKQpIkPgGYiIiIiAyuqEk/UIEn97q6ugIA4uLidPb637lzR6MsEREREZGxqrCJf5MmTWBubg6lUomIiAitZc6dOwcAaN68+QuMjIiIiIjI8Cps4m9ra4uOHTsCADZt2lRg/61btxAcHAwA8PHxeaGxEREREREZ2kuf+A8ePBhdu3bF6tWrC+zz9/eHJEnYvn07Nm7cCCEEAODBgweYOHEi8vLy0L17d3h4eLzgqImIiIiIDMtoJvfev38f/fr1k39Wr7hz9epVtGnTRt4+ZswYjB07Vv45ISEBsbGxSEtLK1Cnl5cXpkyZgjlz5mD69OkICAiAo6MjoqOjoVQq4ebmhpkzZ5beSRERERERvSBGk/jn5uYiJSWlwPacnByN7VlZWcWq19fXF+7u7vjzzz8RERGB5ORkODk5wcfHB35+frC1tS1h5EREREREZU8S6vEtVCoiIyMBAM2aNSvjSIiIiIjoZVOcXPOlH+NPRERERERGNNSHiIiIyNgIIaBSqZCXl1fWoVA5Z2JiAnNz82I9kKu4mPgTERERGZhSqcSDBw+QkZGB3Nzcsg6HjISpqSlsbGxQo0YNWFhYGLx+Jv5EREREBpSRkYG7d+/C1NQUjo6OsLa2hqmpaan25JJxE0IgNzcXmZmZSE1Nxa1bt+Di4gIbGxuDtsPEn4iIiMiAkpKSYG5ujnr16sHU1LSswyEjYmdnhypVquD27dtISkpC3bp1DVo/J/cSERERGUhOTg7S09NRpUoVJv2kF1NTU1SpUgXp6enIyckxaN1M/ImIiIgMRJ2oWVpalnEkZMzU9w8TfyIiIqJyjuP5qSRK6/5h4k9EREREVAEw8SciIiIiqgCY+BMRERERVQBM/ImIiIiIKgCu409EREREsi1btiA2Nhbe3t5o06ZNWYdDBsQefyIiIiKSbd26FYsXL8aZM2fKOhQyMCb+REREREQVABN/IiIiIqIKgGP8iYiIiIzA/fv3sW7dOgQFBeHevXtQqVSoUaMGGjVqhJ49e6JXr17yE1/j4uJw5MgRHDt2DLdv30ZCQgIkSULt2rXRoUMHfPDBB3ByctKof8uWLZg6dar88+LFi7F48WKNMocOHYKLi4vGtqioKKxbtw5nz55FYmIiTExMUKdOHXTp0gUjR45ElSpVdJ7T2bNnsXLlSoSFhSEzMxO1a9eGj48P/Pz8sH//fkydOhXOzs44fPiw1uOjoqKwevVqnD17FklJSbCyskKDBg3g4+ODIUOGwMLCosAx6vNU1xscHIy1a9ciIiICycnJ6Nu3L3r37o2xY8fCzMwMhw8fRs2aNXWew5AhQ3Du3Dn0798fc+bM0VmuPGDiT0RERFTObdu2DdOnT0d2djYAwNzcHFZWVrh79y7u3r2Lw4cPw93dHY0bNwYAfPXVVxpj9O3t7ZGeno6YmBjExMRg69atWLZsGVq3bi2XsbKyQrVq1ZCamgqVSgUbGxvY2NhoxGFqaqrx88KFC7F06VIIIQAA1tbWUKlUuHr1Kq5evYrNmzdj+fLlaNKkSYFzWrduHX766Sf5WHt7e8TGxmLZsmU4ePAgBg4cWOg1Wb16NebMmaNxfGZmJsLCwhAWFoYtW7ZgxYoVqFGjhs461q5di1mzZkEIAXt7e/n8XnvtNbi4uODevXvYvHkz/P39tR4fExODc+fOAcBz4y0PONSHiIiIqBw7duwYpkyZguzsbLRs2RLr169HREQEQkNDce7cOaxfvx4DBw6Eubm5fEyjRo0wadIk7NmzB+Hh4QgNDUVkZCT+/fdfvPbaa0hLS8Pnn3+OrKws+ZjevXsjKCgILVq0AACMGjUKQUFBGv9q164tl1+9ejWWLFkCGxsbTJo0CSdPnsSFCxcQHh6OzZs3o23btkhMTMTHH3+M9PR0jXM6f/68nHB36NAB+/btQ2hoKC5cuIAFCxYgOTkZS5cu1XlNjhw5gtmzZ0MIgW7duiEwMBChoaE4f/48fv75Z9ja2uLq1av45JNPkJubq7WOpKQkzJkzB/3798fRo0cRGhqK8PBw+Pv7Q5IkDBo0CADw33//IS8vT2sd//77LwBAoVCgZcuWhb2M5QITfyIiIqJyKicnBzNmzIAQAq1atcKaNWvQunVrmJg8TeHs7OzQunVrzJw5Ew0bNpSPmz59Ovz8/NCgQQNYWVkBAMzMzODl5YXff/8d7u7uePDgAfbv369XXA8fPsRvv/0GSZKwZMkS+Pn5oXr16gCefivQtGlTrFy5Ep6enoiPj5cTZLWFCxciLy8PDRs2xLJly+Dm5ibH6OPjgwULFiA1NVVn+3PnzgUAtGrVCosWLUKdOnUAABYWFujXr5+8PywsDAcPHtRaR3Z2Nrp164bZs2fLH2hMTU1Rt25dAMCAAQNgbm6O2NhYBAUFFTheqVRi27ZtAIyjtx9g4k9ERERUboWEhODevXsAgKlTp2ods15cpqameO211wBAHqZSXDt37kRmZiaaNm2Kdu3aaS1jZmaGN998EwBw8uRJeXtKSgqCg4MBAKNHj9Z6Tm3bttUYhpTflStXEB0dDQDw9/cvMPwIALp27QovLy8AwO7du3Weh5+fn859VapUQc+ePQEAmzZtKrD/4MGDePToEaysrNC3b1+d9ZQnHONPREREVE6FhYUBAKpXr45mzZoV69jQ0FD8999/uHDhAhISEpCRkVGgTEJCgl5xqT8wXL9+HR06dNBZTj2UKC4uTt52+fJleVz+q6++qvNYb29vhIaGFth+8eJFAE8/WHh7e+s8vn379oiIiJDLP8vKygqenp46jweA999/H7t27cLhw4eRlJSEatWqyfvUHwZ69eqFSpUqFVpPecHEn4iIiKicSkxMBIACK/A8zy+//IIVK1bIP5uamsLBwUGeB5CRkSH/08eDBw8APE3s888T0CV/mYcPH8r/L2y1HF371Mc7OjoW+g1IrVq1AADJycla91euXFkeMqXLq6++ioYNGyI6OhpbtmyRvyG4c+cOQkJCAECeC2AMmPgTERERlXOSJBW5bFBQkJz0DxkyBIMHD0aDBg00hsT89ttvCAgI0Dse9WTX999/Hz/88EOxjlX39huq3PPounbahghp8/777+PHH3/Ev//+i7Fjx0KSJGzatAlCCCgUCnkytDHgGH8iIiKicko9YVY9zr8o1GPaO3bsiO+++w4KhaJAkpuUlFSiuNRDXq5du1bsY6tWrSr/X/3NgTa69qmfC/Do0SMolUqdx8fHx2uU11e/fv1gbW2NO3fuIDg4GDk5Odi6dSsA4+rtB5j4ExEREZVb6iUik5KSEBkZWaRj1AmvtrXzgac96erJtdqoe8gL63FXxxUeHo7Y2NgixaXWuHFjuY38zxp4lq59TZs2BfB0xaPCjj99+jQAFHtuxLPs7e3Rp08fAMDGjRvl8f5WVlZ4++23S1T3i8bEn4iIiKicatOmjbxU5ezZswvt4Vazs7MD8HT1G23+/vtv3L1797nHP378WGeZvn37wsrKCrm5uZgxY4bOtfKBp8OC8tdVuXJltGnTBgCwatUqred09uxZrRN7AcDDw0NeujQgIEBr28eOHUN4eDgAyEl7SQwePBgAEBgYKA+jMqZJvWpM/ImIiIjKKVNTU0ybNg2SJOHcuXPw9fVFaGioPMb+yZMnCAkJweTJk+UlLtVLdR4/fhxLliyRJ/A+fvwYy5Ytw48//ojKlSvrbLNRo0by8bpW/alevTomTZoEADh69Cg++OADnDt3Tk7ChRCIiYnBqlWr8Oabb+LIkSMax0+YMAGSJOHatWv4+OOPcevWLQBPe/EPHDiACRMmwMHBQWeMkydPBvB05aJPPvlE/iCjUqmwY8cOTJw4EQDQokULdO/eXWc9RdW0aVN4enpCpVLJHyiMbZgPAEjCUDMnSCv113Il/ZqJiIiIyr+srCzcvHkTbm5u8oOzDGHbtm2YNm2a3DtuYWEBKysrjZ70bdu2oXHjxlCpVPIHBODp0J1KlSohLS0NeXl5eP3119G4cWMEBATA29sb69at02jr1q1bePvtt5GdnQ0TExNUqVIFlpaWAIANGzbIq+UAwIoVKzBv3jw54Tc3N4etrS3S09OhUqnkcr/88kuBYTGrV6/G7Nmz5Z8rVaqErKwsKJVKKBQKvPvuu5g9ezbc3Nywb9++Atdk9erVmDNnjjwkqVKlSsjMzJTbVSgUWLFiRYHVgbZs2YKpU6fC2dkZhw8fLsrlB/D0Kb3ffvutXPfOnTuLfGxxFec+Kk6uyR5/IiIionKuX79+2Lt3L0aOHImGDRvCzMwMKpUKdevWRffu3fG///0PDRo0APA0+f7zzz8xfvx4uLq6wszMDEIIeHl54fvvv0dAQEChK9q4urpi7dq16Nq1K6pUqYKUlBTExsYiNjYWOTk5GmXHjBmDvXv3wtfXF+7u7rC0tERaWhpsbGzQrFkzjBkzBv/88w/eeuutAu34+vpi3bp16Ny5MxwcHJCdnQ1nZ2d8/PHH2Lhxo1xO13AaX19fbN68GW+//TZq166NzMxMWFlZoXnz5pg6dSr++++/QpcLLS4fHx95boIx9vYD7PEvdezxJyIiqjhKq8e/Ipo0aRJ27dqFd999F7NmzSrrcLB//3588sknsLKywokTJ0p1fD97/ImIiIioQrh58yYOHjwI4P/mLJS1v/76C8DTycLGNqlXjYk/EREREb1wCxYswF9//YW4uDh5snJGRgb27NmDESNGIDs7G/Xr1zfI5NyS2rhxI86cOQMTExN88MEHZR2O3vjkXiIiIiJ64a5evYpDhw5h5syZ8qTgx48fyx8CatasiQULFsDc3LxM4rtw4QImTpyItLQ0eRL1kCFD5FWPjBETfyIiIiJ64Xx9fVGjRg2EhYUhMTERqampsLW1haurK15//XUMGzas0GVHS1t2djZiY2NhamoKFxcX9O/fHx999FGZxWMITPyJiIiI6IXz9vaGt7d3WYehU5s2bXD16tWyDsOgOMafiIiIiKgCYOJPRERERFQBMPEnIiIiIqoAmPgTEREREVUATPyJiIiIiCoAJv5ERERERBUAE38iIiIiogqAiT8RERERUQXAxJ+IiIiIqAJg4k9EREREVAEw8SciIiKiMtG1a1e4u7sjJCSkrEOpEJj4ExERERFVAEz8iYiIiF6wvDxR1iHoxVjjpqfMyjoAIiIioorGxETCkr+DEPsgtaxDKTLnGg4YN7hDWYdBJcDEn4iIiKgMxD5Ixa3YR2UdBlUgTPyJiIiIqMzdvXsXCxcuxKlTp/D48WO4uLjg3XffxahRo2Bi8n+j03Nzc3H06FEcPnwYERERSEhIQGZmJmrUqIH27dtj7NixqFu3boH6Q0JCMGLECDg7O+Pw4cPYtm0b/vrrL8TExMDKygrt2rXDxIkT4eLiAgA4ceIEVqxYgaioKOTk5KBFixaYPHkymjRp8sKuiaFxjD8RERERlanLly+jf//+OHDgAGrWrAlHR0fcuHEDv/zyC3788UeNsomJifD398fmzZvx8OFDODk5wdXVFY8ePcKmTZvQv39/REREFNreL7/8gq+++gqPHj1CnTp1kJaWht27d2P48OF49OgR1q9fj7FjxyImJgYuLi7Iy8tDUFAQhg0bhps3b5bmpShV7PEnIiIiojI1d+5c9OvXD1OnToWtrS0AYPfu3Zg0aRI2bNiAESNGwNXVFQBga2uLWbNmoUuXLqhSpYpch1KpxH///Ycff/wRU6ZMwe7duyFJUoG2EhIS8M8//+CPP/5Ap06dAAD37t3DiBEjEBsbi2+//RZBQUGYM2cO+vXrBwB49OgRRo8ejUuXLmHx4sX49ddfS/eClBL2+BMRERFRmXJ1dcUPP/wgJ/0A0KdPH7z++usQQuDYsWPydnt7e7z77rsaST8AWFhYYMiQIejduzdiYmIQGRmpta2cnByMGzdOTvoBwMXFBWPGjAEABAYGYsCAAXLSDwCOjo749NNPAQDHjx8v8fmWFfb4ExEREVGZGjBgAExNTQtsb9GiBY4cOYK7d+8W2BceHo6DBw8iJiYGT548QU5ODgDg/v37AIBLly7By8tLa3vvvfdegW2enp4a8eja//jxYzx69AiOjo5FOLPyhYk/EREREZUp9TCeZ1WtWhUAkJ6eLm/LycnB119/je3btxdaZ0pKitbtjo6OsLe3L7A9/zcI2iYHq2MBgIyMDCb+RERERETFZW1trXW7ejUfIf7vwWF//vkntm/fDkdHR0yaNAlt2rRBjRo1YGVlBQBYsGABli5dKn8D8CwbGxut2/PPB9BWJv/+/PEYEyb+RERERGQ0tm7dCgD4+eef0blz5wL7dfX0Eyf3EhEREZERUY/3b9Wqldb9YWFhLzIco8LEn4iIiIiMhnpY0IMHDwrsO3XqFC5fvvyiQzIaTPyJiIiIyGioe/p/+uknpKamytuDg4MxceJEWFpallVo5R7H+BMRERGR0fjss88QHByMkydP4vXXX4erqyseP36Me/fuQaFQoGPHjvjzzz/LOsxyiYk/ERERURlwruFQ1iEUS3mJ18PDA3///TcWLFiA0NBQxMTEoHbt2vDz88NHH33EpL8QkjDW9YiMhPqpcc2aNSvjSIiIiKi0ZWVl4ebNm3Bzc5OXl9QmL0/AxETSub+8Mta4jU1R7yOgeLkmx/gTERERvWDGmjwba9z0FBN/IiIiIqIKgIk/EREREVEFwMSfiIiIiKgCYOJPRERERFQBMPEnIiIiIqoAmPgTEREREVUATPyJiIiIiCoAo3tyb3BwMFatWoXw8HBkZGTAyckJPj4+8PPzg42NTbHrS0lJwapVq3D06FHcuXMHKpUKjo6OaN68OYYOHYq2bduWwlkQEREREb1YRtXjv27dOvj6+uLo0aOwtLREgwYNEBsbi4CAAAwYMAApKSnFqu/WrVt46623sGzZMly7dg1Vq1ZFo0aNkJGRgQMHDmDkyJFYunRp6ZwMEREREdELZDSJ/8WLFzFr1iwAwIwZM3D06FFs3boVgYGB8PT0RExMDKZNm1asOr/77js8ePAArq6u2LFjBwIDA7F161acPn0a/v7+AICFCxfiypUrBj8fIiIiIqIXyWgS/6VLlyIvLw99+/bFoEGDIElPHxlds2ZNzJs3DyYmJjhw4ECRk/QnT54gJCQEAPDll1+iUaNG8j4LCwt8+umnaNy4MYQQOH78uOFPiIiIiIjoBTKKxD89PR0nTpwAAAwcOLDAfldXV3ks/r59+4pUp1KphBACAFCnTh2tZdTbVSpVsWMmIiIiIipPjCLxv3z5MpRKJSwsLODl5aW1TKtWrQAA4eHhRaqzSpUqqF27NgDg/PnzBfZnZ2fj4sWLAIBXXnlFn7CJiIiIiMoNo0j8b968CQBwcnKCubm51jJ169bVKFsUX3zxBSRJwi+//IJNmzYhMTERmZmZuHjxIsaPH4+4uDj07NkTHTt2LPlJEBERERGVIaNYzjM1NRUA4ODgoLOMep+6bFH06dMHtra2WLx4cYGJwY6Ojpg+fToGDx6sR8SahBDIyMgocT1ERERUvmVnZyMvLw+5ubnIzc0t63DISOXm5iIvLw+ZmZnIy8srtKwQQp77+jxGkfhnZ2cDgM7efuDphNz8ZYvqzp07SE1NhSRJqF27NipVqoQ7d+7g0aNH2LhxI5o0aYIWLVroHzyezhG4fPlyieogIiIi42BmZlbsfIQov+zsbOTk5ODGjRtFKq/Og5/HKBJ/S0tLAIVPslUqlRpli+KHH37Ahg0b4OHhge3bt8Pd3V1uZ9WqVfj1118xcuRI/P333/D09NQ7fnNzczRs2FDv44mIiMg4ZGdnIy4uDpaWlrCysirrcMiImZmZoW7dus/NbaOjo4teZ0mDehGKMoynKMOB8rty5Qr+/vtvmJmZYdGiRfIcAeBpou7n54cbN25g69at+O233/DHH3/oHb8kSXo9VZiIiIiMi4mJCUxMTGBqagpTU1Od5UReHiQTo5hqqcFY4zY2pqamMDExgbW19XM/QBZ1mA9gJIm/q6srACAuLg4qlUrrkJ87d+5olH2ec+fOQQiBevXqaST9+XXq1Albt25FRESEXnETERERaSOZmODmrj+QmXy/rEMpMuuqteH25tiyDoNKwCgS/yZNmsDc3BxKpRIRERHy0p35nTt3DgDQvHnzItWZnp4OoGifktTDiIiIiIgMJTP5PjIT7pR1GFSBGEXib2tri44dO+LIkSPYtGlTgcT/1q1bCA4OBgD4+PgUqU43Nzf52Lt372p9iJf6oWHqskRERERkWA8ePMDy5ctx4sQJ3L9/H5IkwdHREfXq1UOHDh3wwQcfyKM91PMxDx06hPj4eAQEBCAyMhJKpRLu7u4YMWIE+vTpU6CNrKwsHDp0CIcPH8bly5eRkJCAnJwc1K5dG507d8aYMWNQvXr1Asdt2bIFU6dOhbe3N9asWYO1a9di8+bNuHPnDuzt7dG1a1d8/vnncHR0BADs2rUL69atw/Xr12FiYoJ27drhyy+/1Pmw2BfNaAZp+fv7Q5IkbN++HRs3bpSfuvvgwQNMnDgReXl56N69Ozw8PDSOGzx4MLp27YrVq1drbO/YsSOqVauGnJwcfPLJJ7h+/bq8T6VSYcWKFdiyZQsAoF+/fqV6bkREREQVUXx8PN555x2sW7cOsbGxcHFxQcOGDZGTk4OQkBD8+uuvyMzMLHBcYGAgRowYgfDwcNSpUwd2dna4cOECJk6ciLlz5xYof/HiRUycOBF79+5FWloa6tWrB2dnZ9y/fx+rV6/GO++8g7t37xYa66RJkzB79myoVCo4Ozvj4cOH2LhxI0aNGgWlUon//e9/mDRpEhITE+Hi4oKsrCwcOHAAQ4YMwaNHjwx2zUrCKHr8AcDLywtTpkzBnDlzMH36dAQEBMDR0RHR0dFQKpVwc3PDzJkzCxyXkJCA2NhYpKWlaWy3trbG3Llz4e/vj6ioKLz11ltwcnKSl/NUDwXq0aMHhg4d+kLOkYiIiKgiWblyJRITE9G+fXv8+uuvqFKlirwvKSkJu3bt0jq3c+7cuXj//fcxZcoUWFhYQAiBDRs2YObMmfjjjz/Qtm1bjQew1q5dG/Pnz0enTp1gZ2cnb09PT8eff/6JxYsX44cffsCKFSu0xhkWFgZHR0f8999/aNasGQAgKioKvr6+iIqKwhdffIGTJ0/ijz/+QKdOnQAA9+7dw4gRIxAbG4vVq1fj888/N8g1Kwmj6fEHAF9fX6xatQqdOnVCZmYmoqOj4eTkhI8++gibN2/WuFmKol27dti1axdGjhyJhg0b4uHDh7h+/TqsrKzw2muvYd68eVi0aFGhs/KJiIiISD/qdeqHDh1aII+rVq0afH19YW1tXeA4Nzc3TJs2TV6/XpIkDB06FG+99RYAYPny5RrlnZ2d0bt3b42kH3g6nHzChAlo2bIlTp48iaSkJK1xqlQqfPvtt3LSDzydg/ree+8BAPbt24fx48fLST8AuLi4YPTo0QCAo0ePPvdavAhG0+Ov1q5dO7Rr167I5Q8fPlzofmdnZ3z99dclDYuIiIiIiql27doAgP3796NTp05FfhDV0KFDtS7QMnz4cOzYsQOhoaHIzMws8KEhKCgIx44dw+3bt/HkyRP5qbi3b9+GEAJRUVEaybuag4MDevbsWWB7/uc8DRgwoMD+pk2bAvi/1SfLmtEl/kRERET0chg2bBi2bduGHTt24Pjx4+jUqRNatGiBNm3aoEGDBjqP0/VgVPX23Nxc3L59W577mZ6ejgkTJiAoKKjQeFJSUrRu1zU5V/0thaOjI+zt7XXuz8jIKLTdF8WohvoQERER0cvDw8MDGzZswOuvv4709HTs2LEDP/zwA3r37o23334bx48f13qcruHdNjY28kNT1fM1AeDnn39GUFAQ6tSpg3nz5uHIkSOIjIzE1atXcfXqVfTt2xcAkJOTo7NebdTfOjxvf3lRaj3+R44cQVBQEExNTdG5c2e0b9++tJoiIiIiIiPl5eWF33//HVlZWQgPD8eZM2ewd+9eXL16FR999BE2bNhQ4DlNDx8+RP369QvUlZmZKfeu29raAniazO/cuRMAsGzZMq3fFujq6X/Z6N3jf+DAAXTr1g3Tp08vsG/27Nnw9/fH+vXrsXbtWowePRo///xziQIlIiIiopeXlZUV2rRpgwkTJmDXrl3o1KkTcnNzsWnTpgJlo6OjtdahXp7d1NQUdevWBfD0Q0JGRgYqV66sNenPyclBZGSkAc+k/NI78T98+DDi4uLQunVrje2XLl3CmjVrIIRA7dq1UbduXQghsHr1aoSEhJQ4YCIiIiJ6uZmYmKBFixYAgMTExAL7169fr/W4v/76CwDQqlUrefiNlZUVAODJkydax9pv3boVDx8+NEjc5Z3eib/6k9GzK+xs3rwZAPDGG28gMDAQ+/fvx9ChQyGE0PqJjYiIiIgqpunTp2Pnzp148uSJxvabN29i69atAP5vZZxn9//4449QKpUAACEE/vnnH3lIz9ixY+WylSpVgkKhQE5ODmbMmIGsrCx53549e/Djjz/C0tLS4OdWHuk9xv/hw4cwNTUt8HjjoKAgSJKEsWPHwsTk6eeKDz/8EOvXr8eFCxdKFCwRERERvTzCw8OxceNGmJqaok6dOnBwcEBqaqq8vKaHh4e8Fn5+6if0btu2Da6uroiPj5e/GRg1alSBJTm/+OILfPTRR9i6dSsCAwNRt25dJCYm4sGDB2jfvj2qVauGHTt2vJBzLkt6J/5paWnypAm1R48e4fbt23BwcICXl5e8vUaNGrC2ttb6VQ0RERFRRWRdtXZZh1AspRHv1KlTceTIEYSGhiIhIQH37t2DpaUlmjVrhp49e2LYsGHyUJ38evToAU9PT/z++++IjIyEUqmEl5cXRowYIT/EK79OnTrhzz//xNKlSxEZGYkbN26gTp06GD58OD744ANMmzbN4OdWHklCCKHPgd7e3njy5AnCw8PlRykHBgZi/Pjx6Ny5M37//fcC5VUqFcLCwkoetRFRD4nK/6Q3IiIiejllZWXh5s2bcHNz05qwqom8PEgmxreqelnH7e7uDgA4dOgQXFxcyiyO0lbU+wgoXq6p9ytXv359CCFw7NgxedvevXshSRJatWqlUTYzMxNpaWkFhgURERERVUTGmPQDxhs3PaX3UJ833ngDFy5cwLfffosbN24gMTERe/bsgYmJCXr16qVRNjIyEkKIl/qTGRERERFReaZ34j9s2DDs2LEDV69exfz586EeMTRs2LACjzU+cOAAJEkqsPQnERERERG9GHon/paWltiwYQPWrFmDCxcuwN7eHl26dMGbb76pUU6pVOLs2bOoXbs2OnbsWOKAiYiIiIio+PRO/IGnj0L29/cvtIyFhQW2b99ekmaIiIiIiHD16tWyDsGocYYGEREREVEFwMSfiIiIiKgCKNJQn23bthmswX79+hmsLiIiIiIiKpoiJf5TpkyBJEklbkySJCb+RERE9NLT8/moRABK7/4pUuLv5ORUKo0TERERvUxM/v8DrnJzc8s4EjJm6vvHxMAPTCtS4n/48GGDNkpERET0MjI3N4e5uTmePHkCOzu7sg6HjFRaWpp8LxkSJ/cSERERGYgkSbC3t0dqaioyMzPLOhwyQpmZmXj8+DHs7e0NMtQ+vxKt409EREREmqpVq4bMzEzcuXMHlSpVgr29PUxNTQ2exNHLQwiB3NxcpKWl4fHjx7C0tES1atUM3g4TfyIiIiIDMjU1RZ06dZCUlIS0tDSkpKSUdUhkJMzNzVG5cmVUq1YNpqamBq+/WMt52tnZoXv37hrbiour+hAREdHLztTUFDVr1kSNGjWgUqmQl5dX1iFROWdiYgJzc/NS/WZIEkVYL8jDwwOSJMHNzQ179uzR2FasxiQJUVFR+kVqpCIjIwEAzZo1K+NIiIiIiOhlU5xcs1jLedaoUaPANiIiIiIiKv/0Xs6TS3wSERERERkPLudJRERERFQBMPEnIiIiIqoAmPgTEREREVUABlnHPz4+HufPn0dCQgIyMjJQ2EJB48ePN0STRERERERUDCVK/B8+fIjvv/8egYGBhSb7wNMnkkmSxMSfiIiIiKgM6J34Z2RkYMSIEYiJiYG5uTk8PDwQEREBc3NzeHl5ISkpCbdv3wYAODg4QKFQGCxoIiIiIiIqHr3H+K9fvx7R0dFwc3NDYGAgNm3aBOBpkr9+/Xrs378fhw4dQq9evZCWlobXXnsN69atM1jgRERERERUdHon/oGBgZAkCRMnTtR4sFd+zs7OmD9/Pnr16oX58+fj9OnTegdKRERERET60zvxv3HjBgCgU6dOGttzcnIKlP3ss88ghGCPPxERERFRGdE78c/OzkalSpVgYWEhb7O0tERGRkaBsnXq1IG9vT0iIiL0bY6IiIiIiEpA78S/WrVqePLkCfLy8uRtVapUgUqlQnx8vEbZ3NxcZGZmIiUlRe9AiYiIiIhIf3on/k5OTsjLy8ODBw/kbR4eHgCAgwcPapQ9fPgwcnJyULVqVX2bIyIiIiKiEtA78W/bti0AIDg4WN7Wu3dvCCEwb948rFixAkFBQVi5ciWmTp0KSZIKzAcgIiIiIqIXQxLPe/KWDlFRUXjnnXfQoUMHrFy5EsDTh3SNHDkSZ86cgSRJclkhBKpVq4bNmzejZs2ahoncSERGRgIAmjVrVsaREBEREdHLpji5pt4P8GrSpAmuXLmisU2SJCxfvhwBAQHYs2cP7t+/D3t7e7z22mv47LPPKlzST0RERERUXujd409Fwx5/IiIiIiotxck19R7jT0RERERExoOJPxERERFRBaD3GP/8EhIScPXqVTx+/Fjrk3vz69evnyGaJCIiIiKiYihR4h8VFYWffvoJ58+fL1J5SZKY+BMRERERlQG9E/+oqCgMHToUWVlZEELAwsICjo6OMDU1NWR8RERERERkAHon/r/99hsyMzNRt25dzJgxA97e3jAx4ZQBIiIiIqLySO/E//z585AkCb/99huaNGliyJiIiIiIiMjA9O6iF0LA2tqaST8RERERkRHQO/GvV68ecnJykJuba8h4iIiIiIioFOid+Pfv3x8qlQqHDh0yZDxERERERFQK9E78hwwZgvbt22P69OkICwszZExERERERGRgek/uNTU1RUBAAP73v/9hyJAhaN26NZo2bQpbW9tCjxs/fry+TRIRERERkZ5K9ACv06dP48iRIxBCIDQ0FKGhoc89hok/EREREdGLp3fiHxoainHjxiE3NxeSJKFu3bqoWrUqH+BFRERERFQO6Z34L1myBDk5OWjatCnmz5+POnXqGDIuIiIiIiIyIL0n90ZFRUGSJMydO5dJPxERERFROad34p+bmwtbW1u4uroaMBwiIiIiIioNeif+DRo0QFZWFpRKpSHjISIiIiKiUqB34j9o0CDk5ORg+/bthoyHiIiIiIhKgd6Te9955x2cPXsWs2bNgo2NDfr06WPIuIiIiIiIyID0TvynTp0KADA3N8fkyZPx66+/PvcBXpIkYdasWfo2SUREREREetI78d+6dSskSYIQAgAQFxeHuLg4rWXV5Zj4ExERERGVDb0T/379+kGSJEPGQkREREREpUTvxH/OnDmGjIOIiIiIiEqR3qv6EBERERGR8WDiT0RERERUARQ58T979iwuXLigd0OrVq3C4sWL9T6eiIiIiIj0V+TEf/jw4ZgwYYLWfQMGDED37t0LPX7lypVYsmRJ8aIjIiIiIiKDKNbkXvXSnc+Kj49HcnKyQQIiIiIiIiLD03tVn7ISHByMVatWITw8HBkZGXBycoKPjw/8/PxgY2Ojd73Hjh3Dv//+iwsXLiAlJQWVKlVC3bp10aZNG0yYMAFmZkZ3qYiIiIiIZEY1uXfdunXw9fXF0aNHYWlpiQYNGiA2NhYBAQEYMGAAUlJSil1nTk4OvvjiC/j5+eHgwYMwNTWFh4cHbGxscPHiRSxbtgzZ2dmGPxkiIiIiohfIaLqxL168KD/1d8aMGRg4cCAkSUJCQgI+/vhjXLp0CdOmTcOiRYuKVe/333+PHTt2wMPDAzNnzoSXl5e8LzMzE6dOnYKFhYVBz4WIiIiI6EUzmh7/pUuXIi8vD3379sWgQYPkpwbXrFkT8+bNg4mJCQ4cOIArV64Uuc7g4GD8+++/qFGjBtasWaOR9AOAtbU1unXrBnNzc4OeCxERERHRi2YUiX96ejpOnDgBABg4cGCB/a6urmjbti0AYN++fUWud/Xq1QCA0aNHo3LlyiWOk4iIiIiovDKKoT6XL1+GUqmEhYVFgV55tVatWuHUqVMIDw8vUp3Z2dk4efIkAKBbt26IiIjAli1bcPv2bVhaWqJp06YYMGAAatWqZbDzICIiIiIqK8VK/FUqFUJDQwss66lSqQBA675ny+jj5s2bAAAnJyedw27q1q2rUfZ5rly5ApVKBRsbG+zfvx+//vor8vLy5P1HjhzBH3/8gTlz5qBXr156x05EREREVB4UK/F//Pgxhg8frnN/YfuEEPK4/OJKTU0FADg4OOgso96nLvs8iYmJAAClUolffvkFrVq1wjfffINGjRohLi4O8+fPx759+/DFF1/Azc0NHh4eesUOPD33jIwMvY8nIiIiItKmODm2QR7gVdrUy2kWNslWvfJOUZfeTE9PB/B0OU9HR0csX74cdnZ2AJ7OGZg/fz5u376Ny5cvIyAgAAsWLNA7fpVKhcuXL+t9PBERERGRLkVdgbLIif/atWv1DqakLC0tARQ+XEipVGqULWqdADBo0CA56VczMTGBr68vvvrqK5w8eRJ5eXkwMdFvLrS5uTkaNmyo17FERERERLpER0cXuWyRE39vb2+9gjGEogzjKcpwIG11AkD9+vW1llFvf/LkCVJSUlClSpUi1f0sSZJK9FRhIiIiIiJtijOU3iiW83R1dQUAxMXF6ez1v3PnjkbZ58mf7Ov6liD/9vwTf4mIiIiIjI1RJP5NmjSBubk5lEolIiIitJY5d+4cAKB58+ZFqrNmzZpwdnYG8H8fGp519+5dAE/HTXGdfyIiIiIyZkaR+Nva2qJjx44AgE2bNhXYf+vWLQQHBwMAfHx8ilyvepnObdu2ae3R/++//wA8HeZkZmYUjzwgIiIiItLKKBJ/APD394ckSdi+fTs2btworzD04MEDTJw4EXl5eejevXuBZTcHDx6Mrl27yk/pzW/06NGwt7dHTEwMZs2aJU8QFkJgzZo1OHLkCCRJgp+fX6mfHxERERFRaZJEWa3RqYfVq1djzpw5EEKgdu3acHR0RHR0NJRKJdzc3LBhw4YCE3C7du2K2NhYjB8/HhMmTChQ56lTp/Dxxx8jKysLDg4OqFevHu7fv4/ExERIkoQvvvgCo0eP1jvmyMhIAECzZs30roOIiIiISJvi5JpG0+MPAL6+vli1ahU6deqEzMxMREdHw8nJCR999BE2b96s16o77du3x/bt2/HOO+/A2toaly9fRk5ODrp27Yq1a9eWKOknIiIiIiovjKrH3xixx5+IiIiISstL2+NPRERERET6KVLiP378eHzzzTca2+Li4pCQkFAqQRERERERkWEVaY3KwMBAVKtWTWNb165dUb16dZw4caJUAiMiIiIiIsMpUo+/iYmJ1nXuOT2AiIiIiMg4FCnxd3BwQEpKCtLS0ko7HiIiIiIiKgVFGurTrFkznDhxAh999BF69+4NW1tbAEB2dja2bdtWrAb79etX3BiJiIiIiKiEirScZ2hoKHx9fZGTkwNJkgA8Heaj/n+RG5MkREVF6RepkeJynkRERERUWoqTaxapx79169b466+/sHbtWly7dg2ZmZmIjY2FiYkJatasWbJoiYiIiIio1BUp8QeA5s2bo3nz5vLPHh4ecHR0xOHDh0sjLiIiIiIiMiA+wIuIiIiIqAIoco//s65cuWLIOIiIiIiIqBSxx5+IiIiIqALQu8dfTQiBgwcPYteuXbh48SIePnwISZLg6OiIZs2a4a233kK3bt2KvQIQEREREREZTokS/6SkJHzyyScICwsDoPkk38zMTNy/fx8HDhxAy5Yt8dtvv6F69eoli5aIiIiIiPSid+KvVCoxevRoXLt2DUIIeHl5oX379qhVqxYAID4+HqdPn0Z4eDjOnz+PsWPHYtOmTbCwsDBY8EREREREVDR6J/5///03rl69Cjs7O/zyyy/o0qVLgTKfffYZjh07hkmTJuHq1av4559/MGLEiBIFTERERERExaf35N69e/dCkiRMnz5da9Kv1rlzZ0yfPh1CCOzZs0ff5oiIiIiIqAT0Tvxv3LgBMzMz9O7d+7lle/fuDXNzc9y4cUPf5oiIiIiIqAT0TvyzsrJgbW0NM7PnjxYyMzODtbU1srKy9G2OiIiIiIhKQO/Ev1q1akhLS0NcXNxzy967dw+PHz9GtWrV9G2OiIiIiIhKQO/Ev3Xr1hBCYPbs2RrLeD5LCIE5c+ZAkiS8+uqr+jZHREREREQloHfi/8EHH0CSJAQGBmLEiBE4ffo0VCqVvF+lUuHUqVMYMWIEAgMDIUkSfH19DREzEREREREVk97LeTZu3BhfffUV5syZg9DQUIwaNQqmpqZwdHSEJEl4+PAhcnNz5W8DvvzySzRu3NhggRMRERERUdGV6Mm9vr6+qFevHubOnYuYmBjk5OQgMTFRo0zDhg0xefJkvP766yVpioiIiIiISqBEiT8AdOnSBV26dMHVq1dx8eJFJCcnAwCqVq2Kpk2bwt3dvcRBEhERERFRyZQ48Vdzd3dnkk9EREREVE7pPbmXiIiIiIiMBxN/IiIiIqIKgIk/EREREVEFwMSfiIiIiKgCYOJPRERERFQBMPEnIiIiIqoAmPgTEREREVUATPyJiIiIiCoAJv5ERERERBUAE38iIiIiogrArCQHCyGwdetW7N69G1evXkVKSgpyc3N1lpckCVFRUSVpkoiIiIiI9KB34q9UKuHn54eQkBAIIQwZExERERERGZjeif/y5csRHBwMAOjRowe6du2KmjVrwtTU1GDBERERERGRYeid+O/ZsweSJGHcuHEYP368IWMiIiIiIiID03ty77179yBJEj744ANDxkNERERERKVA7x5/W1tb5OXlwdbW1pDxEBERERFRKdC7x79Zs2ZIS0tDSkqKAcMhIiIiIqLSoHfi/8EHH0AIgdWrVxswHCIiIiIiKg16J/7t2rXD5MmT8ccff2DJkiXIzMw0ZFxERERERGRAeo/xHzFiBICnY/0XL16M5cuXo2HDhoWO+ZckCWvWrNG3SSIiIiIi0pPeif+ZM2c0fs7OzsalS5cKPUaSJH2bIyIiIiKiEtA78efa/URERERExoOJPxERERFRBaD35F4iIiIiIjIeTPyJiIiIiCoAvYf65Hfp0iXs2rULFy9exMOHDyFJEhwdHdGsWTO8+eabaNKkiSGaISIiIiIiPZUo8c/IyMC0adOwZ88eAIAQQmN/aGgoVq1ahd69e2PmzJmwsbEpSXNERERERKQnvRP/vLw8+Pv7IyQkBEIIVK9eHW3btkWtWrUAAPHx8QgJCcGDBw+wZ88ePHz4EH/++SeX9CQiIiIiKgN6J/7btm1DcHAwzMzMMGXKFAwZMgQmJppTBvLy8vD3339j9uzZCA4Oxvbt29GvX7+SxkxERERERMWk9+TeHTt2QJIkfPnllxg2bFiBpB8ATExMMHToUHz11VcQQmDbtm0liZWIiIiIiPSkd+J/5coVmJqaYuDAgc8t+95778HMzAyXL1/WtzkiIiIiIioBvRP/9PR02NrawsrK6rllraysYGtri4yMDH2bIyIiIiKiEtA78Xd0dERaWhqSk5OfWzY5ORmPHz9G5cqV9W2OiIiIiIhKQO/Ev3nz5hBCYNGiRc8tu3DhQggh0LJlS32bIyIiIiKiEtA78R86dCiEENi4cSO++OIL3L59u0CZ27dvY/Lkydi4cSMkScLQoUNLFCwREREREelH7+U827Rpg5EjR2LNmjXYtWsXdu3ahdq1a6NGjRqQJAnx8fGIj4+Xy/v6+sLb29sgQRMRERERUfGU6Mm9U6dORZ06dbBo0SKkpqYiLi4OcXFxGmUqV66MCRMmsLefiIiIiKgMlSjxB4Bhw4bhvffeQ1BQEC5evChP9q1atSqaNm2KDh06wNLSssSBEhERERGR/kqc+AOApaUlunbtiq5duxqiOiIiIiIiMjC9J/cSEREREZHxYOJPRERERFQBFGmoz9SpUwEANWrUwOeff66xrTgkScKsWbOKfRwREREREZWMJIQQzyvk4eEBSZLg5uaGPXv2aGwrwuFyOUmScPny5ZJHbUQiIyMBAM2aNSvjSIiIiIjoZVOcXLNIPf79+vWDJEmoXr16gW1ERERERFT+FanHn/THHn8iIiIiKi3FyTU5uZeIiIiIqALQO/Hftm0b9u7dW+TyBw4cwLZt2/RtjoiIiIiISkDvoT4eHh6oXr06Tpw4UaTyXbt2RXx8PKKiovRpThYcHIxVq1YhPDwcGRkZcHJygo+PD/z8/GBjY1OiugHg2LFj8PPzAwA4Ozvj8OHDJaqPQ32IiIiIqLS8sKE+xf3MUNLpBOvWrYOvry+OHj0KS0tLNGjQALGxsQgICMCAAQOQkpJSovqfPHmC7777rkR1EBERERGVRy9sjH96ejrMzc31Pv7ixYvyMwBmzJiBo0ePYuvWrQgMDISnpydiYmIwbdq0EsU4d+5c3L9/H927dy9RPURERERE5c0LSfzDwsKQmpqKGjVq6F3H0qVLkZeXh759+2LQoEHyUqI1a9bEvHnzYGJiggMHDuDKlSt61R8aGop//vkHb7zxBrp166Z3nERERERE5VGR1vEHgK1bt2Lr1q0a21JTUzFixAidxwghkJaWhujoaEiShPbt2+sVZHp6ujyXYODAgQX2u7q6om3btjh16hT27dsHDw+PYtWfnZ2Nb7/9FjY2Npg2bRqCgoL0ipOIiIiIqLwqcuIfGxuLM2fOaGxTqVQFtuni5uaG8ePHFy+6/+/y5ctQKpWwsLCAl5eX1jKtWrXCqVOnEB4eXuz6lyxZgps3b2LatGmoWbOmXjESEREREZVnRU78vb29NRL3xYsXw8bGBqNGjdJ5jCRJsLOzg0KhgLe3N0xNTfUK8ubNmwAAJycnnfME6tatq1G2qC5fvoyVK1fCy8sLQ4YM0Ss+IiIiIqLyrliJv7e3t/yzOvHXtxe/OFJTUwEADg4OOsuo96nLFkVubi6++eYbAMDMmTNhYlI6Ux6EEMjIyCiVuomIiIio4hJCyHNfn6fIif+zDh06hPj4eGRnZ8PS0lLfaookOzsbAApdFcjCwkKjbFGsXLkSly5dwpgxY4o9L6A4VCoVLl++XGr1ExEREVHFpc6Dn0fvxL9bt24wMTHBkSNHSn1cvPqDhUql0llGqVRqlH2eW7duYfHixXBxcSn1by3Mzc3RsGHDUm2DiIiIiCqe6OjoIpfVO/G3sbGBubn5C5kMW5RhPEUZDpTfd999h+zsbHz//fewtrYueZCFkCTJIE8VJiIiIiLKr6jDfIASJP7Ozs64ffs2cnNz9Z60W1Surq4AgLi4OKhUKq1Dfu7cuaNR9nkuXboESZIwZcqUAvuysrIAAPfv30eHDh0AAIsWLULLli31iJ6IiIiIqOzpPZu1e/fuUKlUOHr0qAHD0a5JkyYwNzeHUqlERESE1jLnzp0DADRv3rzI9QohkJSUVODfkydPAAB5eXnytsKGGRERERERlXd69/iPHTsWe/bswffffw9nZ+dSnRxra2uLjh074siRI9i0aRNatWqlsf/WrVsIDg4GAPj4+BSpztDQUJ37tmzZgqlTp8LZ2RmHDx/WP3AiIiIionJC78T/wIEDeP/997Fo0SIMGDAAHTt2RMuWLVG1atVCh/7069dPr/b8/f1x9OhRbN++HS1btsTAgQMhSRIePHiAiRMnIi8vD927dy/wAWTw4MFISEjAiBEj4Ovrq1fbRERERETGTu/Ef8qUKfJkAiEEjh07hmPHjhV6jCRJeif+Xl5emDJlCubMmYPp06cjICAAjo6OiI6OhlKphJubG2bOnFnguISEBMTGxiItLU2vdomIiIiIXgZ6J/5OTk6GjKNIfH194e7ujj///BMRERFITk6Gk5MTfHx84OfnB1tb2xceExERERGRMZCEEKKsg3iZRUZGAgCaNWtWxpEQERER0cumOLmm3qv6EBERERGR8WDiT0RERERUAeg9xv9Z169fx8WLF5GcnAxJklClShU0a9YMDRs2NFQTRERERESkpxIn/idOnMAvv/yC69eva92vUCjwxRdfoGPHjiVtioiIiIiI9FSioT5//fUX/Pz8cP36dQghYGJigqpVq8pr+QshcPXqVYwdOxbr1683VMxERERERFRMevf4X7lyBbNmzYIQAq+88grGjRuHtm3bwsLCAgCgVCoRHByMpUuX4sKFC5g1axZatWpVqk/4JSIiIiIi7fTu8V+1ahXy8vLQpUsXbNiwAZ06dZKTfgCwsLBAp06dsH79enTp0gW5ublYs2aNQYImIiIiIqLi0TvxP3v2LCRJwjfffANTU1Od5UxNTfH1118DAEJCQvRtjoiIiIiISkDvxD8pKQn29vZwcXF5btk6deqgUqVKSEpK0rc5IiIiIiIqAb0TfysrK2RmZiInJ+e5ZXNycpCZmQkrKyt9myMiIiIiohLQO/GvX78+cnJysH///ueW3bdvH1QqFerXr69vc0REREREVAJ6J/4+Pj4QQuCHH37AqVOndJY7deoUfvjhB0iShF69eunbHBERERERlYAkhBD6HKhUKvHuu+/i+vXrkCQJzZs3R/v27VGzZk1IkoT79+/j9OnTuHDhAoQQaNSoETZv3qyx8k9FEBkZCQBo1qxZGUdCRERERC+b4uSaeq/jb2FhgRUrVmDChAmIiIhAWFgYLly4oFFG/ZnilVdewcKFCytc0k9EREREVF7onfgDQM2aNfHPP/9g37592Lt3Ly5evIjk5GQAQNWqVdG0aVP07t0bPXv2hIlJiR4STEREREREJVCixB8ATExM0Lt3b/Tu3dsQ8RARERERUSlgNzwRERERUQVQ4h7//GJjYzWG+jg7OxuyeiIiIiIi0lOJE/+EhAQsX74ce/bsQUpKisY+BwcH9OnTB2PHjkWtWrVK2hQREREREempREN9Tp48iTfffBMbNmzAo0ePIITQ+JeSkoINGzbgzTffxPHjxw0VMxERERERFZPePf43btzAuHHjkJ2dDQcHB7z//vto27YtatasCeDpNwEhISHYuHEjHj16hAkTJmDr1q18ei8RERERURnQO/FfunQpsrOz4e7ujlWrVqFKlSoa++vXr4927dphxIgR+OCDD3Dt2jUEBATgl19+KXHQRERERERUPHoP9QkODoYkSfjxxx8LJP35ValSBTNnzoQQAqdPn9a3OSIiIiIiKgG9E//Hjx/DxsamSI8H9vLygo2NDR4/fqxvc0REREREVAJ6J/7Vq1dHXl5ekcsLIVC9enV9myMiIiIiohLQO/Hv3LkzsrKyijR85/Tp08jMzESXLl30bY6IiIiIiEpA78Tf398fVatWxTfffIObN2/qLHfr1i18++23qF69Oj7++GN9myMiIiIiohLQe1WfmzdvYuLEiZg9ezb69u0LHx8feTlPSZIQHx+PkJAQ7Nu3D5aWlpgyZQpu3LiBGzduFKjr1VdfLdFJEBERERFR4SQhhNDnQA8PD0iSVPIAJAlRUVElrqe8ioyMBIAiTYImIiIiIiqO4uSaevf4A08n7JaUIeogIiIiIqLC6Z34X7lyxZBxEBERERFRKdJ7ci8RERERERkPJv5ERERERBVAicb45/fkyRNERUUhOTkZkiShSpUqaNKkCezs7AzVBBERERER6anEif/Vq1cxf/58nDhxosCTfE1MTNC5c2d8+umncHd3L2lTRERERESkpxIN9Tlw4AAGDhyIY8eOITc3F0IIjX+5ubk4cuQI3nvvPRw8eNBQMRMRERERUTHp3eN/9+5dTJ48GUqlEs7OzhgzZgw6dOiAWrVqAQDi4+MRFBSElStX4t69e5g8eTJ27dqFOnXqGCx4IiIiIiIqGr17/FeuXAmlUonmzZtjx44dGDx4MOrWrQsLCwtYWFigbt26GDx4MHbs2IHmzZtDqVRi1apVhoydiIiIiIiKSO/E//Tp05AkCT/88ANsbW11lrOxscEPP/wAIQSCgoL0bY6IiIiIiEpA78Q/Pj4etra2RZq06+7uDjs7O8THx+vbHBERERERlYDeib+ZmRlycnKKVFYIAZVKBTMzg60eSkRERERExaB34l+vXj1kZ2fjxIkTzy174sQJZGdno169evo2R0REREREJaB34t+1a1cIITBt2jTExMToLBcdHY3p06dDkiR069ZN3+aIiIiIiKgE9B574+vri3///Rfx8fHo168ffHx80K5dO9SsWROSJOH+/fs4ffo09u/fD5VKhVq1amHkyJGGjJ2IiIiIiIpIEkIIfQ++fv06PvroI8TGxkKSJK1lhBBwcXFBQEAAGjVqpHegxioyMhIA0KxZszKOhIiIiIheNsXJNUs027ZRo0bYsWMH1q9fj3379uHq1avIzc0FAJiamsLd3R29e/fG4MGDC13yk4iIiIiISleJevyfpVKpkJqaCgBwcHCAubm5oao2WuzxJyIiIqLSUpxcs0STe7t3747bt2/L28zNzVGtWjVUq1aNST8RERERUTmi91CfxMREmJubc4lOIiIiIiIjoHePf40aNWDAUUJERERERFSK9E7827dvj6ysLERFRRkyHiIiIiIiKgV6J/5+fn6wtrbGjBkzkJmZaciYiIiIiIjIwPQe429qaooZM2Zg+vTpePPNNzF8+HC0aNECVapUgampqc7jnJyc9G2SiIiIiIj0pHfi361bN/n/mZmZ+Pnnn597jCRJHBpERERERFQG9E789ZnYy8nARERERERlQ+/E/9ChQ4aMg4iIiIiISpHeib+zs7Mh4yAiIiIiolKkV+Kfl5eHGzdu4MmTJ3BwcICbm5uh4yIiIiIiIgMqVuKvUqnw22+/YePGjUhPT5e3Ozg4YOTIkfjoo48gSZLBgyQiIiIiopIpVuI/btw4nDhxosAk3ZSUFCxcuBC3b9/GnDlzDBogERERERGVXJET/7179+L48eMAgHr16sHHxwc1a9ZEbGwsdu7ciQcPHmD79u1455134O3tXWoBExERERFR8RU58d+xYwcAoEOHDggICICFhYW87+OPP8aIESNw+fJl7Ny5k4k/EREREVE5Y1LUglFRUZAkCV9//bVG0g8AdnZ2+OKLLyCE4AO6iIiIiIjKoSIn/o8ePYKlpSUaNGigdX/Tpk3lckREREREVL4UOfFXKpWws7PTud/e3l4uR0RERERE5UuRE38iIiIiIjJeTPyJiIiIiCqAYq3jn5ycjMaNG+vcL0lSoWUkSeLkXyIiIiKiMlCsxP/ZB3cREREREZFxKHLiP378+NKMg4iIiIiIShETfyIiIiKiCoCTe4mIiIiIKgAm/kREREREFUCxJveWB8HBwVi1ahXCw8ORkZEBJycn+Pj4wM/PDzY2NkWuRwiBsLAwHD58GOfOncONGzfw5MkT2Nvbo0mTJujXrx/eeustSJJUimdDRERERPRiSMKIlupZt24dfvrpJwghUKtWLVSpUgXR0dFQKpVo0KABNmzYgMqVKxeprtOnT8PX11f+uU6dOqhUqRJiY2ORkpICAHj99dexaNEiWFhY6B1zZGQkAKBZs2Z610FEREREpE1xck2jGepz8eJFzJo1CwAwY8YMHD16FFu3bkVgYCA8PT0RExODadOmFbk+IQRcXFzwzTff4NSpUwgMDMSWLVsQEhKCn3/+GRYWFjh69CgWLlxYWqdERERERPTCGE3iv3TpUuTl5aFv374YNGiQPASnZs2amDdvHkxMTHDgwAFcuXKlSPV5eXlh3759GDFiBKpWraqxr1+/fhg3bhwA4N9//0VeXp5hT4aIiIiI6AUzisQ/PT0dJ06cAAAMHDiwwH5XV1e0bdsWALBv374i1WlnZwdzc3Od+zt16gQASElJwcOHD4sbMhERERFRuWIUif/ly5ehVCphYWEBLy8vrWVatWoFAAgPDzdIm9nZ2fL/raysDFInEREREVFZMYrE/+bNmwAAJycnnb30devW1ShbUrt37wYAeHh4wM7OziB1EhERERGVFaNYzjM1NRUA4ODgoLOMep+6bElcunQJ//zzDwDAz8+vxPUJIZCRkVHieoiIiIiI8hNCFHn5eaNI/NXDbgobk69ecjP/EB19JCUlYfz48VCpVHjjjTfQp0+fEtUHACqVCpcvXy5xPUREREREzyrq0vNGkfhbWloCeJpA66JUKjXK6iMtLQ1jx45FXFwcPD09MWfOHL3rys/c3BwNGzY0SF1ERERERGrR0dFFLmsUiX9RhvEUZThQYdLT0zFmzBhERUWhUaNGWLlypcHG9kuSVKynChMRERERFUVRh/kARjK519XVFQAQFxens9f/zp07GmWLIzMzEx9++CEuXLgAV1dXrFq1Co6OjvqGS0RERERU7hhF4t+kSROYm5tDqVQiIiJCa5lz584BAJo3b16surOzs+Hv74+zZ8/C2dkZa9asQfXq1UsaMhERERFRuWIUib+trS06duwIANi0aVOB/bdu3UJwcDAAwMfHp8j1qlQqTJgwAadOnUKtWrWwZs0a1KpVyzBBExERERGVI0aR+AOAv78/JEnC9u3bsXHjRgghAAAPHjzAxIkTkZeXh+7du8PDw0PjuMGDB6Nr165YvXq1xvbc3FxMnjwZx44dQ/Xq1bFmzRrUqVPnRZ0OEREREdELZRSTewHAy8sLU6ZMwZw5czB9+nQEBATA0dER0dHRUCqVcHNzw8yZMwscl5CQgNjYWKSlpWls37t3L/bt2wfg6RJIU6dO1dn2tGnT0KRJE8OeEBERERHRC2Q0iT8A+Pr6wt3dHX/++SciIiKQnJwMJycn+Pj4wM/PD7a2tkWuS738JwDExsYiNjZWZ9lnPzQQERERERkbSajHzFCpiIyMBAA0a9asjCMhIiIiopdNcXJNoxnjT0RERERE+mPiT0RERERUATDxJyIiIiKqAJj4ExERERFVAEz8iYiIiIgqACb+REREREQVABN/IiIiIqIKgIk/EREREVEFwMSfiIiIiKgCYOJPRERERFQBMPEnIiIiIqoAmPgTEREREVUATPyJiIiIiCoAJv5ERERERBUAE38iIiIiogqAiT8RERERUQXAxJ+IiIiIqAJg4k9EREREVAEw8SciIiIiqgCY+BMRERERVQBM/ImIiIiIKgAm/kREREREFQATfyIiIiKiCoCJPxERERFRBcDEn4iIiIioAmDiT0RERERUATDxJyIiIiKqAJj4ExERERFVAEz8iYiIiIgqACb+REREREQVABN/IiIiIqIKgIk/EREREVEFwMSfiIiIiKgCYOJPRERERFQBMPEnIiIiIqoAmPgTEREREVUATPyJqEyJvLyyDqFUvKznRURExsusrAMgoopNMjHBzV1/IDP5flmHYjDWVWvD7c2xZR0GERGRBib+RFTmMpPvIzPhTlmHQURE9FLjUB8iIiIiogqAiT8RERERUQXAxJ+IiIiIqAJg4k9EREREVAEw8SciIiIio/OyLptcmufFVX2IiIiIyOhwOejiY+JPREREREaJy0EXD4f6EBERERFVAEz8iYiIiIgqACb+REREREQVABN/IiIiIqIKgIk/EREREVEFwMSfiIiIiKgCYOJPRERERFQBMPEnIiIiIqoAmPgTEREREVUATPyJiIiIiCoAJv5ERERERBUAE38iIiIiogqAiT8RERERUQXAxJ+IiIiIqAJg4k9ERPSSycsTZR2Cwb2M50T0opmVdQBERERkWCYmEpb8HYTYB6llHYpBONdwwLjBHco6DCKjx8SfiIjoJRT7IBW3Yh+VdRhEVI5wqA8RERERUQXAxJ+IiIiIqAJg4k8vlMjLK+sQDO5lPCciIiJ6+XCMP71QkokJbu76A5nJ98s6FIOwrlobbm+OLeswiIheag72VhB5eZBMXq7+ypfxnKh8Y+JPL1xm8n1kJtwp6zCIiMhI2FpZsOOIyACY+BMREZFRYMeR/vLyBExMpLIOg8oYE38iIip3XsYhEC/jOZHxeNme7fCKuxMG+TQv6zCMDhN/IiIqdzisg8jwXqZnOzhVr1TWIRglJv5ERoRf1VJFwmEdRESGZXSJf3BwMFatWoXw8HBkZGTAyckJPj4+8PPzg42NTbmpk6g08KtaIiIi0pdRJf7r1q3DTz/9BCEEatWqhdq1ayM6OhoBAQE4cOAANmzYgMqVK5d5nUSliV/VEhERkT6MZpbRxYsXMWvWLADAjBkzcPToUWzduhWBgYHw9PRETEwMpk2bVuZ1EhERERGVR0aT+C9duhR5eXno27cvBg0aBEl6Os65Zs2amDdvHkxMTHDgwAFcuXKlTOskIiIiIiqPjCLxT09Px4kTJwAAAwcOLLDf1dUVbdu2BQDs27evzOo0tLw8USbtEhEREdHLxyjG+F++fBlKpRIWFhbw8vLSWqZVq1Y4deoUwsPDy6xOQ+NETiIiIiIyFKNI/G/evAkAcHJygrm5udYydevW1ShbFnWWBk7kJCIiIiJDMIrEPzX1aY+3g4ODzjLqfeqyZVGnNiqVCkIIREREFPtYSZLQx7s6cvOq6t1+eWJhbobIyEjkeHSHpMgt63AMItvEFJGRkRDixQzL4j1hHF70ffEykiTppbov+F5RMi/jewXviZJ5Ge8JQL/7QqVSyfNUn8coEv/s7GwA0NkzDwAWFhYaZcuiTm3UL0RRX5BnVbKz0rvt8srMxr6sQzA4fV9fffCeMB4v8r54Gb2M9wXfK0qG90TJ8J4wHsW5LyRJerkSf0tLSwBPP9HoolQqNcqWRZ3atGjRQu9jiYiIiIgMxShW9SnKkJuiDN0p7TqJiIiIiMoro0j8XV1dAQBxcXE6e+jv3LmjUbYs6iQiIiIiKq+MIvFv0qQJzM3NoVQqdU6SPXfuHACgefPmZVYnEREREVF5ZRSJv62tLTp27AgA2LRpU4H9t27dQnBwMADAx8enzOokIiIiIiqvjCLxBwB/f39IkoTt27dj48aN8jJHDx48wMSJE5GXl4fu3bvDw8ND47jBgweja9euWL16tcHqJCIiIiIyNpIwooWmV69ejTlz5kAIgdq1a8PR0RHR0dFQKpVwc3PDhg0bUKVKFY1junbtitjYWIwfPx4TJkwwSJ1ERERERMbGKJbzVPP19YW7uzv+/PNPREREIDk5GU5OTvDx8YGfnx9sbW3LRZ1EREREROWNUfX4ExERERGRfoxmjD8REREREemPiT8RERERUQXAxJ+IiIiIqAJg4k/FMmXKFLi7u2PLli1lHQqVsq5du8Ld3R0hISFlHUqh1PfkokWLyjoUKkX37t2Du7s7unbt+kLbDQkJgbu7O4YPH/5C2yWqKIYPH24Uf2teFka1qg8REZGh3Lt3D1u3boW9vT18fX3LOhwiKkOrV69GWloa+vfvDxcXl7IOp9Qw8ScionLP3Nwcbm5uqFmzpsHqjI2NxeLFi+Hs7Kwz8be2toabmxtq165tsHaJ6P/Url0bbm5usLa2LtM41q5di9jYWHh7ezPxJyIiKks1a9bEvn37Xni7Xl5eZdIuUUXxv//9r6xDqFA4xp+IiIiIqAJg4k8FJCYmYtq0aejYsSOaNWuGHj164LfffkNWVpbW8lu2bJEnv+Xk5GDlypV4++230bx5c7Ru3Vou5+7uDnd3d53tLlq0qNBJmseOHcPw4cPRsmVLtGrVCkOHDsWhQ4eKVDeVzLVr1/DJJ5+gXbt28PLyQt++fbF+/Xrk5eVplMvNzcWhQ4fwzTff4K233oK3tzeaNWuGbt26Ydq0abhz547W+tUTKNUTN/ft24f3338fLVq0QMuWLeHr64tz584VO+7ExET07dsX7u7u+Oijj3Tew+VJ/knVRb3uz16/f//9F++99x5atmwJd3d3PH78WC776NEjzJ8/H2+99RZatGiB5s2bo2/fvvj999+RmZmpNabIyEh8/vnn6NSpE5o2bYpWrVrhjTfewCeffILdu3drPebhw4dYsGAB+vfvj5YtW+KVV15Bjx49MHnyZJw8eVKjbP4J2o8ePcKPP/6Irl27omnTpvD39wdQ+ORefa7Z8OHDMWLECABPh/yo30PU/+7du6dxbXVN7k1OTsbPP/8MHx8feHl5oWXLlnjvvfewbt06KJVKrcfkbyMqKgr+/v5o06YNvLy80K9fP/z3339ajysr+a9vdHQ0Pv30U7Rr1w7NmzfHu+++i8DAQLlsQkICpk+fjs6dO6NZs2bo1asX/vrrL511x8XF4ccff0TPnj3xyiuvyNdv/fr1yMnJKVD+2Xt927ZtGDBgAFq0aIF27dph4sSJ8msHACdOnMDIkSPx6quvokWLFhg1ahSioqJ0xqNUKrFmzRr598fLywu9evXC//73Pzx8+FCfy/dSKM33JW2Te4cOHQp3d3ds2LBBZ0zx8fFo3LgxPD09NV6ba9euYfHixRg8eLD8ntWmTRuMHj0aBw8eLFCPOoeJjY0FAIwYMULjveDZnEQIgZ07d2LUqFFo06YNmjZtik6dOuGrr75CTExMMa/si8ehPqTh7t27GDJkCB48eAAzMzM0atQIWVlZCAgIwKlTp1CnTh2dxwohMG7cOBw9ehQuLi6oX78+kpKSDBLXmjVrMGvWLACAo6MjXFxccPPmTfj7++Pbb781SBukXXh4OJYsWQJJklC/fn2kpKTgypUrmDFjBs6fP4+5c+dCkiQATxNtf39/SJKEqlWrwsnJCbm5uYiNjcWmTZuwZ88erFq1Cl5eXjrbW7RoERYvXowaNWrAzc0NN2/exOnTpxEaGoq1a9eiZcuWRYr7zp07GDVqFO7evYt33nkHM2fOhJmZ8bzlFee65/f999/j77//Rs2aNeHm5qbxYSsyMhIffvghkpOTYW5uDhcXFwghcO3aNVy5cgX79u3D6tWr4eDgIB9z7Ngx+Pv7IycnB7a2tqhfvz6Ap3909+/fj9u3b6NPnz4aMVy4cAEff/wxHj58CEmS5PG79+7dw86dO3H9+nV07NixQOwPHz7Eu+++i/v376Nhw4Zwc3Mr1mtWnGumUCiQkpKCa9euwcLCAk2bNtWoy9LS8rntXb16FaNGjUJSUhLMzc3RqFEjZGZmIiIiAhEREdi7dy+WL18OOzs7rcefOHECs2bNgqWlJerWrYv4+HhcvnwZ33zzDVJTUzF69Ogin/uLEBkZiSVLlsDExAT16tVDbGwsLl68iPHjx2PevHnw9PTEsGHD8PjxYzRo0AC5ubm4ceMGZs6cifT0dHz44Yca9R07dgyfffYZMjIyYGVlhbp16yI9PR2RkZGIiIjA4cOHERAQAAsLC63x/PLLL1ixYgVcXFxQp04d3LhxA7t370ZYWBi2bNmCPXv2YObMmahWrRpcXFxw48YNBAUF4cKFC9i8eTPc3Nw06ktLS8OYMWNw4cIFAJDv2+vXr2PlypXYsWMHVq1ahUaNGpXK9TUGpfG+pE3fvn0RGhqKHTt2YMiQIVrL7NixA3l5eXjttddQpUoVefusWbNw+vRp2NnZoXr16qhevToSExNx8uRJnDx5En5+fpg0aZJcvmrVqmjZsiUuXrwIpVIJhUKh8Tubf35PVlYWPv30Uxw9ehQAUL16dTRs2BC3b9/Gtm3bsG/fPixcuBCdO3cu0vUsE4Ion0GDBgmFQiHeffddERcXJ28PDw8X7dq1E56enkKhUIjNmzfL+zZv3iwUCoVo3LixaNOmjTh79qy8LzMzU/6/QqEQCoVCZ9sLFy4UCoVCLFy4UGP75cuXRZMmTYRCoRBLliwROTk5QgghcnNzxR9//CHHVFjdVHxdunQRCoVCeHp6ivHjx4vHjx/L+/bv3y+aNm0qFAqF2Lhxo7z98ePH4r///hPJyckadWVnZ4v169eLxo0bi169eom8vDyN/cHBwXJbzZs3F/v27ZP3ZWZmivHjxwuFQiHef//9AnF+9dVXBe6bqKgo0b59e6FQKMScOXNKfC1eJH2uu/r6NW7cWHh5eYn9+/fL+7Kzs0Vubq5ITk4WHTp0EAqFQsyaNUukpaXJZe7cuSMGDhwoFAqFmDRpkkY8b7/9tlAoFGLu3LkiOztbY9/169fFP//8o7EtISFBtGnTRigUCuHn56fxPiLE09/nVatWaWxTv4aNGzcWAwYMEPfu3ZP3qd9D7t69KxQKhejSpYtBrln+66atzmfLDBs2TGN7dna26NGjh1AoFGLEiBEiMTFR3hcRESE6duwoFAqFmDJlSoE61e9Xnp6e4rffftO4rsuXLxcKhUK88sorGq9RWcp/fWfOnCmysrKEEELk5OSIr7/+WigUCvH666+L9957T3zyySca13/RokVCoVAILy8vje0xMTHilVdeER4eHuL333/XuAZRUVHytZ03b55GLOrXo0mTJqJly5bi2LFj8r67d+/Ksfr7+4tXXnlFbN26Vd7/8OFD0b9/f6FQKMTEiRMLnOcXX3whFAqF6Ny5s7h48aK8/cGDB2Lo0KFCoVCInj17Fvg9qAhK631JCCGGDRsmFAqFCA4OlvenpqbKdd65c0drTG+++aZQKBRi586dGtv37t0roqKiCpS/ePGifF+FhYXpPMf8cTxr6tSpQqFQiP79+2u0oVQqxfz584VCoRCvvvpqgb+B5QmH+pDszJkzCAsLg6mpKebNm6fxKdfLywvffvstVCqVzuNzc3Px/fffawzvsbKyKnFcq1atQk5ODt544w34+/vD1NQUAGBiYoIxY8agZ8+eJW6DdLO3t8cvv/wCe3t7eVuPHj3k3sjly5dDCCGXfffddzV6XwDAwsICQ4YMQe/evRETE4PIyEitbalUKnz88ccar6mVlRWmT58Oc3NznD9/XmPYijZnzpzBsGHDkJycjK+++gpfffWVXudd1opz3dVyc3PxySefoEePHvI2CwsLmJiY4M8//0RiYiLeeustTJ06VaNHq06dOliwYAFsbGywe/duxMfHy/tu3LgBAPDz8yvQ89qwYUMMGjRIY9uKFSvw6NEjeHp6YvHixQVWw/Hw8NC5go6pqSkWLVoEZ2dneVtx3kP0uWb62r17N27dugUbGxssWLAA1apVk/c1a9YMM2bMAPB0KIp6CMGz2rZti08//VTjuo4dOxbu7u7IzMxEcHCwQWI1lPr16+Prr7+Wvw0xNTXFl19+CUtLS8TFxSEuLg6zZ8/WuP4fffQRatSogaysLI2hHIsWLUJmZiY+/PDDAvdW48aNMW/ePEiShL/++gvZ2dkFYsnJycG4cePQqVMneZuLiwvGjBkDAAgMDMSAAQPQr18/eb+joyM+/fRTAMDx48c16rt79y527twJAPjxxx/h6ekp76tevToWLFgAa2tr3Lx5E3v37i32tXtZGPp9SZdKlSqhS5cuAIDt27cX2H/lyhVcu3YNtra26Natm8Y+Hx8fNG7cuMAxnp6e+O677wA8/b0srpiYGGzZsgWOjo74/fffNdowNzfHZ599hm7duiE1NRX//vtvset/UZj4k0z9RtipUyfUrVu3wP6ePXuievXqOo+3s7PDG2+8YfC41OOBBwwYoHX/e++9Z/A26f8MGDBAa/KlHvN89+5d3Lx5U2NfeHg45s6di48//hjDhw/H4MGDMXjwYISGhgIALl26pLO9999/v8C26tWry8ng3bt3dR578OBBjBkzBllZWZgzZw5GjRr1/BMsp/S57gDQv39/rfXt378fgPbrCwC1atVC06ZNkZeXh7Nnz8rb1Ym7Oil6HvUY2lGjRsHc3LxIx6i1b98etWrVKtYx+el7zfShfr/s27cvKleuXGB/ly5d4Obmhry8vAJzGtR0vRbNmzeX4y1P3n333QLJmoODg/y72adPH9jY2GjsNzMzk+dfqYd3KJVKHD58GIDua+Dp6QknJyc8efJE5/uFtvf+/Am7tr8Z6v2PHz/Go0eP5O0nT55EXl4eGjRooHUYWtWqVfH2228DKPihoSIx9PtSYdTXW9t7j/rDQI8ePbQuA5qUlITVq1dj0qRJ8PX1lf8G/frrrwBQ6DwPXfbv3w8hBLp166YzF1LnQOX5YWTGM+CVSp26Z69BgwZa95uamsLNzQ2JiYla97u6usq98YaSlpYmzxPw8PDQWkbbJ3syHF33Q9WqVeHo6IhHjx7h5s2bqF+/PnJycvD1119r7aHJLyUlRet2R0dHVKpUSeu+atWq4datW8jIyNC6/9ChQwgICIC5uTkWL14s9xYZq+JcdzVHR8cC37YAQEZGhpx0/e9//9P5e3rr1i0A0OjxHzVqFL777jv88MMPWL16NTp27IjmzZujXbt2Bf74PXnyBHFxcQD+L3ktjvznog99rpm+1MlNYeO9FQoFbt68Kb+3PqtevXo64wWA9PT0EkZpWIXFe+PGDa0dRur9AOTf3du3byMrKwsmJib4/PPPdbanfp/Ifz+qOTo6avQ6q+W//7XFo45FHY+joyOAor+eAHS+nhWBId+Xnqdz586oXLkybt26hYiICHluWF5enryogPrDQX779+/HlClTdP6tAHT/DSrMlStXAACnT5/G4MGDtZZJS0sDoP2eLS+Y+JNM/UuS/43xWfm/zn7Wsz09hpD/D5+tra3WMromzpFhPO9+ePTokfw6/fnnn9i+fTscHR0xadIktGnTBjVq1JB7iBYsWIClS5dqXa0DKPweUvc0PrtyhNq9e/eQm5uLKlWqFJi0Z4yKc93VdF0/9R8j/L/27j+oqjKP4/gb7kUSlCADSxEwFfC34q9S3Ez74a+MWCeZsRyV0c2dddS1YbBZnWnaNHOSGa21cGAdjWR3x7VIVPox5i4pYojCIpmSIwqCiiYhIr/cP5hz4uq9yC8NvZ/XP8Y5557z9Nx7n/s9z/k+z0PD05g7aTz7UVRUFF27diUxMZG8vDySkpJISkrC1dWV8ePHs2LFCrO+G5fH0Q1cU9rahrSmzlrLOE9TbaKxz9E1HS1YZHzW2ystqb04Kq8xmPNO+43/HyNdr76+niNHjtzxuvZm43L0WWk8sNTeMY33N67f9ng/nUF7tkt34ubmxpQpU9i+fTspKSlm4H/o0CFKS0vx8/PjySeftHlNUVERb7zxBtXV1cyePZuIiAiCgoLw9PTEYrFw9uxZnn32WYe/QU0x2tGioiKH6XuGjjyDnAJ/MRlfzrKyMofHtMcsPfX19XZz++zdnTduMCorK+328DhzI3wvNOfzYNyU7dy5E4C1a9fandWgNb0szfXqq6+as8a89tprbNu2jaCgoLt2vbutJfV+J42/RwcPHmxx79u0adOYNm0aV65cISsri4yMDFJTU9m/fz8nTpzgiy++wMvLy6Y85eXlrQr+26I96+xOjPM01Sa29zUfFEZ9eHh4kJ2d/RuXpoHez+a5l98xaOjR3759O7t37yY2Nhar1UpKSgoA06dPvy2WSE1Npbq6msmTJ7Nq1arbztc4vauljHY0Jiamw8241RLK8ReT8WjO0Ty09fX1ZipAaxhfGkcNq71ze3l5mT0MxmO2WznaLu3D0efh8uXLZiNq9PgaOckjRoyw+5q7+SNvsVh47733mDFjBhcuXOC1115r0+f1t9aSer+Trl27mrnzP/74Y6vL5OPjw7PPPstf/vIX9uzZg6+vLyUlJWa+dpcuXcx8b2NKxHuppXVmb9rB5jLO01R9njx5Emh7CtODJjAwEDc3NyorKzvMOAbj/TTeM3uM99qZ38/2bJeaIywsjICAAMrKyvjuu++4ceMGX375JdAwvuZWxhoOjScZaawtv0FGGlhb2tCOQIG/mMaPHw80DFyy1xjv3buXCxcutPr8Rn6ovVSDs2fPOhwAZwy02rFjh939HXn0/INgx44ddmfV2LZtG9Awk4bR0BuP+u19Tg4cOEB+fv5dLGlDisTatWuJiIi474P/ltR7c0yePBmALVu2tEv5vL296du3L4DNuB9jcFtiYmKrHqe3RUvrzEhBa81jeWM2mZSUFLtPsvbv389PP/2Eq6sr48aNa/H5H2SdO3dmwoQJQPt9HtsqPDwcV1dXCgoK7P4WXb582expNn4rnVF7t0vNYeTxp6Sk8M0331BRUUFwcLDdcX/Gd9reb1BVVRVJSUkOr3On9sBoQ9PS0syxTPcjBf5iGjNmDEOHDqWuro7ly5fbDE7Jzc1l9erVLZ6lozGjoY+Li7PJjyssLGTp0qUO81nnzZuHxWIhLS2Njz/+mLq6OqDhCcSWLVucemq1e6G8vJyYmBgqKirMbV9//TUJCQlAw/SDRs+p0dP/zjvvcPXqVfP4jIwM/vznPzdrUaS2cnV1Zc2aNfd98N+Sem+OBQsW4Ovry759+4iJiaG0tNRmf3V1Nenp6SxZssT8jlVUVLBkyRIOHjx4WxD/7bffmvnZjRe/io6OxsfHh7y8PP70pz9x/vx5m9f98MMPdy3Ya2md+fv7Aw3pC0319NozdepUAgICqKysZNmyZTYpEHl5eWaawUsvvWReR361dOlSPDw8+OSTT1i7dq1NewFw/fp1vvrqK1asWHFPytOrVy9zIbqVK1fadFJcunSJpUuXcv36dYKCgpg6deo9KVNH1N7tUnMYgf8333xDcnKyzbZbGT39n376qc1Tx7KyMhYvXtzkoFtjMLijGXlCQ0OJjIzk+vXrzJ071+5xBQUFbNiwwWY1645GOf5iY926dcyePZtjx44xadIkgoODqaqq4qeffmLw4MGMHj3aHE3fUvPnzyclJYWCggJeeOEFc6q7goIC+vXrx+zZs+0GBP379ycmJoY1a9awfv16tmzZgr+/P0VFRZSVlfHmm2+yevXqJucEltZbvHgxH374IeHh4fTp04crV66YN25Tpkyxmcd96dKlZGRkkJ6ezoQJEwgKCqK8vJxz584RHBxMeHg4iYmJd73MRvDv4uLCzp0778uc/5bUe3M8+uijxMfHs2jRIj7//HO++OILAgMDefjhh/nll18oLCw01+kwpryrr69n79697N2711xZ1d3dndLSUrNHLTIykqeeesq8jp+fH5s2bWLRokXs27ePb7/9lieeeIKHHnqIoqIifv755ybn8m+LltbZI488Qnh4OOnp6URGRtKvXz8zP3n9+vVNTl/s7u7Oxo0bmT9/PgcOHODpp582Vzo3Zn0ZPny4VhZ3oG/fvnzwwQcsXbqUxMREtm7dSu/evfHw8ODq1aucPXuWuro6unfvfs/KtGrVKs6cOUNOTg4RERH06dMHd3d3Tp48SU1NDY8++igbNmxwuJKwM2jvdqk5AgMDGTZsGEePHuXQoUO4urry4osv2j120qRJjBw5ku+//56oqCgCAwPx8PAwb+xXrVrFypUr7b72xRdfZN++fSQkJPD111/j5+eHi4sLL7/8MpGRkUDDCsTXrl0jLS2NOXPm0K1bN3r27EltbS3FxcXm07+//vWv7V4P7UWRktgIDAxkx44dzJw5Ex8fH06dOkVNTQ0LFy5k27ZtbWrwvLy82L59O5GRkTz88MOcPn2aqqoqoqOjSU5ObnJ2nrlz5/Lxxx8zatQoqqqqKCgoIDAwkA8++MCcy1mz+9wdw4YN45///Cfjxo3j3LlzXLx4keDgYFauXGkusmMIDQ1l+/btPPPMM1gsFgoKCrBarSxcuJDk5OS7MvOTI66urqxevZrIyEiz57+95nC/F1pS7801YMAAdu3axfLlyxkyZAhlZWXk5eVRWVnJ4MGD+eMf/8i///1vrNaGPiFPT0/WrVtHZGQk/v7+XLhwgfz8fGprawkPDycuLo41a9bcdp3hw4eTmprKwoUL6devH+fPn+f06dN4e3vz0ksvERsb2+b6sac1dbZu3TpmzZqFr68vP/74I5mZmWRmZtpNZ7hVaGgoKSkpzJs3j549e3Lq1ClKSkoYPHgwK1asYOvWrWqXmjBu3Dj27NnD66+/TnBwMMXFxebna8SIESxfvvyepgJ5eXmRlJTEihUrGDRoEOfPn+fUqVP07NnT7Lgy1iRwVnejXWqOxj38o0aNcrjeh8ViYfPmzcyfP5/HH3+coqIiLly4wDPPPMM//vEPxo4d6/Aa06ZN46233mLgwIFcvHiRw4cPk5mZaZOh4O7uzoYNG9i0aRPPPfccFouF/Px8iouL6d69Oy+//DIffvihwxuTjsDlZkebL0ykhXJzc5k5cyb9+/dv1Wp8Ih3JxIkTKSoqYuvWrYwZM+a3Ls59QXUmcnfpO/bgUI+/3PeMQb+ORvGLiIiIiAJ/uU989tlnfPfddzaLN1VXVxMfH09ycjJWq9Xh0u8iIiIiosG9cp/IyckhKSkJd3d3evXqhbu7O6dPn6ayshIXFxdiY2PNqQVFRERE5HYK/OW+MH36dCorK8nOzqakpIQbN27g7e3N+PHjmTNnjtJ8RERERO5Ag3tFRERERJyAcvxFRERERJyAAn8RERERESegwF9ERERExAko8BcRERERcQIK/EVEREREnIACfxEReeAdOnSIkJAQQkJCfuuiiIj8ZhT4i4g4sV9++YUBAwYQEhJCYmKiw+MKCgrMwHnixIlNnjM6OpqQkBCtpi0i0sEo8BcRcWJdu3alf//+QEOvuCON9xUVFXHu3Dm7x9XW1nLkyBEAxowZ044lFRGRtlLgLyLi5IwA/fvvv6eurs7uMZmZmQD4+vra/H2r3NxcKisrbc4rIiIdgwJ/EREnZwToFRUV5OXl2T3m8OHDQEMaDzh+OmBsd3NzY/jw4e1dVBERaQPrb10AERH5bY0cORKr1UptbS2ZmZkMGTLEZn9BQQGXLl2id+/eTJ06lXfffddhj7+xfejQoXTu3NncXlhYSEJCAgcPHqSkpASr1UpgYCCTJk1i7ty5dOnS5bZzHTp0iDlz5gBw4sQJjh8/TkJCAocPH6asrIywsDC2bdtmU86//e1vZGRkUF5ejp+fHxMmTGDRokV3rINjx46xdetWsrOzuXjxIhaLBR8fH3r27MlTTz3F73//ex577LE7V6aISAemHn8RESfn6enJoEGDAPspPEYv/ujRo+nevTuBgYEUFxdz9uxZm+NqamrIzs4GbNN8du/ezbRp00hOTubMmTNYrVZqamo4fvw4GzduZPr06RQUFDRZxrS0NF555RV27drFtWvXsFgsNvv/85//EBERwa5du7h06RJWq5WLFy/yySefEBER4XBMAsDOnTuZNWsWu3btoqioCACLxUJxcTGHDx9mw4YNHDhwoMnyiYjcDxT4i4hIk3n+xs3A6NGjARg1ahRwe7pPTk7Obfn9eXl5xMTEUF1dTVhYGJ9//jlHjhzh2LFjbNq0CV9fX86fP8/rr7/OtWvXHJYvNjaWsWPHsnv3brKyssjJyeHtt98GoKSkhGXLllFdXU1ISAj/+te/yM7O5ujRo2zevBmLxcK7775r97zXr1/n7bff5ubNm8yYMYOvvvqK3NxcsrKyyM7OZseOHURHR9OtW7cW1aeISEekwF9ERMxA/dq1a7fl+Rv5/UbAb/x769MB4293d3czvz8uLo6amhoCAwNJTEwkNDQUAFdXVyZOnEh8fDxWq5XCwkKSk5Mdlq9v375s2rSJPn36mNuCgoIA+Oijj6ioqMDb25u///3vZqqSq6srv/vd79i8eTPXr1+3e96TJ09y7do1PDw8WLNmDQEBAeY+Dw8PBg0aRExMDE8//bTDsomI3C8U+IuICGFhYbi5uQGQkZFhbj916hSXLl0iKCiI7t27A7/2/N/a42/8PWzYMDp16kR5eTnp6elAw6Dgxjn/hgEDBvDcc88BkJqa6rB80dHRt6X3ANy8eZM9e/YAEBUVZbdnPjg4mBdeeMHuebt27Qo0pCn9/PPPDq8vIvIgUOAvIiJ07tyZwYMHA7Y9+UYwb/TyA/To0YOePXtSUlJCYWEhANXV1Rw9ehSAJ598EmhI87l58yYAY8eOdXjtcePGAQ0DeGtqauweExYWZnf7uXPnzIDduK49jvYFBATwxBNPUFNTwyuvvEJ8fDz5+fkOpzUVEbmfKfAXERHg13SfrKwsamtrgdvz+w239vrn5OSY6TTGeS5fvmwebzwtsMfYV1tby9WrV+0e4yjHvqysrEXXuJXFYiEuLg5/f3+Kiop4//33iYiIYMSIEcybN49PP/3UYZqQiMj9RoG/iIgAvwbslZWV/O9//wN+ze+/NfC/dYCv8W/nzp1vmw60JVxcXOxut5fm09zX3kloaCh79uxh48aNzJo1i+DgYKqqqjhw4ABvvfUWU6ZM4cSJE606t4hIR6J5/EVEBGhIp+nUqRPV1dVkZmbSpUsXysrKCAgIuG0Oe+NGwHgiYPw7YsQIc6zAI488Yh5fUlJiM3C2sdLSUgCsViteXl4tKnPjJwElJSX07t27yWs40qlTJ55//nmef/55AK5cuUJaWhpxcXGcP3+e2NhYdu7c2aKyiYh0NOrxFxERoGE2nmHDhgENPfj28vsNvXr14rHHHqO0tJSTJ0+a+f2N5+8fOHAgrq4NPzMHDx50eF1jjvyQkBDzpqG5/P398fb2NsvsSOMBy83h4+NDVFQUb7zxBgDHjx/nypUrLTqHiEhHo8BfRERMRuB+5MgRMyC/Nc3HYNwQxMfHU1VVZfN6AC8vL8LDwwFISEiwmyv/ww8/8OWXXwIwffr0FpfXxcWFyZMnA5CcnGwzrsBw6tQp0tLS7L6+urq6yfO7u7ub/92cdCMRkY5Mgb+IiJga5/nv27cPcBz4G9uNaTg9PT0ZOHCgzTHLli3Dzc2NM2fOEB0dbebK19fXs3//fhYsWEBtbS0BAQHMmjWrVWX+wx/+gKenJ1euXGH+/Pnk5uYCDVN9pqens2DBArtTiRplj4qKIjk52WYl4rq6Ov773//y/vvvAzB8+PAWpyGJiHQ0yvEXERHT0KFDeeihh6iqqqKurg5/f3969Ohh91ijx9+Y+nLkyJFYrbY/KwMGDOC9994jJiaGrKwsZsyYQZcuXaipqeHGjRsAPP7443z00Ud4enq2qsw9evRg/fr1LF68mPz8fGbOnImnpyd1dXVUVVXh6+tLbGwsb7755m2vvXnzJtnZ2WRnZwMNuf4eHh6Ul5dTX18PgJ+fH++8806ryiYi0pGox19EREydOnUyV90Fx739AL1798bX19f8u3GaT2NTp04lNTWVWbNmERAQQHV1NRaLhf79+7N48WJ27dplsyJva0yYMIGdO3cybdo0unXrRk1NDd26dePVV1/ls88+w9/f3+7rJk6cyNq1a4mMjCQ0NJSuXbtSUVGBp6cnQ4YMYcmSJaSmpra5fCIiHYHLTWN1FREREREReWCpx19ERERExAko8BcRERERcQIK/EVEREREnIACfxERERERJ6DAX0RERETECSjwFxERERFxAgr8RUREREScgAJ/EREREREnoMBfRERERMQJKPAXEREREXECCvxFRERERJyAAn8RERERESegwF9ERERExAko8BcRERERcQL/ByWMMgm3j2+nAAAAAElFTkSuQmCC&#x27;, &#x27;text/plain&#x27;: &#x27;&lt;Figure size 800x600 with 1 Axes&gt;&#x27;}, &#x27;metadata&#x27;: {}, &#x27;output_type&#x27;: &#x27;display_data&#x27;}], &#x27;source&#x27;: &quot;train = train.reset_index(drop=True) # We must do this in order to preserve the ordering of emails to labels for words_in_texts.\\nwords_test = [&#x27;drug&#x27;, &#x27;bank&#x27;, &#x27;prescription&#x27;, &#x27;memo&#x27;, &#x27;private&#x27;]\\nword_isin = words_in_texts(words_test, train[&#x27;email&#x27;])\\ndf = pd.DataFrame(word_isin, columns = words_test)\\ncombine_df = pd.merge(train, df, left_index=True, right_index=True)\\n\\nspam_email_words = ((combine_df[combine_df[&#x27;spam&#x27;]==1])[words_test].sum()/(combine_df[combine_df[&#x27;spam&#x27;]==1])[words_test].count()).to_frame(name = &#x27;spam&#x27;).reset_index(names = &#x27;Words&#x27;)\\nham_email_words = ((combine_df[combine_df[&#x27;spam&#x27;]==0])[words_test].sum()/(combine_df[combine_df[&#x27;spam&#x27;]==0])[words_test].count()).to_frame(name = &#x27;ham&#x27;).reset_index(names = &#x27;Words&#x27;)\\n\\nproportion = ham_email_words.merge(spam_email_words, on = &#x27;Words&#x27; )\\n\\ndf_melted = pd.melt(proportion, id_vars=&#x27;Words&#x27;, var_name=&#x27;category&#x27;, value_name=&#x27;proportion&#x27;)\\n\\ntrain = train.reset_index(drop=True) # We must do this in order to preserve the ordering of emails to labels for words_in_texts.\\nplt.figure(figsize=(8,6))\\nsns.barplot(data=df_melted, x=&#x27;Words&#x27;, y=&#x27;proportion&#x27;, hue=&#x27;category&#x27;)\\nplt.title(&#x27;Proportion of Words in Spam/Ham Emails&#x27;)\\nplt.ylabel(&#x27;Proportion of Emails&#x27;)\\nplt.ylim(0, 1)\\n\\nplt.tight_layout()\\nplt.show()&quot;}, {&#x27;cell_type&#x27;: &#x27;markdown&#x27;, &#x27;metadata&#x27;: {}, &#x27;source&#x27;: &quot;The performance of the logistic regression classifier, my_model, may be suboptimal due to the word features selected in Question 4. The chosen words for detecting spam, such as &#x27;drug,&#x27; &#x27;bank,&#x27; &#x27;prescription,&#x27; &#x27;memo,&#x27; and &#x27;private,&#x27; may not be prevalent enough in the spam emails to serve as effective indicators. Upon analyzing the proportions of these words in the spam emails, it becomes evident that they appear in less than 10% of the spam emails, indicating a low prevalence.\\n\\nFurthermore, it&#x27;s noteworthy that the word &#x27;memo&#x27; actually appears more frequently in ham emails than in spam emails, making it an unreliable indicator of spam. The limited prevalence of these selected words, coupled with the ambiguity of &#x27;memo,&#x27; suggests that these features may not be robust enough to accurately distinguish between spam and ham emails.\\n\\nIn conclusion, the choice of word features and their respective proportions in the training set may contribute to the suboptimal performance of my_model in identifying spam emails.&quot;}, {&#x27;cell_type&#x27;: &#x27;markdown&#x27;, &#x27;metadata&#x27;: {&#x27;deletable&#x27;: False, &#x27;editable&#x27;: False}, &#x27;source&#x27;: &#x27;&lt;!-- #newpage --&gt;\\n&lt;!-- BEGIN QUESTION --&gt;\\n\\n&lt;br&gt;\\n\\n---\\n\\n## Question 6h\\n\\nWould you prefer to use the logistic regression classifier `my_model` or the zero predictor classifier for a spam filter? Why? Describe your reasoning and relate it to at least one of the evaluation metrics you have computed so far.&#x27;}, {&#x27;attachments&#x27;: {}, &#x27;cell_type&#x27;: &#x27;raw&#x27;, &#x27;metadata&#x27;: {}, &#x27;source&#x27;: &quot;Based on the analysis above:\\n- my_model accuracy:  0.7576201251164648\\n- zero predictor accuracy: 0.7447091707706642.\\n\\nThis shows that both the model have a relatively same accuracy.\\n\\nHowever, to determine whether my_model is a good classifier, we need to dive deep on the precision and recal:\\n- my_model precision: 0.64\\n- my_model recal: 0.11\\n- zero predictor precision: 0\\n- zero predictor recal: 0\\n\\nThis shows that my_model have a chance to detect the spam email (0.64), or when an email is considered spam, there is a chance of 64% is correct. The recal is quite small (0.11) which means that the model may not be able to indicate a spam email well enough. In my opinion, based on precision and recal of my_model, I&#x27;d rather use my_model for a spam filter because it has some capability to identify spam emails, making it a more suitable choice for a spam filter compared to the zero predictor, which essentially categorizes all emails as non-spam.&quot;}, {&#x27;cell_type&#x27;: &#x27;markdown&#x27;, &#x27;metadata&#x27;: {&#x27;deletable&#x27;: False, &#x27;editable&#x27;: False, &#x27;tags&#x27;: []}, &#x27;source&#x27;: &#x27;&lt;!-- #newpage --&gt;&#x27;}], &#x27;metadata&#x27;: {&#x27;kernelspec&#x27;: {&#x27;display_name&#x27;: &#x27;Python 3 (ipykernel)&#x27;, &#x27;language&#x27;: &#x27;python&#x27;, &#x27;name&#x27;: &#x27;python3&#x27;}, &#x27;language_info&#x27;: {&#x27;codemirror_mode&#x27;: {&#x27;name&#x27;: &#x27;ipython&#x27;, &#x27;version&#x27;: 3}, &#x27;file_extension&#x27;: &#x27;.py&#x27;, &#x27;mimetype&#x27;: &#x27;text/x-python&#x27;, &#x27;name&#x27;: &#x27;python&#x27;, &#x27;nbconvert_exporter&#x27;: &#x27;python&#x27;, &#x27;pygments_lexer&#x27;: &#x27;ipython3&#x27;, &#x27;version&#x27;: &#x27;3.11.0&#x27;}, &#x27;otter&#x27;: {&#x27;OK_FORMAT&#x27;: True, &#x27;tests&#x27;: {&#x27;q2&#x27;: {&#x27;name&#x27;: &#x27;q2&#x27;, &#x27;points&#x27;: 3, &#x27;suites&#x27;: [{&#x27;cases&#x27;: [{&#x27;code&#x27;: &#x27;&gt;&gt;&gt; # Checks that you return a NumPy Array\\n&gt;&gt;&gt; type(words_in_texts([], pd.Series([]))) == np.ndarray\\nTrue&#x27;, &#x27;hidden&#x27;: False, &#x27;locked&#x27;: False}, {&#x27;code&#x27;: &quot;&gt;&gt;&gt; # Checks the shape of a sample output: 2 rows (number of texts) x 3 columns (number of words)\\n&gt;&gt;&gt; words_in_texts([&#x27;hello&#x27;, &#x27;bye&#x27;, &#x27;world&#x27;], pd.Series([&#x27;hello&#x27;, &#x27;hello worldhello&#x27;])).shape == (2, 3)\\nTrue&quot;, &#x27;hidden&#x27;: False, &#x27;locked&#x27;: False}, {&#x27;code&#x27;: &quot;&gt;&gt;&gt; np.allclose(words_in_texts([&#x27;hello&#x27;, &#x27;bye&#x27;, &#x27;world&#x27;], \\n...                            pd.Series([&#x27;hello&#x27;, &#x27;hello worldhello&#x27;])),\\n...             np.array([[1, 0, 0], \\n...                       [1, 0, 1]]))\\nTrue&quot;, &#x27;hidden&#x27;: False, &#x27;locked&#x27;: False}, {&#x27;code&#x27;: &quot;&gt;&gt;&gt; np.allclose(words_in_texts([&#x27;a&#x27;, &#x27;b&#x27;, &#x27;c&#x27;, &#x27;d&#x27;, &#x27;e&#x27;, &#x27;f&#x27;, &#x27;g&#x27;], \\n...                            pd.Series([&#x27;a b c d ef g&#x27;, &#x27;a&#x27;, &#x27;b&#x27;, &#x27;c&#x27;, &#x27;d e f g&#x27;, &#x27;h&#x27;, &#x27;a h&#x27;])),\\n...             np.array([[1,1,1,1,1,1,1], \\n...                       [1,0,0,0,0,0,0],\\n...                       [0,1,0,0,0,0,0],\\n...                       [0,0,1,0,0,0,0],\\n...                       [0,0,0,1,1,1,1],\\n...                       [0,0,0,0,0,0,0],\\n...                       [1,0,0,0,0,0,0]]))\\nTrue&quot;, &#x27;hidden&#x27;: False, &#x27;locked&#x27;: False}], &#x27;scored&#x27;: True, &#x27;setup&#x27;: &#x27;&#x27;, &#x27;teardown&#x27;: &#x27;&#x27;, &#x27;type&#x27;: &#x27;doctest&#x27;}]}, &#x27;q4&#x27;: {&#x27;name&#x27;: &#x27;q4&#x27;, &#x27;points&#x27;: 2, &#x27;suites&#x27;: [{&#x27;cases&#x27;: [{&#x27;code&#x27;: &#x27;&gt;&gt;&gt; type(Y_train) == np.ndarray\\nTrue&#x27;, &#x27;hidden&#x27;: False, &#x27;locked&#x27;: False}, {&#x27;code&#x27;: &#x27;&gt;&gt;&gt; X_train.shape == (7513, 5)\\nTrue&#x27;, &#x27;hidden&#x27;: False, &#x27;locked&#x27;: False}, {&#x27;code&#x27;: &#x27;&gt;&gt;&gt; # X matrix should consist of only 0 or 1\\n&gt;&gt;&gt; np.array_equal(np.unique(X_train), np.array([0, 1]))\\nTrue&#x27;, &#x27;hidden&#x27;: False, &#x27;locked&#x27;: False}, {&#x27;code&#x27;: &#x27;&gt;&gt;&gt; # Y vector should consist of only 0 or 1\\n&gt;&gt;&gt; np.array_equal(np.unique(Y_train), np.array([0, 1]))\\nTrue&#x27;, &#x27;hidden&#x27;: False, &#x27;locked&#x27;: False}, {&#x27;code&#x27;: &#x27;&gt;&gt;&gt; # Check first 5 rows of X_train \\n&gt;&gt;&gt; np.all(X_train[:5] == np.array([[0, 0, 0, 0, 0], [0, 0, 0, 0, 0], [0, 0, 0, 0, 0], [0, 0, 0, 0, 0], [0, 0, 0, 1, 0]]))\\nTrue&#x27;, &#x27;hidden&#x27;: False, &#x27;locked&#x27;: False}, {&#x27;code&#x27;: &#x27;&gt;&gt;&gt; # Check first 5 rows of Y_train \\n&gt;&gt;&gt; np.all(Y_train[:5] == np.array([0, 0, 0, 0, 0]))\\nTrue&#x27;, &#x27;hidden&#x27;: False, &#x27;locked&#x27;: False}], &#x27;scored&#x27;: True, &#x27;setup&#x27;: &#x27;&#x27;, &#x27;teardown&#x27;: &#x27;&#x27;, &#x27;type&#x27;: &#x27;doctest&#x27;}]}, &#x27;q5&#x27;: {&#x27;name&#x27;: &#x27;q5&#x27;, &#x27;points&#x27;: 2, &#x27;suites&#x27;: [{&#x27;cases&#x27;: [{&#x27;code&#x27;: &#x27;&gt;&gt;&gt; training_accuracy &gt; 0.75\\nTrue&#x27;, &#x27;hidden&#x27;: False, &#x27;locked&#x27;: False}, {&#x27;code&#x27;: &#x27;&gt;&gt;&gt; np.allclose(my_model.coef_, np.array([[ 0.3876794 ,  1.41303343,  2.04437707, -0.53676679,  0.92334944]]))\\nTrue&#x27;, &#x27;hidden&#x27;: False, &#x27;locked&#x27;: False}], &#x27;scored&#x27;: True, &#x27;setup&#x27;: &#x27;&#x27;, &#x27;teardown&#x27;: &#x27;&#x27;, &#x27;type&#x27;: &#x27;doctest&#x27;}]}, &#x27;q6a&#x27;: {&#x27;name&#x27;: &#x27;q6a&#x27;, &#x27;points&#x27;: 1, &#x27;suites&#x27;: [{&#x27;cases&#x27;: [{&#x27;code&#x27;: &#x27;&gt;&gt;&gt; assert zero_predictor_fn &gt;= 0\\n&gt;&gt;&gt; assert zero_predictor_fp &gt;= 0\\n&#x27;, &#x27;hidden&#x27;: False, &#x27;locked&#x27;: False, &#x27;points&#x27;: 0}], &#x27;scored&#x27;: True, &#x27;setup&#x27;: &#x27;&#x27;, &#x27;teardown&#x27;: &#x27;&#x27;, &#x27;type&#x27;: &#x27;doctest&#x27;}]}, &#x27;q6b&#x27;: {&#x27;name&#x27;: &#x27;q6b&#x27;, &#x27;points&#x27;: 1, &#x27;suites&#x27;: [{&#x27;cases&#x27;: [{&#x27;code&#x27;: &#x27;&gt;&gt;&gt; assert 0 &lt;= zero_predictor_acc &lt;= 1\\n&gt;&gt;&gt; assert 0 &lt;= zero_predictor_recall &lt;= 1\\n&#x27;, &#x27;hidden&#x27;: False, &#x27;locked&#x27;: False, &#x27;points&#x27;: 0}], &#x27;scored&#x27;: True, &#x27;setup&#x27;: &#x27;&#x27;, &#x27;teardown&#x27;: &#x27;&#x27;, &#x27;type&#x27;: &#x27;doctest&#x27;}]}, &#x27;q6d&#x27;: {&#x27;name&#x27;: &#x27;q6d&#x27;, &#x27;points&#x27;: 2, &#x27;suites&#x27;: [{&#x27;cases&#x27;: [{&#x27;code&#x27;: &#x27;&gt;&gt;&gt; assert 0 &lt;= logistic_predictor_precision &lt;= 1\\n&gt;&gt;&gt; assert 0 &lt;= logistic_predictor_recall &lt;= 1\\n&gt;&gt;&gt; assert 0 &lt;= logistic_predictor_fpr &lt;= 1\\n&#x27;, &#x27;hidden&#x27;: False, &#x27;locked&#x27;: False, &#x27;points&#x27;: 0.5}], &#x27;scored&#x27;: True, &#x27;setup&#x27;: &#x27;&#x27;, &#x27;teardown&#x27;: &#x27;&#x27;, &#x27;type&#x27;: &#x27;doctest&#x27;}]}, &#x27;q6e&#x27;: {&#x27;name&#x27;: &#x27;q6e&#x27;, &#x27;points&#x27;: 1, &#x27;suites&#x27;: [{&#x27;cases&#x27;: [{&#x27;code&#x27;: &#x27;&gt;&gt;&gt; q6e in [True, False]\\nTrue&#x27;, &#x27;hidden&#x27;: False, &#x27;locked&#x27;: False, &#x27;points&#x27;: 0}], &#x27;scored&#x27;: True, &#x27;setup&#x27;: &#x27;&#x27;, &#x27;teardown&#x27;: &#x27;&#x27;, &#x27;type&#x27;: &#x27;doctest&#x27;}]}}}}, &#x27;nbformat&#x27;: 4, &#x27;nbformat_minor&#x27;: 4}\">nb</span>convert.TemplateExporter.template_name = <span class=\"variable\" data-tooltip=\"&lt;traitlets.traitlets.Unicode object at 0x7f3154682c50&gt;\">orig_template_name</span></span>\n",
       "</pre>\n",
       "<pre class='error-summary'><span style='color:#E75C58'>ExportFailedException</span>: There was an error generating your LaTeX; showing full error message:\n",
       "    Failed to run \"['xelatex', 'notebook.tex', '-quiet']\" command:\n",
       "    This is XeTeX, Version 3.141592653-2.6-0.999993 (TeX Live 2022/dev/Debian) (preloaded format=xelatex)\n",
       "     restricted \\write18 enabled.\n",
       "    entering extended mode\n",
       "    (./notebook.tex\n",
       "    LaTeX2e <2021-11-15> patch level 1\n",
       "    L3 programming layer <2022-01-21>\n",
       "    (/usr/share/texlive/texmf-dist/tex/latex/base/article.cls\n",
       "    Document Class: article 2021/10/04 v1.4n Standard LaTeX document class\n",
       "    (/usr/share/texlive/texmf-dist/tex/latex/base/size10.clo))\n",
       "    (/usr/share/texlive/texmf-dist/tex/latex/graphics/graphicx.sty\n",
       "    (/usr/share/texlive/texmf-dist/tex/latex/graphics/keyval.sty)\n",
       "    (/usr/share/texlive/texmf-dist/tex/latex/graphics/graphics.sty\n",
       "    (/usr/share/texlive/texmf-dist/tex/latex/graphics/trig.sty)\n",
       "    (/usr/share/texlive/texmf-dist/tex/latex/graphics-cfg/graphics.cfg)\n",
       "    (/usr/share/texlive/texmf-dist/tex/latex/graphics-def/xetex.def)))\n",
       "    (/usr/share/texlive/texmf-dist/tex/latex/caption/caption.sty\n",
       "    (/usr/share/texlive/texmf-dist/tex/latex/caption/caption3.sty))\n",
       "    (/usr/share/texlive/texmf-dist/tex/latex/float/float.sty)\n",
       "    (/usr/share/texlive/texmf-dist/tex/latex/xcolor/xcolor.sty\n",
       "    (/usr/share/texlive/texmf-dist/tex/latex/graphics-cfg/color.cfg))\n",
       "    (/usr/share/texlive/texmf-dist/tex/latex/tools/enumerate.sty)\n",
       "    (/usr/share/texlive/texmf-dist/tex/latex/geometry/geometry.sty\n",
       "    (/usr/share/texlive/texmf-dist/tex/generic/iftex/ifvtex.sty\n",
       "    (/usr/share/texlive/texmf-dist/tex/generic/iftex/iftex.sty)))\n",
       "    (/usr/share/texlive/texmf-dist/tex/latex/amsmath/amsmath.sty\n",
       "    For additional information on amsmath, use the `?' option.\n",
       "    (/usr/share/texlive/texmf-dist/tex/latex/amsmath/amstext.sty\n",
       "    (/usr/share/texlive/texmf-dist/tex/latex/amsmath/amsgen.sty))\n",
       "    (/usr/share/texlive/texmf-dist/tex/latex/amsmath/amsbsy.sty)\n",
       "    (/usr/share/texlive/texmf-dist/tex/latex/amsmath/amsopn.sty))\n",
       "    (/usr/share/texlive/texmf-dist/tex/latex/amsfonts/amssymb.sty\n",
       "    (/usr/share/texlive/texmf-dist/tex/latex/amsfonts/amsfonts.sty))\n",
       "    (/usr/share/texlive/texmf-dist/tex/latex/base/textcomp.sty)\n",
       "    (/usr/share/texlive/texmf-dist/tex/latex/upquote/upquote.sty)\n",
       "    (/usr/share/texlive/texmf-dist/tex/latex/eurosym/eurosym.sty)\n",
       "    (/usr/share/texlive/texmf-dist/tex/latex/fontspec/fontspec.sty\n",
       "    (/usr/share/texlive/texmf-dist/tex/latex/l3packages/xparse/xparse.sty\n",
       "    (/usr/share/texlive/texmf-dist/tex/latex/l3kernel/expl3.sty\n",
       "    (/usr/share/texlive/texmf-dist/tex/latex/l3backend/l3backend-xetex.def\n",
       "    (|extractbb --version))))\n",
       "    (/usr/share/texlive/texmf-dist/tex/latex/fontspec/fontspec-xetex.sty\n",
       "    (/usr/share/texlive/texmf-dist/tex/latex/base/fontenc.sty)\n",
       "    (/usr/share/texlive/texmf-dist/tex/latex/fontspec/fontspec.cfg)))\n",
       "    (/usr/share/texlive/texmf-dist/tex/latex/unicode-math/unicode-math.sty\n",
       "    (/usr/share/texlive/texmf-dist/tex/latex/unicode-math/unicode-math-xetex.sty\n",
       "    (/usr/share/texlive/texmf-dist/tex/latex/l3packages/l3keys2e/l3keys2e.sty)\n",
       "    (/usr/share/texlive/texmf-dist/tex/latex/base/fix-cm.sty\n",
       "    (/usr/share/texlive/texmf-dist/tex/latex/base/ts1enc.def))\n",
       "    (/usr/share/texlive/texmf-dist/tex/latex/unicode-math/unicode-math-table.tex)))\n",
       "    (/usr/share/texlive/texmf-dist/tex/latex/fancyvrb/fancyvrb.sty)\n",
       "    (/usr/share/texlive/texmf-dist/tex/latex/grffile/grffile.sty)\n",
       "    (/usr/share/texlive/texmf-dist/tex/latex/adjustbox/adjustbox.sty\n",
       "    (/usr/share/texlive/texmf-dist/tex/latex/xkeyval/xkeyval.sty\n",
       "    (/usr/share/texlive/texmf-dist/tex/generic/xkeyval/xkeyval.tex\n",
       "    (/usr/share/texlive/texmf-dist/tex/generic/xkeyval/xkvutils.tex)))\n",
       "    (/usr/share/texlive/texmf-dist/tex/latex/adjustbox/adjcalc.sty)\n",
       "    (/usr/share/texlive/texmf-dist/tex/latex/adjustbox/trimclip.sty\n",
       "    (/usr/share/texlive/texmf-dist/tex/latex/collectbox/collectbox.sty)\n",
       "    (/usr/share/texlive/texmf-dist/tex/latex/adjustbox/tc-xetex.def))\n",
       "    (/usr/share/texlive/texmf-dist/tex/latex/ifoddpage/ifoddpage.sty)\n",
       "    (/usr/share/texlive/texmf-dist/tex/latex/varwidth/varwidth.sty))\n",
       "    (/usr/share/texlive/texmf-dist/tex/latex/hyperref/hyperref.sty\n",
       "    (/usr/share/texlive/texmf-dist/tex/generic/ltxcmds/ltxcmds.sty)\n",
       "    (/usr/share/texlive/texmf-dist/tex/generic/pdftexcmds/pdftexcmds.sty\n",
       "    (/usr/share/texlive/texmf-dist/tex/generic/infwarerr/infwarerr.sty))\n",
       "    (/usr/share/texlive/texmf-dist/tex/generic/kvsetkeys/kvsetkeys.sty)\n",
       "    (/usr/share/texlive/texmf-dist/tex/generic/kvdefinekeys/kvdefinekeys.sty)\n",
       "    (/usr/share/texlive/texmf-dist/tex/generic/pdfescape/pdfescape.sty)\n",
       "    (/usr/share/texlive/texmf-dist/tex/latex/hycolor/hycolor.sty)\n",
       "    (/usr/share/texlive/texmf-dist/tex/latex/letltxmacro/letltxmacro.sty)\n",
       "    (/usr/share/texlive/texmf-dist/tex/latex/auxhook/auxhook.sty)\n",
       "    (/usr/share/texlive/texmf-dist/tex/latex/kvoptions/kvoptions.sty)\n",
       "    (/usr/share/texlive/texmf-dist/tex/latex/hyperref/pd1enc.def)\n",
       "    (/usr/share/texlive/texmf-dist/tex/latex/hyperref/hyperref-langpatches.def)\n",
       "    (/usr/share/texlive/texmf-dist/tex/generic/intcalc/intcalc.sty)\n",
       "    (/usr/share/texlive/texmf-dist/tex/generic/etexcmds/etexcmds.sty)\n",
       "    (/usr/share/texlive/texmf-dist/tex/latex/hyperref/puenc.def)\n",
       "    (/usr/share/texlive/texmf-dist/tex/latex/url/url.sty)\n",
       "    (/usr/share/texlive/texmf-dist/tex/generic/bitset/bitset.sty\n",
       "    (/usr/share/texlive/texmf-dist/tex/generic/bigintcalc/bigintcalc.sty))\n",
       "    (/usr/share/texlive/texmf-dist/tex/latex/base/atbegshi-ltx.sty))\n",
       "    (/usr/share/texlive/texmf-dist/tex/latex/hyperref/hxetex.def\n",
       "    (/usr/share/texlive/texmf-dist/tex/generic/stringenc/stringenc.sty)\n",
       "    (/usr/share/texlive/texmf-dist/tex/latex/rerunfilecheck/rerunfilecheck.sty\n",
       "    (/usr/share/texlive/texmf-dist/tex/latex/base/atveryend-ltx.sty)\n",
       "    (/usr/share/texlive/texmf-dist/tex/generic/uniquecounter/uniquecounter.sty)))\n",
       "    (/usr/share/texlive/texmf-dist/tex/latex/titling/titling.sty)\n",
       "    (/usr/share/texlive/texmf-dist/tex/latex/tools/longtable.sty)\n",
       "    (/usr/share/texlive/texmf-dist/tex/latex/booktabs/booktabs.sty)\n",
       "    (/usr/share/texlive/texmf-dist/tex/latex/tools/array.sty)\n",
       "    (/usr/share/texlive/texmf-dist/tex/latex/tools/calc.sty)\n",
       "    (/usr/share/texlive/texmf-dist/tex/latex/enumitem/enumitem.sty)\n",
       "    (/usr/share/texlive/texmf-dist/tex/generic/ulem/ulem.sty)\n",
       "    (/usr/share/texlive/texmf-dist/tex/generic/soul/soul.sty)\n",
       "    (/usr/share/texlive/texmf-dist/tex/latex/jknapltx/mathrsfs.sty)\n",
       "    No file notebook.aux.\n",
       "    (/usr/share/texlive/texmf-dist/tex/latex/caption/ltcaption.sty)\n",
       "    *geometry* driver: auto-detecting\n",
       "    *geometry* detected driver: xetex\n",
       "\n",
       "    Package geometry Warning: The marginal notes overrun the paper.\n",
       "         Add 3.73001pt and more to the right margin.\n",
       "\n",
       "    *geometry* verbose mode - [ preamble ] result:\n",
       "    * driver: xetex\n",
       "    * paper: <default>\n",
       "    * layout: <same size as paper>\n",
       "    * layoutoffset:(h,v)=(0.0pt,0.0pt)\n",
       "    * modes: \n",
       "    * h-part:(L,W,R)=(72.26999pt, 469.75502pt, 72.26999pt)\n",
       "    * v-part:(T,H,B)=(72.26999pt, 650.43001pt, 72.26999pt)\n",
       "    * \\paperwidth=614.295pt\n",
       "    * \\paperheight=794.96999pt\n",
       "    * \\textwidth=469.75502pt\n",
       "    * \\textheight=650.43001pt\n",
       "    * \\oddsidemargin=0.0pt\n",
       "    * \\evensidemargin=0.0pt\n",
       "    * \\topmargin=-37.0pt\n",
       "    * \\headheight=12.0pt\n",
       "    * \\headsep=25.0pt\n",
       "    * \\topskip=10.0pt\n",
       "    * \\footskip=30.0pt\n",
       "    * \\marginparwidth=65.0pt\n",
       "    * \\marginparsep=11.0pt\n",
       "    * \\columnsep=10.0pt\n",
       "    * \\skip\\footins=9.0pt plus 4.0pt minus 2.0pt\n",
       "    * \\hoffset=0.0pt\n",
       "    * \\voffset=0.0pt\n",
       "    * \\mag=1000\n",
       "    * \\@twocolumnfalse\n",
       "    * \\@twosidefalse\n",
       "    * \\@mparswitchfalse\n",
       "    * \\@reversemarginfalse\n",
       "    * (1in=72.27pt=25.4mm, 1cm=28.453pt)\n",
       "\n",
       "    (/usr/share/texlive/texmf-dist/tex/latex/hyperref/nameref.sty\n",
       "    (/usr/share/texlive/texmf-dist/tex/latex/refcount/refcount.sty)\n",
       "    (/usr/share/texlive/texmf-dist/tex/generic/gettitlestring/gettitlestring.sty))\n",
       "\n",
       "    Package hyperref Warning: Rerun to get /PageLabels entry.\n",
       "\n",
       "    [1] [2] [3]\n",
       "    Underfull \\hbox (badness 10000) in paragraph at lines 377--378\n",
       "\n",
       "    [4]\n",
       "    Underfull \\hbox (badness 1303) in paragraph at lines 387--391\n",
       "    \\TU/lmr/m/n/10 Explain your results in Question 6a and Question 6b. How did you\n",
       "     know what to assign to\n",
       "\n",
       "    Underfull \\hbox (badness 1546) in paragraph at lines 409--411\n",
       "    []\\TU/lmr/m/n/10 Zero_predictor_recall is assigned to zero because the zero pre\n",
       "    dictor fp is zero divided by\n",
       "    [5] [6] [7] [8] [9]\n",
       "    Underfull \\hbox (badness 10000) in paragraph at lines 474--475\n",
       "\n",
       "    [10]\n",
       "    ! Missing $ inserted.\n",
       "    <inserted text> \n",
       "                    $\n",
       "    l.507 - my_\n",
       "               model accuracy:  0.7576201251164648\n",
       "    ? \n",
       "    ! Emergency stop.\n",
       "    <inserted text> \n",
       "                    $\n",
       "    l.507 - my_\n",
       "               model accuracy:  0.7576201251164648\n",
       "    Output written on notebook.pdf (10 pages).\n",
       "    Transcript written on notebook.log.\n",
       "</pre>\n",
       "</div>"
      ],
      "text/plain": [
       "<IPython.core.display.HTML object>"
      ]
     },
     "metadata": {},
     "output_type": "display_data"
    }
   ],
   "source": [
    "# Save your notebook first, then run this cell to export your submission.\n",
    "grader.export(run_tests=True)"
   ]
  },
  {
   "cell_type": "markdown",
   "metadata": {},
   "source": [
    " "
   ]
  }
 ],
 "metadata": {
  "kernelspec": {
   "display_name": "Python 3 (ipykernel)",
   "language": "python",
   "name": "python3"
  },
  "language_info": {
   "codemirror_mode": {
    "name": "ipython",
    "version": 3
   },
   "file_extension": ".py",
   "mimetype": "text/x-python",
   "name": "python",
   "nbconvert_exporter": "python",
   "pygments_lexer": "ipython3",
   "version": "3.11.0"
  },
  "otter": {
   "OK_FORMAT": true,
   "tests": {
    "q2": {
     "name": "q2",
     "points": 3,
     "suites": [
      {
       "cases": [
        {
         "code": ">>> # Checks that you return a NumPy Array\n>>> type(words_in_texts([], pd.Series([]))) == np.ndarray\nTrue",
         "hidden": false,
         "locked": false
        },
        {
         "code": ">>> # Checks the shape of a sample output: 2 rows (number of texts) x 3 columns (number of words)\n>>> words_in_texts(['hello', 'bye', 'world'], pd.Series(['hello', 'hello worldhello'])).shape == (2, 3)\nTrue",
         "hidden": false,
         "locked": false
        },
        {
         "code": ">>> np.allclose(words_in_texts(['hello', 'bye', 'world'], \n...                            pd.Series(['hello', 'hello worldhello'])),\n...             np.array([[1, 0, 0], \n...                       [1, 0, 1]]))\nTrue",
         "hidden": false,
         "locked": false
        },
        {
         "code": ">>> np.allclose(words_in_texts(['a', 'b', 'c', 'd', 'e', 'f', 'g'], \n...                            pd.Series(['a b c d ef g', 'a', 'b', 'c', 'd e f g', 'h', 'a h'])),\n...             np.array([[1,1,1,1,1,1,1], \n...                       [1,0,0,0,0,0,0],\n...                       [0,1,0,0,0,0,0],\n...                       [0,0,1,0,0,0,0],\n...                       [0,0,0,1,1,1,1],\n...                       [0,0,0,0,0,0,0],\n...                       [1,0,0,0,0,0,0]]))\nTrue",
         "hidden": false,
         "locked": false
        }
       ],
       "scored": true,
       "setup": "",
       "teardown": "",
       "type": "doctest"
      }
     ]
    },
    "q4": {
     "name": "q4",
     "points": 2,
     "suites": [
      {
       "cases": [
        {
         "code": ">>> type(Y_train) == np.ndarray\nTrue",
         "hidden": false,
         "locked": false
        },
        {
         "code": ">>> X_train.shape == (7513, 5)\nTrue",
         "hidden": false,
         "locked": false
        },
        {
         "code": ">>> # X matrix should consist of only 0 or 1\n>>> np.array_equal(np.unique(X_train), np.array([0, 1]))\nTrue",
         "hidden": false,
         "locked": false
        },
        {
         "code": ">>> # Y vector should consist of only 0 or 1\n>>> np.array_equal(np.unique(Y_train), np.array([0, 1]))\nTrue",
         "hidden": false,
         "locked": false
        },
        {
         "code": ">>> # Check first 5 rows of X_train \n>>> np.all(X_train[:5] == np.array([[0, 0, 0, 0, 0], [0, 0, 0, 0, 0], [0, 0, 0, 0, 0], [0, 0, 0, 0, 0], [0, 0, 0, 1, 0]]))\nTrue",
         "hidden": false,
         "locked": false
        },
        {
         "code": ">>> # Check first 5 rows of Y_train \n>>> np.all(Y_train[:5] == np.array([0, 0, 0, 0, 0]))\nTrue",
         "hidden": false,
         "locked": false
        }
       ],
       "scored": true,
       "setup": "",
       "teardown": "",
       "type": "doctest"
      }
     ]
    },
    "q5": {
     "name": "q5",
     "points": 2,
     "suites": [
      {
       "cases": [
        {
         "code": ">>> training_accuracy > 0.75\nTrue",
         "hidden": false,
         "locked": false
        },
        {
         "code": ">>> np.allclose(my_model.coef_, np.array([[ 0.3876794 ,  1.41303343,  2.04437707, -0.53676679,  0.92334944]]))\nTrue",
         "hidden": false,
         "locked": false
        }
       ],
       "scored": true,
       "setup": "",
       "teardown": "",
       "type": "doctest"
      }
     ]
    },
    "q6a": {
     "name": "q6a",
     "points": 1,
     "suites": [
      {
       "cases": [
        {
         "code": ">>> assert zero_predictor_fn >= 0\n>>> assert zero_predictor_fp >= 0\n",
         "hidden": false,
         "locked": false,
         "points": 0
        }
       ],
       "scored": true,
       "setup": "",
       "teardown": "",
       "type": "doctest"
      }
     ]
    },
    "q6b": {
     "name": "q6b",
     "points": 1,
     "suites": [
      {
       "cases": [
        {
         "code": ">>> assert 0 <= zero_predictor_acc <= 1\n>>> assert 0 <= zero_predictor_recall <= 1\n",
         "hidden": false,
         "locked": false,
         "points": 0
        }
       ],
       "scored": true,
       "setup": "",
       "teardown": "",
       "type": "doctest"
      }
     ]
    },
    "q6d": {
     "name": "q6d",
     "points": 2,
     "suites": [
      {
       "cases": [
        {
         "code": ">>> assert 0 <= logistic_predictor_precision <= 1\n>>> assert 0 <= logistic_predictor_recall <= 1\n>>> assert 0 <= logistic_predictor_fpr <= 1\n",
         "hidden": false,
         "locked": false,
         "points": 0.5
        }
       ],
       "scored": true,
       "setup": "",
       "teardown": "",
       "type": "doctest"
      }
     ]
    },
    "q6e": {
     "name": "q6e",
     "points": 1,
     "suites": [
      {
       "cases": [
        {
         "code": ">>> q6e in [True, False]\nTrue",
         "hidden": false,
         "locked": false,
         "points": 0
        }
       ],
       "scored": true,
       "setup": "",
       "teardown": "",
       "type": "doctest"
      }
     ]
    }
   }
  }
 },
 "nbformat": 4,
 "nbformat_minor": 4
}
